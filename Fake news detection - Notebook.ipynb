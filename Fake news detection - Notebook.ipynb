{
 "cells": [
  {
   "cell_type": "code",
   "execution_count": 1,
   "metadata": {
    "colab": {
     "base_uri": "https://localhost:8080/"
    },
    "id": "sy1_noHPjGpg",
    "outputId": "0bea98d5-e272-4b15-ee16-223eca331714"
   },
   "outputs": [
    {
     "name": "stdout",
     "output_type": "stream",
     "text": [
      "Looking in indexes: https://pypi.org/simple, https://us-python.pkg.dev/colab-wheels/public/simple/\n",
      "Requirement already satisfied: newspaper3k in /usr/local/lib/python3.7/dist-packages (0.2.8)\n",
      "Requirement already satisfied: lxml>=3.6.0 in /usr/local/lib/python3.7/dist-packages (from newspaper3k) (4.9.1)\n",
      "Requirement already satisfied: feedparser>=5.2.1 in /usr/local/lib/python3.7/dist-packages (from newspaper3k) (6.0.10)\n",
      "Requirement already satisfied: nltk>=3.2.1 in /usr/local/lib/python3.7/dist-packages (from newspaper3k) (3.7)\n",
      "Requirement already satisfied: tinysegmenter==0.3 in /usr/local/lib/python3.7/dist-packages (from newspaper3k) (0.3)\n",
      "Requirement already satisfied: python-dateutil>=2.5.3 in /usr/local/lib/python3.7/dist-packages (from newspaper3k) (2.8.2)\n",
      "Requirement already satisfied: tldextract>=2.0.1 in /usr/local/lib/python3.7/dist-packages (from newspaper3k) (3.4.0)\n",
      "Requirement already satisfied: PyYAML>=3.11 in /usr/local/lib/python3.7/dist-packages (from newspaper3k) (6.0)\n",
      "Requirement already satisfied: Pillow>=3.3.0 in /usr/local/lib/python3.7/dist-packages (from newspaper3k) (7.1.2)\n",
      "Requirement already satisfied: cssselect>=0.9.2 in /usr/local/lib/python3.7/dist-packages (from newspaper3k) (1.2.0)\n",
      "Requirement already satisfied: beautifulsoup4>=4.4.1 in /usr/local/lib/python3.7/dist-packages (from newspaper3k) (4.6.3)\n",
      "Requirement already satisfied: feedfinder2>=0.0.4 in /usr/local/lib/python3.7/dist-packages (from newspaper3k) (0.0.4)\n",
      "Requirement already satisfied: jieba3k>=0.35.1 in /usr/local/lib/python3.7/dist-packages (from newspaper3k) (0.35.1)\n",
      "Requirement already satisfied: requests>=2.10.0 in /usr/local/lib/python3.7/dist-packages (from newspaper3k) (2.23.0)\n",
      "Requirement already satisfied: six in /usr/local/lib/python3.7/dist-packages (from feedfinder2>=0.0.4->newspaper3k) (1.15.0)\n",
      "Requirement already satisfied: sgmllib3k in /usr/local/lib/python3.7/dist-packages (from feedparser>=5.2.1->newspaper3k) (1.0.0)\n",
      "Requirement already satisfied: tqdm in /usr/local/lib/python3.7/dist-packages (from nltk>=3.2.1->newspaper3k) (4.64.1)\n",
      "Requirement already satisfied: regex>=2021.8.3 in /usr/local/lib/python3.7/dist-packages (from nltk>=3.2.1->newspaper3k) (2022.6.2)\n",
      "Requirement already satisfied: click in /usr/local/lib/python3.7/dist-packages (from nltk>=3.2.1->newspaper3k) (7.1.2)\n",
      "Requirement already satisfied: joblib in /usr/local/lib/python3.7/dist-packages (from nltk>=3.2.1->newspaper3k) (1.2.0)\n",
      "Requirement already satisfied: idna<3,>=2.5 in /usr/local/lib/python3.7/dist-packages (from requests>=2.10.0->newspaper3k) (2.10)\n",
      "Requirement already satisfied: chardet<4,>=3.0.2 in /usr/local/lib/python3.7/dist-packages (from requests>=2.10.0->newspaper3k) (3.0.4)\n",
      "Requirement already satisfied: urllib3!=1.25.0,!=1.25.1,<1.26,>=1.21.1 in /usr/local/lib/python3.7/dist-packages (from requests>=2.10.0->newspaper3k) (1.24.3)\n",
      "Requirement already satisfied: certifi>=2017.4.17 in /usr/local/lib/python3.7/dist-packages (from requests>=2.10.0->newspaper3k) (2022.9.24)\n",
      "Requirement already satisfied: requests-file>=1.4 in /usr/local/lib/python3.7/dist-packages (from tldextract>=2.0.1->newspaper3k) (1.5.1)\n",
      "Requirement already satisfied: filelock>=3.0.8 in /usr/local/lib/python3.7/dist-packages (from tldextract>=2.0.1->newspaper3k) (3.8.0)\n"
     ]
    }
   ],
   "source": [
    "# !pip install newspaper3k"
   ]
  },
  {
   "cell_type": "markdown",
   "metadata": {},
   "source": [
    "### Summary Extraction using Newspaper3k"
   ]
  },
  {
   "cell_type": "code",
   "execution_count": 2,
   "metadata": {
    "id": "izSm5DQDjGTv"
   },
   "outputs": [],
   "source": [
    "from newspaper import Article\n",
    "from newspaper import Config\n",
    "import nltk\n",
    "import pandas as pd\n",
    "#The user agent has to be obtained from the https://www.whatismybrowser.com/detect/what-is-my-user-agent for running on your system!\n",
    "user_agent = \"Mozilla/5.0 (Windows NT 10.0; Win64; x64) AppleWebKit/537.36 (KHTML, like Gecko) Chrome/107.0.0.0 Safari/537.36\"\n",
    "config = Config()\n",
    "config.browser_user_agent = user_agent"
   ]
  },
  {
   "cell_type": "code",
   "execution_count": 3,
   "metadata": {
    "id": "L1E5XtKCjGJX"
   },
   "outputs": [],
   "source": [
    "url =\"https://colombiacheck.com/index.php/chequeos/cifras-de-covid-19-en-vacunados-de-israel-son-usadas-para-desinformar-sobre-las-vacunas\""
   ]
  },
  {
   "cell_type": "code",
   "execution_count": 4,
   "metadata": {
    "colab": {
     "base_uri": "https://localhost:8080/"
    },
    "id": "SbO6s3CPjcRE",
    "outputId": "26b5d185-d4a0-423b-ab4b-78fe7d343b66"
   },
   "outputs": [
    {
     "name": "stdout",
     "output_type": "stream",
     "text": [
      "Diversos medios (1,2,3, 4, 5) que verificaron lo que se está difundiendo erróneamente de esta situación por COVID-19 tanto en Israel como en otros países como Inglaterra, también llegaron a esta conclusión.\n",
      "Entonces los datos que publicó Zioni en sus tablas replicadas en Trikooba, así como en las otras publicaciones en redes sociales, son ciertos.\n",
      "Debido a esta paradoja, la tendencia que se ve en un grupo de datos puede ser contraria a la que se encuentra al desagregarlos.\n",
      "Y los casos severos y muertes en los últimos 3 meses en adultos mayores de 60 años, también han afectado más a los no vacunados.\n",
      "La circulación de la variante delta, altamente transmisible y la relajación en las medidas tomadas por la pandemia son factores que influyeron en el nuevo pico que vive Israel.\n"
     ]
    },
    {
     "name": "stderr",
     "output_type": "stream",
     "text": [
      "[nltk_data] Downloading package punkt to /root/nltk_data...\n",
      "[nltk_data]   Package punkt is already up-to-date!\n"
     ]
    }
   ],
   "source": [
    "news = Article(url,lang='es', config=config) \n",
    "news.download()\n",
    "news.parse()\n",
    "nltk.download('punkt')\n",
    "news.nlp()\n",
    "# Extract summary\n",
    "print(news.summary)"
   ]
  },
  {
   "cell_type": "code",
   "execution_count": 5,
   "metadata": {
    "colab": {
     "base_uri": "https://localhost:8080/"
    },
    "id": "dPY6rX0Fj5qm",
    "outputId": "0efb4050-68d5-41db-bc86-ff84e449e6be"
   },
   "outputs": [
    {
     "name": "stdout",
     "output_type": "stream",
     "text": [
      "Drive already mounted at /content/drive; to attempt to forcibly remount, call drive.mount(\"/content/drive\", force_remount=True).\n"
     ]
    }
   ],
   "source": [
    "# from google.colab import drive \n",
    "# drive.mount('/content/drive')"
   ]
  },
  {
   "cell_type": "code",
   "execution_count": 11,
   "metadata": {
    "id": "8GoqgRYZj5qo"
   },
   "outputs": [],
   "source": [
    "#Reading the training data\n",
    "data = pd.read_csv('train.csv')"
   ]
  },
  {
   "cell_type": "code",
   "execution_count": 12,
   "metadata": {
    "colab": {
     "base_uri": "https://localhost:8080/"
    },
    "id": "mxWhOeQHj5qp",
    "outputId": "a1a9435d-3ba1-4eee-f3ac-501d88e02b20"
   },
   "outputs": [
    {
     "name": "stderr",
     "output_type": "stream",
     "text": [
      "ERROR:urllib3.connection:Certificate did not match expected hostname: www.colombiacheck.com. Certificate: {'subject': ((('commonName', 'colombiacheck.com'),),), 'issuer': ((('countryName', 'US'),), (('organizationName', 'Google Trust Services LLC'),), (('commonName', 'GTS CA 1D4'),)), 'version': 3, 'serialNumber': '012DBDF1B5C3D3CC09E8B2846020711C', 'notBefore': 'Nov 10 16:28:13 2022 GMT', 'notAfter': 'Feb  8 16:28:12 2023 GMT', 'subjectAltName': (('DNS', 'colombiacheck.com'),), 'OCSP': ('http://ocsp.pki.goog/s/gts1d4/E1Je8Sfi38o',), 'caIssuers': ('http://pki.goog/repo/certs/gts1d4.der',), 'crlDistributionPoints': ('http://crls.pki.goog/gts1d4/KLT9VNR8wwI.crl',)}\n",
      "Building prefix dict from /usr/local/lib/python3.7/dist-packages/jieba/dict.txt ...\n",
      "DEBUG:jieba:Building prefix dict from /usr/local/lib/python3.7/dist-packages/jieba/dict.txt ...\n",
      "Dumping model to file cache /tmp/jieba.cache\n",
      "DEBUG:jieba:Dumping model to file cache /tmp/jieba.cache\n",
      "Loading model cost 1.5309991836547852 seconds.\n",
      "DEBUG:jieba:Loading model cost 1.5309991836547852 seconds.\n",
      "Prefix dict has been built succesfully.\n",
      "DEBUG:jieba:Prefix dict has been built succesfully.\n",
      "ERROR:urllib3.connection:Certificate did not match expected hostname: www.colombiacheck.com. Certificate: {'subject': ((('commonName', 'colombiacheck.com'),),), 'issuer': ((('countryName', 'US'),), (('organizationName', 'Google Trust Services LLC'),), (('commonName', 'GTS CA 1D4'),)), 'version': 3, 'serialNumber': '012DBDF1B5C3D3CC09E8B2846020711C', 'notBefore': 'Nov 10 16:28:13 2022 GMT', 'notAfter': 'Feb  8 16:28:12 2023 GMT', 'subjectAltName': (('DNS', 'colombiacheck.com'),), 'OCSP': ('http://ocsp.pki.goog/s/gts1d4/E1Je8Sfi38o',), 'caIssuers': ('http://pki.goog/repo/certs/gts1d4.der',), 'crlDistributionPoints': ('http://crls.pki.goog/gts1d4/KLT9VNR8wwI.crl',)}\n",
      "ERROR:urllib3.connection:Certificate did not match expected hostname: www.colombiacheck.com. Certificate: {'subject': ((('commonName', 'colombiacheck.com'),),), 'issuer': ((('countryName', 'US'),), (('organizationName', 'Google Trust Services LLC'),), (('commonName', 'GTS CA 1D4'),)), 'version': 3, 'serialNumber': '012DBDF1B5C3D3CC09E8B2846020711C', 'notBefore': 'Nov 10 16:28:13 2022 GMT', 'notAfter': 'Feb  8 16:28:12 2023 GMT', 'subjectAltName': (('DNS', 'colombiacheck.com'),), 'OCSP': ('http://ocsp.pki.goog/s/gts1d4/E1Je8Sfi38o',), 'caIssuers': ('http://pki.goog/repo/certs/gts1d4.der',), 'crlDistributionPoints': ('http://crls.pki.goog/gts1d4/KLT9VNR8wwI.crl',)}\n",
      "ERROR:urllib3.connection:Certificate did not match expected hostname: www.colombiacheck.com. Certificate: {'subject': ((('commonName', 'colombiacheck.com'),),), 'issuer': ((('countryName', 'US'),), (('organizationName', 'Google Trust Services LLC'),), (('commonName', 'GTS CA 1D4'),)), 'version': 3, 'serialNumber': '012DBDF1B5C3D3CC09E8B2846020711C', 'notBefore': 'Nov 10 16:28:13 2022 GMT', 'notAfter': 'Feb  8 16:28:12 2023 GMT', 'subjectAltName': (('DNS', 'colombiacheck.com'),), 'OCSP': ('http://ocsp.pki.goog/s/gts1d4/E1Je8Sfi38o',), 'caIssuers': ('http://pki.goog/repo/certs/gts1d4.der',), 'crlDistributionPoints': ('http://crls.pki.goog/gts1d4/KLT9VNR8wwI.crl',)}\n",
      "ERROR:urllib3.connection:Certificate did not match expected hostname: www.colombiacheck.com. Certificate: {'subject': ((('commonName', 'colombiacheck.com'),),), 'issuer': ((('countryName', 'US'),), (('organizationName', 'Google Trust Services LLC'),), (('commonName', 'GTS CA 1D4'),)), 'version': 3, 'serialNumber': '012DBDF1B5C3D3CC09E8B2846020711C', 'notBefore': 'Nov 10 16:28:13 2022 GMT', 'notAfter': 'Feb  8 16:28:12 2023 GMT', 'subjectAltName': (('DNS', 'colombiacheck.com'),), 'OCSP': ('http://ocsp.pki.goog/s/gts1d4/E1Je8Sfi38o',), 'caIssuers': ('http://pki.goog/repo/certs/gts1d4.der',), 'crlDistributionPoints': ('http://crls.pki.goog/gts1d4/KLT9VNR8wwI.crl',)}\n",
      "ERROR:urllib3.connection:Certificate did not match expected hostname: www.colombiacheck.com. Certificate: {'subject': ((('commonName', 'colombiacheck.com'),),), 'issuer': ((('countryName', 'US'),), (('organizationName', 'Google Trust Services LLC'),), (('commonName', 'GTS CA 1D4'),)), 'version': 3, 'serialNumber': '012DBDF1B5C3D3CC09E8B2846020711C', 'notBefore': 'Nov 10 16:28:13 2022 GMT', 'notAfter': 'Feb  8 16:28:12 2023 GMT', 'subjectAltName': (('DNS', 'colombiacheck.com'),), 'OCSP': ('http://ocsp.pki.goog/s/gts1d4/E1Je8Sfi38o',), 'caIssuers': ('http://pki.goog/repo/certs/gts1d4.der',), 'crlDistributionPoints': ('http://crls.pki.goog/gts1d4/KLT9VNR8wwI.crl',)}\n",
      "ERROR:urllib3.connection:Certificate did not match expected hostname: www.colombiacheck.com. Certificate: {'subject': ((('commonName', 'colombiacheck.com'),),), 'issuer': ((('countryName', 'US'),), (('organizationName', 'Google Trust Services LLC'),), (('commonName', 'GTS CA 1D4'),)), 'version': 3, 'serialNumber': '012DBDF1B5C3D3CC09E8B2846020711C', 'notBefore': 'Nov 10 16:28:13 2022 GMT', 'notAfter': 'Feb  8 16:28:12 2023 GMT', 'subjectAltName': (('DNS', 'colombiacheck.com'),), 'OCSP': ('http://ocsp.pki.goog/s/gts1d4/E1Je8Sfi38o',), 'caIssuers': ('http://pki.goog/repo/certs/gts1d4.der',), 'crlDistributionPoints': ('http://crls.pki.goog/gts1d4/KLT9VNR8wwI.crl',)}\n",
      "ERROR:urllib3.connection:Certificate did not match expected hostname: www.colombiacheck.com. Certificate: {'subject': ((('commonName', 'colombiacheck.com'),),), 'issuer': ((('countryName', 'US'),), (('organizationName', 'Google Trust Services LLC'),), (('commonName', 'GTS CA 1D4'),)), 'version': 3, 'serialNumber': '012DBDF1B5C3D3CC09E8B2846020711C', 'notBefore': 'Nov 10 16:28:13 2022 GMT', 'notAfter': 'Feb  8 16:28:12 2023 GMT', 'subjectAltName': (('DNS', 'colombiacheck.com'),), 'OCSP': ('http://ocsp.pki.goog/s/gts1d4/E1Je8Sfi38o',), 'caIssuers': ('http://pki.goog/repo/certs/gts1d4.der',), 'crlDistributionPoints': ('http://crls.pki.goog/gts1d4/KLT9VNR8wwI.crl',)}\n",
      "ERROR:urllib3.connection:Certificate did not match expected hostname: www.colombiacheck.com. Certificate: {'subject': ((('commonName', 'colombiacheck.com'),),), 'issuer': ((('countryName', 'US'),), (('organizationName', 'Google Trust Services LLC'),), (('commonName', 'GTS CA 1D4'),)), 'version': 3, 'serialNumber': '012DBDF1B5C3D3CC09E8B2846020711C', 'notBefore': 'Nov 10 16:28:13 2022 GMT', 'notAfter': 'Feb  8 16:28:12 2023 GMT', 'subjectAltName': (('DNS', 'colombiacheck.com'),), 'OCSP': ('http://ocsp.pki.goog/s/gts1d4/E1Je8Sfi38o',), 'caIssuers': ('http://pki.goog/repo/certs/gts1d4.der',), 'crlDistributionPoints': ('http://crls.pki.goog/gts1d4/KLT9VNR8wwI.crl',)}\n",
      "ERROR:urllib3.connection:Certificate did not match expected hostname: www.colombiacheck.com. Certificate: {'subject': ((('commonName', 'colombiacheck.com'),),), 'issuer': ((('countryName', 'US'),), (('organizationName', 'Google Trust Services LLC'),), (('commonName', 'GTS CA 1D4'),)), 'version': 3, 'serialNumber': '012DBDF1B5C3D3CC09E8B2846020711C', 'notBefore': 'Nov 10 16:28:13 2022 GMT', 'notAfter': 'Feb  8 16:28:12 2023 GMT', 'subjectAltName': (('DNS', 'colombiacheck.com'),), 'OCSP': ('http://ocsp.pki.goog/s/gts1d4/E1Je8Sfi38o',), 'caIssuers': ('http://pki.goog/repo/certs/gts1d4.der',), 'crlDistributionPoints': ('http://crls.pki.goog/gts1d4/KLT9VNR8wwI.crl',)}\n",
      "ERROR:urllib3.connection:Certificate did not match expected hostname: www.colombiacheck.com. Certificate: {'subject': ((('commonName', 'colombiacheck.com'),),), 'issuer': ((('countryName', 'US'),), (('organizationName', 'Google Trust Services LLC'),), (('commonName', 'GTS CA 1D4'),)), 'version': 3, 'serialNumber': '012DBDF1B5C3D3CC09E8B2846020711C', 'notBefore': 'Nov 10 16:28:13 2022 GMT', 'notAfter': 'Feb  8 16:28:12 2023 GMT', 'subjectAltName': (('DNS', 'colombiacheck.com'),), 'OCSP': ('http://ocsp.pki.goog/s/gts1d4/E1Je8Sfi38o',), 'caIssuers': ('http://pki.goog/repo/certs/gts1d4.der',), 'crlDistributionPoints': ('http://crls.pki.goog/gts1d4/KLT9VNR8wwI.crl',)}\n",
      "ERROR:urllib3.connection:Certificate did not match expected hostname: www.colombiacheck.com. Certificate: {'subject': ((('commonName', 'colombiacheck.com'),),), 'issuer': ((('countryName', 'US'),), (('organizationName', 'Google Trust Services LLC'),), (('commonName', 'GTS CA 1D4'),)), 'version': 3, 'serialNumber': '012DBDF1B5C3D3CC09E8B2846020711C', 'notBefore': 'Nov 10 16:28:13 2022 GMT', 'notAfter': 'Feb  8 16:28:12 2023 GMT', 'subjectAltName': (('DNS', 'colombiacheck.com'),), 'OCSP': ('http://ocsp.pki.goog/s/gts1d4/E1Je8Sfi38o',), 'caIssuers': ('http://pki.goog/repo/certs/gts1d4.der',), 'crlDistributionPoints': ('http://crls.pki.goog/gts1d4/KLT9VNR8wwI.crl',)}\n",
      "ERROR:urllib3.connection:Certificate did not match expected hostname: www.colombiacheck.com. Certificate: {'subject': ((('commonName', 'colombiacheck.com'),),), 'issuer': ((('countryName', 'US'),), (('organizationName', 'Google Trust Services LLC'),), (('commonName', 'GTS CA 1D4'),)), 'version': 3, 'serialNumber': '012DBDF1B5C3D3CC09E8B2846020711C', 'notBefore': 'Nov 10 16:28:13 2022 GMT', 'notAfter': 'Feb  8 16:28:12 2023 GMT', 'subjectAltName': (('DNS', 'colombiacheck.com'),), 'OCSP': ('http://ocsp.pki.goog/s/gts1d4/E1Je8Sfi38o',), 'caIssuers': ('http://pki.goog/repo/certs/gts1d4.der',), 'crlDistributionPoints': ('http://crls.pki.goog/gts1d4/KLT9VNR8wwI.crl',)}\n",
      "ERROR:urllib3.connection:Certificate did not match expected hostname: www.colombiacheck.com. Certificate: {'subject': ((('commonName', 'colombiacheck.com'),),), 'issuer': ((('countryName', 'US'),), (('organizationName', 'Google Trust Services LLC'),), (('commonName', 'GTS CA 1D4'),)), 'version': 3, 'serialNumber': '012DBDF1B5C3D3CC09E8B2846020711C', 'notBefore': 'Nov 10 16:28:13 2022 GMT', 'notAfter': 'Feb  8 16:28:12 2023 GMT', 'subjectAltName': (('DNS', 'colombiacheck.com'),), 'OCSP': ('http://ocsp.pki.goog/s/gts1d4/E1Je8Sfi38o',), 'caIssuers': ('http://pki.goog/repo/certs/gts1d4.der',), 'crlDistributionPoints': ('http://crls.pki.goog/gts1d4/KLT9VNR8wwI.crl',)}\n",
      "ERROR:urllib3.connection:Certificate did not match expected hostname: www.colombiacheck.com. Certificate: {'subject': ((('commonName', 'colombiacheck.com'),),), 'issuer': ((('countryName', 'US'),), (('organizationName', 'Google Trust Services LLC'),), (('commonName', 'GTS CA 1D4'),)), 'version': 3, 'serialNumber': '012DBDF1B5C3D3CC09E8B2846020711C', 'notBefore': 'Nov 10 16:28:13 2022 GMT', 'notAfter': 'Feb  8 16:28:12 2023 GMT', 'subjectAltName': (('DNS', 'colombiacheck.com'),), 'OCSP': ('http://ocsp.pki.goog/s/gts1d4/E1Je8Sfi38o',), 'caIssuers': ('http://pki.goog/repo/certs/gts1d4.der',), 'crlDistributionPoints': ('http://crls.pki.goog/gts1d4/KLT9VNR8wwI.crl',)}\n",
      "ERROR:urllib3.connection:Certificate did not match expected hostname: www.colombiacheck.com. Certificate: {'subject': ((('commonName', 'colombiacheck.com'),),), 'issuer': ((('countryName', 'US'),), (('organizationName', 'Google Trust Services LLC'),), (('commonName', 'GTS CA 1D4'),)), 'version': 3, 'serialNumber': '012DBDF1B5C3D3CC09E8B2846020711C', 'notBefore': 'Nov 10 16:28:13 2022 GMT', 'notAfter': 'Feb  8 16:28:12 2023 GMT', 'subjectAltName': (('DNS', 'colombiacheck.com'),), 'OCSP': ('http://ocsp.pki.goog/s/gts1d4/E1Je8Sfi38o',), 'caIssuers': ('http://pki.goog/repo/certs/gts1d4.der',), 'crlDistributionPoints': ('http://crls.pki.goog/gts1d4/KLT9VNR8wwI.crl',)}\n",
      "ERROR:urllib3.connection:Certificate did not match expected hostname: www.colombiacheck.com. Certificate: {'subject': ((('commonName', 'colombiacheck.com'),),), 'issuer': ((('countryName', 'US'),), (('organizationName', 'Google Trust Services LLC'),), (('commonName', 'GTS CA 1D4'),)), 'version': 3, 'serialNumber': '012DBDF1B5C3D3CC09E8B2846020711C', 'notBefore': 'Nov 10 16:28:13 2022 GMT', 'notAfter': 'Feb  8 16:28:12 2023 GMT', 'subjectAltName': (('DNS', 'colombiacheck.com'),), 'OCSP': ('http://ocsp.pki.goog/s/gts1d4/E1Je8Sfi38o',), 'caIssuers': ('http://pki.goog/repo/certs/gts1d4.der',), 'crlDistributionPoints': ('http://crls.pki.goog/gts1d4/KLT9VNR8wwI.crl',)}\n",
      "ERROR:urllib3.connection:Certificate did not match expected hostname: www.colombiacheck.com. Certificate: {'subject': ((('commonName', 'colombiacheck.com'),),), 'issuer': ((('countryName', 'US'),), (('organizationName', 'Google Trust Services LLC'),), (('commonName', 'GTS CA 1D4'),)), 'version': 3, 'serialNumber': '012DBDF1B5C3D3CC09E8B2846020711C', 'notBefore': 'Nov 10 16:28:13 2022 GMT', 'notAfter': 'Feb  8 16:28:12 2023 GMT', 'subjectAltName': (('DNS', 'colombiacheck.com'),), 'OCSP': ('http://ocsp.pki.goog/s/gts1d4/E1Je8Sfi38o',), 'caIssuers': ('http://pki.goog/repo/certs/gts1d4.der',), 'crlDistributionPoints': ('http://crls.pki.goog/gts1d4/KLT9VNR8wwI.crl',)}\n",
      "ERROR:urllib3.connection:Certificate did not match expected hostname: www.colombiacheck.com. Certificate: {'subject': ((('commonName', 'colombiacheck.com'),),), 'issuer': ((('countryName', 'US'),), (('organizationName', 'Google Trust Services LLC'),), (('commonName', 'GTS CA 1D4'),)), 'version': 3, 'serialNumber': '012DBDF1B5C3D3CC09E8B2846020711C', 'notBefore': 'Nov 10 16:28:13 2022 GMT', 'notAfter': 'Feb  8 16:28:12 2023 GMT', 'subjectAltName': (('DNS', 'colombiacheck.com'),), 'OCSP': ('http://ocsp.pki.goog/s/gts1d4/E1Je8Sfi38o',), 'caIssuers': ('http://pki.goog/repo/certs/gts1d4.der',), 'crlDistributionPoints': ('http://crls.pki.goog/gts1d4/KLT9VNR8wwI.crl',)}\n",
      "ERROR:urllib3.connection:Certificate did not match expected hostname: www.colombiacheck.com. Certificate: {'subject': ((('commonName', 'colombiacheck.com'),),), 'issuer': ((('countryName', 'US'),), (('organizationName', 'Google Trust Services LLC'),), (('commonName', 'GTS CA 1D4'),)), 'version': 3, 'serialNumber': '012DBDF1B5C3D3CC09E8B2846020711C', 'notBefore': 'Nov 10 16:28:13 2022 GMT', 'notAfter': 'Feb  8 16:28:12 2023 GMT', 'subjectAltName': (('DNS', 'colombiacheck.com'),), 'OCSP': ('http://ocsp.pki.goog/s/gts1d4/E1Je8Sfi38o',), 'caIssuers': ('http://pki.goog/repo/certs/gts1d4.der',), 'crlDistributionPoints': ('http://crls.pki.goog/gts1d4/KLT9VNR8wwI.crl',)}\n",
      "ERROR:urllib3.connection:Certificate did not match expected hostname: www.colombiacheck.com. Certificate: {'subject': ((('commonName', 'colombiacheck.com'),),), 'issuer': ((('countryName', 'US'),), (('organizationName', 'Google Trust Services LLC'),), (('commonName', 'GTS CA 1D4'),)), 'version': 3, 'serialNumber': '012DBDF1B5C3D3CC09E8B2846020711C', 'notBefore': 'Nov 10 16:28:13 2022 GMT', 'notAfter': 'Feb  8 16:28:12 2023 GMT', 'subjectAltName': (('DNS', 'colombiacheck.com'),), 'OCSP': ('http://ocsp.pki.goog/s/gts1d4/E1Je8Sfi38o',), 'caIssuers': ('http://pki.goog/repo/certs/gts1d4.der',), 'crlDistributionPoints': ('http://crls.pki.goog/gts1d4/KLT9VNR8wwI.crl',)}\n",
      "ERROR:urllib3.connection:Certificate did not match expected hostname: www.colombiacheck.com. Certificate: {'subject': ((('commonName', 'colombiacheck.com'),),), 'issuer': ((('countryName', 'US'),), (('organizationName', 'Google Trust Services LLC'),), (('commonName', 'GTS CA 1D4'),)), 'version': 3, 'serialNumber': '012DBDF1B5C3D3CC09E8B2846020711C', 'notBefore': 'Nov 10 16:28:13 2022 GMT', 'notAfter': 'Feb  8 16:28:12 2023 GMT', 'subjectAltName': (('DNS', 'colombiacheck.com'),), 'OCSP': ('http://ocsp.pki.goog/s/gts1d4/E1Je8Sfi38o',), 'caIssuers': ('http://pki.goog/repo/certs/gts1d4.der',), 'crlDistributionPoints': ('http://crls.pki.goog/gts1d4/KLT9VNR8wwI.crl',)}\n",
      "ERROR:urllib3.connection:Certificate did not match expected hostname: www.colombiacheck.com. Certificate: {'subject': ((('commonName', 'colombiacheck.com'),),), 'issuer': ((('countryName', 'US'),), (('organizationName', 'Google Trust Services LLC'),), (('commonName', 'GTS CA 1D4'),)), 'version': 3, 'serialNumber': '012DBDF1B5C3D3CC09E8B2846020711C', 'notBefore': 'Nov 10 16:28:13 2022 GMT', 'notAfter': 'Feb  8 16:28:12 2023 GMT', 'subjectAltName': (('DNS', 'colombiacheck.com'),), 'OCSP': ('http://ocsp.pki.goog/s/gts1d4/E1Je8Sfi38o',), 'caIssuers': ('http://pki.goog/repo/certs/gts1d4.der',), 'crlDistributionPoints': ('http://crls.pki.goog/gts1d4/KLT9VNR8wwI.crl',)}\n"
     ]
    }
   ],
   "source": [
    "#Creating summary for all the URLs\n",
    "def fil(url):\n",
    "    try:\n",
    "        news = Article(url, config=config) \n",
    "        news.download()\n",
    "        news.parse()\n",
    "        news.nlp()\n",
    "        return news.summary\n",
    "    except:\n",
    "        return ''\n",
    "data['summary'] = data.apply(lambda x: fil(x['Fact-checked Article']),axis=1)"
   ]
  },
  {
   "cell_type": "code",
   "execution_count": 13,
   "metadata": {
    "id": "8AheWyyEj5qq"
   },
   "outputs": [],
   "source": [
    "#Saving the data as a csv\n",
    "data.to_csv('results_config_autolangdet.csv', index= False)"
   ]
  },
  {
   "cell_type": "code",
   "execution_count": 5,
   "metadata": {},
   "outputs": [],
   "source": [
    "# !pip install -U sentence-transformers -q"
   ]
  },
  {
   "cell_type": "code",
   "execution_count": 3,
   "metadata": {
    "id": "D_M-jqm1Fojk"
   },
   "outputs": [],
   "source": [
    "import pandas as pd\n",
    "import numpy as np\n",
    "np.random.seed(2022)"
   ]
  },
  {
   "cell_type": "code",
   "execution_count": 4,
   "metadata": {
    "colab": {
     "base_uri": "https://localhost:8080/",
     "height": 465,
     "referenced_widgets": [
      "b9d4b44409834fd7aa251a1fc4f096ab",
      "bf81eba91a4b4e968bcf5fc0cc842fb0",
      "08a4c3a8e20340b6a34dcbb0d61d10ed",
      "9033f8ef4868465da29999e7dfc7a388",
      "bff76fd1e6b14542b009ffdb9f1d9623",
      "22cda279e9c84c89b75d2fe32f5608d4",
      "4a5e82449e874feba4cc5ca29f906699",
      "05d157c460d04505880fb70917dda73a",
      "5a4d01c175b94ef2b7b428ac5d181014",
      "740cea006c0a41db9b929d8366083e1f",
      "f9f5390e22c54c94973c46c2788a1cf5",
      "1a48b0a9bac14c77acee3e81551eeabd",
      "37541adfcf064c17be29defd8af60ab7",
      "3028e2f3585946c7b4a85557e4b22245",
      "b3168a5bc98e45389d8a46e3be274afe",
      "b01fc45fc6a546629ee142a4e6fb522f",
      "9026c19841a043aca10352abc1424dea",
      "d5465638d2d74cbab9a7e4562264d041",
      "8b495d78a6db45a4a316099b38719a35",
      "6f580650908f4b87863eb95d8636c4d1",
      "5e36e434fa934b4b94b91148f306c90b",
      "f14ec96e506a4ac583e60f4d721d0198",
      "5ee013cae536406e9f9acaccb51a02fc",
      "9f9d8cf164da40bfb8d1396a3488573e",
      "37398003bbe44a0588d05a367e8586ba",
      "55e75dcef6fc420390700c9fe8385469",
      "7a1ed7f90f034d53b19d54303dc2fd27",
      "e14e8937e0a340719186ea03fc986246",
      "6a415b89b0034a899a26be7eb7004e86",
      "030eb8d2ffef4c66a950381b2e48612e",
      "e049958a36d64c8f96d1f8e85ddabc49",
      "7303335f450040e5bb74b927869bc059",
      "397e63bd41a644089b52204dbe47fd34",
      "e106459f509d4252979800e96981f360",
      "f889ae5b545e49f98058f4e86fe70257",
      "6c10f5cf7d494c07a847bae2165c3924",
      "c5cc0b26b41249b79833a2079425f8b9",
      "c5c12fe257a64d3b82204c5e5f4f2e47",
      "4f68f27452154f2b95e0c33572b2d3a3",
      "93a5a938fb9843b39fe3d6531b15f6a2",
      "6dd7aef05b4f47179aa362eb12399777",
      "24c060497ed044388297f886cf512f25",
      "33aa560a3bab482dad0b8817b11e1bab",
      "5517b5e4b8fa49f0b7d2f68f5ec66e08",
      "69ace378ce244317a8169cf427a77747",
      "1273bec3965e436e97d56b71203aa778",
      "4b7c7ca5a4e54ceb93b32da1733745a0",
      "aa1520a8a4374192a72815267170d62a",
      "09e4b2b2f501423dbaf54a7e4a712189",
      "57d5196e2c8041d3b8e7e0d2c5a0f39b",
      "2eda0c41284e4c328e9aa6ff4a80b58f",
      "ab12e3fc27544e68821fb0f5ebc5b8e1",
      "a843118c98604304bba67d5012d39173",
      "88fe19a5bd8c4e26ad6c66d0bd9cf414",
      "73e7feddfc3e4bddac355fe93791246d",
      "c5e8275d9e1c407188b5d85e3961cb66",
      "f47c47bf944840eaa330a81a034ee34c",
      "108c88aab6bc4df98641f55cb363e704",
      "304cd8fba5f94c558e1243387100ca22",
      "696fd86ab94f4f72bce1994bf2043419",
      "88f654ef74d04b379978c269de39aa3f",
      "ce1464ca1e50465695225aa296f8e4d6",
      "03fca1cc76234f54b95b67fd620f59b0",
      "d8551d6f4bff4f75aff49de51d40f224",
      "a209983d73454a009e79d9a3e1e77c20",
      "5dfa7098e6064c6eba9cc146a0ba8e1c",
      "098378ac298c496aaf21f29b201ceb42",
      "19b0c00c8a6d4b62b98fd57a459f4cbb",
      "9e392afc49464581bffdd2f90bfe24b1",
      "49ffef26c4364260a540504e9eb06799",
      "717fc53ba47e48a99d0079a84792e853",
      "39fe5184e2c34a6784a1c62ed84ab6d0",
      "1e7c690c102d49158f147ac07507fb93",
      "b5d8b6daccf74a21b909ead940b43974",
      "fc931161fee54cb2943c6b78e0551074",
      "e29a91be14c0426caf4a1b789e47b57e",
      "beb816d99f964d11adabaa6426615969",
      "e6d9f49c2612474081ac8e31b0ae4c29",
      "73c50bb92c0f444db40fafa2ab8a7639",
      "28d62d8e469941449e7b3526d1894008",
      "9c1004187cbb4987adecbe43df391152",
      "f99d02b0167a4e8f8bbe4600a89f6afe",
      "89e303c1f1f440eebff4df123c314c49",
      "fa9f468470f34091a9712dbdf492bde0",
      "29c27616b84a40d2be97a48f351846a7",
      "4b29d19ea0c148d5814a7655b9c61877",
      "497c6e9c0dd7428ea49fad0ea429cb59",
      "0fd273f0f85c49afa7296426905fc849",
      "38a5341d761d4870a6654113075d906c",
      "418f3d9b5e674b1fb939f6d53c51a662",
      "3ee478c29e514eada157933666ca23ae",
      "804359ead3eb450da59237045fa2ebb2",
      "790896c7236e4b6a8b94ad5934e72ea3",
      "66b21c51b4284947a76ca96f6d98dcf0",
      "7b82279459914559b7a846bd89e707e6",
      "0a913248a2c84b0d820100d753ab6bfe",
      "baec7e2728d7452d9831897171772198",
      "2331f68ee6d5487cbafdb094c5da4d7f",
      "9816b80422ef45829476a7a441c693c0",
      "65b76367849b4bf9ac81c2d829621a09",
      "d112f8bb4a6e4b89b47febdb0b38ad12",
      "402f026f011340a382eedd259d25f4a5",
      "e96015d89c964a4fae2156b9f737ef2d",
      "1e7cacd46d1a44b9bb761e1035226f74",
      "5529e092f5a942788f3e368213892797",
      "88db021f1b0f463ab7cc85fd1acef621",
      "4cd93591b4ce45659e0fd76c50ecce77",
      "92825f991418464282f0e9be72f12fde",
      "6630ef2709a646a0b50b0c1a13bd1f8e",
      "71c2c71467ea47f08d78c1add0bbce84",
      "83caaa59e7254126a31f41c9987feefb",
      "de939be2830142018632853d1c5e6ff1",
      "974373b28e7d4eb7b05c450c438cd80b",
      "2b55ed2f067e49a7b8043017b95bcab5",
      "f50adc4ba23f450fac5bbead335e96f7",
      "1be2c8190ac5484fb831e1bac37b0912",
      "e8eeebe9d53d44a4ab7f9e0cf4b55027",
      "6f2cdd70c409494e8c3ddb16e2b8d1b2",
      "cc875184f2b74ea1803cd351f7df0a88",
      "f1d0428f168a4fbe90719f43606a4f8b",
      "516135b8920c4d738a3afb1cf9dad3c6",
      "a8c40d8324854e6da6d8d16544a86d89",
      "e8f99022db35453fb88d309094a7dd27",
      "4063421363b14a91af84e09c659722ed",
      "45ba4093e4bb4264b8e4d57ba7b83482",
      "0598704daf75433f83622fa8dd5b78ad",
      "872d45d7a2724f34a77ee23c3e39580c",
      "7de58fe9ce1d45b781d19bcc3f893aab",
      "ba9e4a5c117d47aaad2b93eae9041b12",
      "996fabaa089940ea861cc61965d568ce",
      "80baad3cd38644f6b83e5da377e33513",
      "9319661f3c1145899f2b2445aa8884ac",
      "abaffd82db5743a2b64457782728a0fc",
      "4eb4e12c184a4536a1dc357eecdf12ab",
      "aff8127a90554389ae28ec43fafb982b",
      "60f12f0e757e4343a4556407438b2879",
      "26a26e0b644d49df81b105ff34955074",
      "40a6a2adc84a42f6b83c4f5d95e8386e",
      "2d9d0614794c4301b70ba009d9d83276",
      "eda74830a51e404e80c0ef9f205a24a4",
      "28d9d622efda469abc870c01209b014a",
      "d60c65e605284023b88397c2a776dbb1",
      "974f8222a7c34fa0b4cb0125e97195d9",
      "f7fda472a4ab4c6f9a7944c2b2ffeba6",
      "c94ab9a3841a4dc9aebd026cdd467f78",
      "75f314cbc8dc49dc86fdab20d0133903",
      "bbb61bb80090475c819bbf1320d632bd",
      "bcb332c81cca4f3d9aafc1dbdbc25b95",
      "77a1beeab6c947ba827bdb6b9f2da7ab",
      "14647c88ff73427abef025f5236fac67",
      "e1c9170de6a741ab91af71963b8372a9",
      "ec9dddba6c0c47fd96f9ec143dc11e58",
      "9c5a766bc02b40889eb9cc4bb5f4a5f5",
      "32c4a6bdebfb468b985bc433569c52c1"
     ]
    },
    "id": "hZa_JtiEFnHH",
    "outputId": "c94b9f3b-8677-45b7-d990-ba07fb1be1a4"
   },
   "outputs": [
    {
     "data": {
      "application/vnd.jupyter.widget-view+json": {
       "model_id": "43857d50d3b8407a8677f712123f0118",
       "version_major": 2,
       "version_minor": 0
      },
      "text/plain": [
       "Downloading:   0%|          | 0.00/1.18k [00:00<?, ?B/s]"
      ]
     },
     "metadata": {},
     "output_type": "display_data"
    },
    {
     "data": {
      "application/vnd.jupyter.widget-view+json": {
       "model_id": "e5e9c4323ab64bc7ad52cc48ee04d154",
       "version_major": 2,
       "version_minor": 0
      },
      "text/plain": [
       "Downloading:   0%|          | 0.00/190 [00:00<?, ?B/s]"
      ]
     },
     "metadata": {},
     "output_type": "display_data"
    },
    {
     "data": {
      "application/vnd.jupyter.widget-view+json": {
       "model_id": "0c05747d64a34421b47c2e7f5dff5164",
       "version_major": 2,
       "version_minor": 0
      },
      "text/plain": [
       "Downloading:   0%|          | 0.00/10.6k [00:00<?, ?B/s]"
      ]
     },
     "metadata": {},
     "output_type": "display_data"
    },
    {
     "data": {
      "application/vnd.jupyter.widget-view+json": {
       "model_id": "db197ee0e4194a5ca56c4704a2233865",
       "version_major": 2,
       "version_minor": 0
      },
      "text/plain": [
       "Downloading:   0%|          | 0.00/612 [00:00<?, ?B/s]"
      ]
     },
     "metadata": {},
     "output_type": "display_data"
    },
    {
     "data": {
      "application/vnd.jupyter.widget-view+json": {
       "model_id": "2d12530ae61846a09d421eb0e13b6f0e",
       "version_major": 2,
       "version_minor": 0
      },
      "text/plain": [
       "Downloading:   0%|          | 0.00/116 [00:00<?, ?B/s]"
      ]
     },
     "metadata": {},
     "output_type": "display_data"
    },
    {
     "data": {
      "application/vnd.jupyter.widget-view+json": {
       "model_id": "82f28ce3c552488fb56aed72cbbe892e",
       "version_major": 2,
       "version_minor": 0
      },
      "text/plain": [
       "Downloading:   0%|          | 0.00/39.3k [00:00<?, ?B/s]"
      ]
     },
     "metadata": {},
     "output_type": "display_data"
    },
    {
     "data": {
      "application/vnd.jupyter.widget-view+json": {
       "model_id": "f8ceb1c2c3fd470c9281ab28163269d1",
       "version_major": 2,
       "version_minor": 0
      },
      "text/plain": [
       "Downloading:   0%|          | 0.00/90.9M [00:00<?, ?B/s]"
      ]
     },
     "metadata": {},
     "output_type": "display_data"
    },
    {
     "data": {
      "application/vnd.jupyter.widget-view+json": {
       "model_id": "9632cfafba99496888d8c763f0d75305",
       "version_major": 2,
       "version_minor": 0
      },
      "text/plain": [
       "Downloading:   0%|          | 0.00/53.0 [00:00<?, ?B/s]"
      ]
     },
     "metadata": {},
     "output_type": "display_data"
    },
    {
     "data": {
      "application/vnd.jupyter.widget-view+json": {
       "model_id": "79adeed2b00843dfa96f5c212ca70c54",
       "version_major": 2,
       "version_minor": 0
      },
      "text/plain": [
       "Downloading:   0%|          | 0.00/112 [00:00<?, ?B/s]"
      ]
     },
     "metadata": {},
     "output_type": "display_data"
    },
    {
     "data": {
      "application/vnd.jupyter.widget-view+json": {
       "model_id": "a5ba924c0d734d6da46f5a548111e19e",
       "version_major": 2,
       "version_minor": 0
      },
      "text/plain": [
       "Downloading:   0%|          | 0.00/466k [00:00<?, ?B/s]"
      ]
     },
     "metadata": {},
     "output_type": "display_data"
    },
    {
     "data": {
      "application/vnd.jupyter.widget-view+json": {
       "model_id": "b0a569ea24df4e3fac679e78df254201",
       "version_major": 2,
       "version_minor": 0
      },
      "text/plain": [
       "Downloading:   0%|          | 0.00/350 [00:00<?, ?B/s]"
      ]
     },
     "metadata": {},
     "output_type": "display_data"
    },
    {
     "data": {
      "application/vnd.jupyter.widget-view+json": {
       "model_id": "13713fab99cc4703a666ecac75468087",
       "version_major": 2,
       "version_minor": 0
      },
      "text/plain": [
       "Downloading:   0%|          | 0.00/13.2k [00:00<?, ?B/s]"
      ]
     },
     "metadata": {},
     "output_type": "display_data"
    },
    {
     "data": {
      "application/vnd.jupyter.widget-view+json": {
       "model_id": "8af9c571cb674be0914ff7c95dd914c5",
       "version_major": 2,
       "version_minor": 0
      },
      "text/plain": [
       "Downloading:   0%|          | 0.00/232k [00:00<?, ?B/s]"
      ]
     },
     "metadata": {},
     "output_type": "display_data"
    },
    {
     "data": {
      "application/vnd.jupyter.widget-view+json": {
       "model_id": "5828b88b30eb46618c11846057a08648",
       "version_major": 2,
       "version_minor": 0
      },
      "text/plain": [
       "Downloading:   0%|          | 0.00/349 [00:00<?, ?B/s]"
      ]
     },
     "metadata": {},
     "output_type": "display_data"
    }
   ],
   "source": [
    "# from sentence_transformers import SentenceTransformer\n",
    "# model = SentenceTransformer('all-MiniLM-L6-v2')"
   ]
  },
  {
   "cell_type": "code",
   "execution_count": 4,
   "metadata": {
    "colab": {
     "base_uri": "https://localhost:8080/"
    },
    "id": "jFPg3w5HvklH",
    "outputId": "35ee5259-58cb-475d-b0af-52c96f9a51e3"
   },
   "outputs": [
    {
     "name": "stdout",
     "output_type": "stream",
     "text": [
      "Mounted at /content/drive\n"
     ]
    }
   ],
   "source": [
    "# from google.colab import drive\n",
    "# drive.mount('/content/drive')"
   ]
  },
  {
   "cell_type": "code",
   "execution_count": 6,
   "metadata": {
    "id": "KGod-op4vohd"
   },
   "outputs": [],
   "source": [
    "# data = pd.read_csv(r\"C:\\Users\\rmanoger\\Desktop\\CSE 472\\Project 2\\results_config_autolangdet.csv\")\n",
    "data = pd.read_csv(\"results_config_autolangdet.csv\")"
   ]
  },
  {
   "cell_type": "code",
   "execution_count": 7,
   "metadata": {
    "id": "3hXemQb1vvQn"
   },
   "outputs": [],
   "source": [
    "data.loc[data[\"summary\"].isna(),'summary']=' '"
   ]
  },
  {
   "cell_type": "code",
   "execution_count": 8,
   "metadata": {
    "colab": {
     "base_uri": "https://localhost:8080/",
     "height": 441
    },
    "id": "DuO8Q8McwIom",
    "outputId": "1bcf84b0-d1f6-41c7-ce3f-6a5f8b488193"
   },
   "outputs": [
    {
     "data": {
      "text/html": [
       "<div>\n",
       "<style scoped>\n",
       "    .dataframe tbody tr th:only-of-type {\n",
       "        vertical-align: middle;\n",
       "    }\n",
       "\n",
       "    .dataframe tbody tr th {\n",
       "        vertical-align: top;\n",
       "    }\n",
       "\n",
       "    .dataframe thead th {\n",
       "        text-align: right;\n",
       "    }\n",
       "</style>\n",
       "<table border=\"1\" class=\"dataframe\">\n",
       "  <thead>\n",
       "    <tr style=\"text-align: right;\">\n",
       "      <th></th>\n",
       "      <th>Country (mentioned)</th>\n",
       "      <th>Review Date</th>\n",
       "      <th>Claim</th>\n",
       "      <th>Source</th>\n",
       "      <th>Label</th>\n",
       "      <th>Fact-checked Article</th>\n",
       "      <th>summary</th>\n",
       "    </tr>\n",
       "  </thead>\n",
       "  <tbody>\n",
       "    <tr>\n",
       "      <th>0</th>\n",
       "      <td>Germany</td>\n",
       "      <td>Oct 15, 2021</td>\n",
       "      <td>A video is circulating on the Internet claimin...</td>\n",
       "      <td>person</td>\n",
       "      <td>0</td>\n",
       "      <td>https://dpa-factchecking.com/germany/201015-99...</td>\n",
       "      <td>«Durch Rückatmung unserer Ausatemluft entsteht...</td>\n",
       "    </tr>\n",
       "    <tr>\n",
       "      <th>1</th>\n",
       "      <td>United States</td>\n",
       "      <td>Sep 17, 2021</td>\n",
       "      <td>Vice President Kamala Harris \"admits\" that COV...</td>\n",
       "      <td>website</td>\n",
       "      <td>0</td>\n",
       "      <td>https://leadstories.com/hoax-alert/2021/09/fac...</td>\n",
       "      <td>No Vax Is 100%Did Vice President Kamala Harris...</td>\n",
       "    </tr>\n",
       "    <tr>\n",
       "      <th>2</th>\n",
       "      <td>United States</td>\n",
       "      <td>Sep 17, 2021</td>\n",
       "      <td>US to withhold benefits from unvaccinated vete...</td>\n",
       "      <td>multiple people</td>\n",
       "      <td>0</td>\n",
       "      <td>https://factcheck.afp.com/http%253A%252F%252Fd...</td>\n",
       "      <td>US not requiring Covid-19 shots for veterans t...</td>\n",
       "    </tr>\n",
       "    <tr>\n",
       "      <th>3</th>\n",
       "      <td>United States</td>\n",
       "      <td>Sep 17, 2021</td>\n",
       "      <td>U.S. President Joe Biden said that the COVID-1...</td>\n",
       "      <td>No data</td>\n",
       "      <td>0</td>\n",
       "      <td>https://www.snopes.com/fact-check/biden-vaccin...</td>\n",
       "      <td>Advertisment:Claim: U.S. President Joe Biden s...</td>\n",
       "    </tr>\n",
       "    <tr>\n",
       "      <th>4</th>\n",
       "      <td>Canada</td>\n",
       "      <td>Sep 16, 2021</td>\n",
       "      <td>customers will be required to provide ID and p...</td>\n",
       "      <td>facebook</td>\n",
       "      <td>0</td>\n",
       "      <td>http://checkyourfact.com/2021/09/16/fact-check...</td>\n",
       "      <td>An image shared on Facebook claims customers w...</td>\n",
       "    </tr>\n",
       "  </tbody>\n",
       "</table>\n",
       "</div>"
      ],
      "text/plain": [
       "  Country (mentioned)   Review Date  \\\n",
       "0             Germany  Oct 15, 2021   \n",
       "1       United States  Sep 17, 2021   \n",
       "2       United States  Sep 17, 2021   \n",
       "3       United States  Sep 17, 2021   \n",
       "4              Canada  Sep 16, 2021   \n",
       "\n",
       "                                               Claim           Source  Label  \\\n",
       "0  A video is circulating on the Internet claimin...           person      0   \n",
       "1  Vice President Kamala Harris \"admits\" that COV...          website      0   \n",
       "2  US to withhold benefits from unvaccinated vete...  multiple people      0   \n",
       "3  U.S. President Joe Biden said that the COVID-1...          No data      0   \n",
       "4  customers will be required to provide ID and p...         facebook      0   \n",
       "\n",
       "                                Fact-checked Article  \\\n",
       "0  https://dpa-factchecking.com/germany/201015-99...   \n",
       "1  https://leadstories.com/hoax-alert/2021/09/fac...   \n",
       "2  https://factcheck.afp.com/http%253A%252F%252Fd...   \n",
       "3  https://www.snopes.com/fact-check/biden-vaccin...   \n",
       "4  http://checkyourfact.com/2021/09/16/fact-check...   \n",
       "\n",
       "                                             summary  \n",
       "0  «Durch Rückatmung unserer Ausatemluft entsteht...  \n",
       "1  No Vax Is 100%Did Vice President Kamala Harris...  \n",
       "2  US not requiring Covid-19 shots for veterans t...  \n",
       "3  Advertisment:Claim: U.S. President Joe Biden s...  \n",
       "4  An image shared on Facebook claims customers w...  "
      ]
     },
     "execution_count": 8,
     "metadata": {},
     "output_type": "execute_result"
    }
   ],
   "source": [
    "data.head()"
   ]
  },
  {
   "cell_type": "code",
   "execution_count": 9,
   "metadata": {
    "colab": {
     "base_uri": "https://localhost:8080/"
    },
    "id": "NeyaYJReMuo-",
    "outputId": "24e79c96-8c35-4a7b-fd1d-9b534669e7cc"
   },
   "outputs": [
    {
     "name": "stdout",
     "output_type": "stream",
     "text": [
      "{'have', 'after', 'herself', 'various', 'wherein', 're', 'became', 'was', 'because', 'anyhow', 'eight', 'thereafter', 'any', 'forty', 'will', 'doing', 'always', 'mostly', 'keep', 'we', 'side', 'which', 'its', 'them', 'anything', 'via', 'within', 'in', 'whenever', 'never', 'your', 'during', 'per', 'or', 'anyway', 'not', 'seem', 'upon', 'own', 'latter', 'say', 'amount', 'full', 'meanwhile', 'most', '’m', 'unless', 'between', 'on', 'yourself', 'among', 'could', 'who', 'quite', 'sometimes', '’s', 'before', 'below', 'ours', 'her', 'towards', 'please', 'used', 'name', \"'d\", 'nine', 'here', 'whole', 'moreover', 'whereupon', 'without', '‘d', 'but', 'although', 'see', 'five', '‘re', 'myself', 'fifty', 'throughout', 'either', 'get', 'seems', 'still', 'now', '’ll', 'and', 'under', 'whither', 'beforehand', 'into', 'indeed', 'toward', 'of', 'nowhere', 'once', 'afterwards', 'due', 'seeming', 'somewhere', 'however', 'against', '‘m', 'all', 'amongst', 'they', 'former', 'those', 'you', 'every', 'do', '’re', 'put', 'me', 'somehow', 'latterly', '‘s', 'up', 'had', 'none', 'less', 'make', 'sixty', 'often', 'ca', 'least', 'whatever', 'hereby', 'though', 'everywhere', 'whether', 'onto', 'three', 'everyone', 'much', 'it', 'hundred', '’ve', 'alone', '‘ll', 'besides', 'serious', 'there', 'since', \"n't\", 'himself', 'hereafter', 'being', 'been', 'neither', 'whereby', 'namely', 'only', 'therein', 'while', 'herein', 'also', 'whom', 'would', 'beyond', 'his', 'hers', 'around', 'until', 'several', \"'re\", 'hence', 'together', 'us', 'call', 'cannot', 'how', 'about', \"'s\", 'become', \"'ve\", 'go', 'otherwise', 'becoming', 'n‘t', 'more', 'someone', 'am', 'itself', 'through', 'just', 'must', 'two', 'may', 'should', 'n’t', 'back', 'take', 'no', 'fifteen', 'whereafter', 'why', 'nor', 'six', 'a', 'again', 'enough', 'themselves', 'behind', 'nevertheless', 'thru', 'along', 'even', 'except', 'move', 'both', 'ourselves', 'one', 'yet', 'where', 'wherever', 'i', '’d', 'elsewhere', 'our', 'the', 'are', 'formerly', 'as', 'him', 'with', 'show', 'done', 'out', 'thence', 'thereupon', 'be', 'if', 'first', 'last', \"'ll\", 'bottom', 'hereupon', 'noone', 'top', 'another', 'ten', 'what', 'twenty', 'my', 'rather', 'part', 'at', 'becomes', 'she', 'some', 'were', 'did', 'ever', 'therefore', 'few', 'perhaps', 'off', 'such', 'nobody', 'other', 'front', 'this', 'above', 'these', 'thus', 'by', 'everything', 'over', 'that', 'yours', 'whence', 'seemed', 'almost', 'beside', 'four', 'so', 'very', 'has', 'made', 'further', '‘ve', 'else', 'whose', 'many', 'nothing', 'something', 'empty', 'from', 'sometime', 'their', 'for', 'he', 'then', 'yourselves', 'others', 'too', 'eleven', 'can', 'to', 'might', 'anyone', 'third', 'already', 'using', 'really', 'an', 'whoever', 'when', 'give', 'does', 'down', 'same', 'across', 'twelve', 'well', 'each', 'whereas', 'mine', 'regarding', 'is', \"'m\", 'thereby', 'anywhere', 'than', 'next'}\n"
     ]
    }
   ],
   "source": [
    "# import spacy\n",
    "# import string\n",
    "# nlp = spacy.load(\"en_core_web_sm\")\n",
    "# stop_words = nlp.Defaults.stop_words\n",
    "# print(stop_words)"
   ]
  },
  {
   "cell_type": "code",
   "execution_count": 10,
   "metadata": {
    "colab": {
     "base_uri": "https://localhost:8080/"
    },
    "id": "9kHog8d7M9TF",
    "outputId": "5c28a3eb-2e2e-4144-a10a-d3ba84fe1721"
   },
   "outputs": [
    {
     "name": "stdout",
     "output_type": "stream",
     "text": [
      "!\"#$%&'()*+,-./:;<=>?@[\\]^_`{|}~\n"
     ]
    }
   ],
   "source": [
    "# punctuations = string.punctuation\n",
    "# print(punctuations)"
   ]
  },
  {
   "cell_type": "code",
   "execution_count": 11,
   "metadata": {
    "id": "6L3Kv_wkMlNT"
   },
   "outputs": [],
   "source": [
    "# def spacy_tokenizer(sentence):\n",
    "#     doc = nlp(sentence)\n",
    "#     mytokens = [ word.lemma_.lower().strip() for word in doc ]\n",
    "#     mytokens = [ word for word in mytokens if word not in stop_words and word not in punctuations ]\n",
    "#     sentence = \" \".join(mytokens)\n",
    "#     return sentence"
   ]
  },
  {
   "cell_type": "code",
   "execution_count": 13,
   "metadata": {
    "id": "s_UQj-gkM5f4"
   },
   "outputs": [],
   "source": [
    "# data['tokenize_Claim'] = data['Claim'].apply(spacy_tokenizer)"
   ]
  },
  {
   "cell_type": "code",
   "execution_count": 14,
   "metadata": {
    "id": "I7kiM8EcweP1"
   },
   "outputs": [],
   "source": [
    "# data['tokenize_summary'] = data['summary'].apply(spacy_tokenizer)"
   ]
  },
  {
   "cell_type": "code",
   "execution_count": 12,
   "metadata": {
    "colab": {
     "base_uri": "https://localhost:8080/",
     "height": 206
    },
    "id": "W3NyTNDPMd50",
    "outputId": "863fe3f4-ffe9-49df-db5e-b4df7f7dd845"
   },
   "outputs": [
    {
     "data": {
      "text/html": [
       "<div>\n",
       "<style scoped>\n",
       "    .dataframe tbody tr th:only-of-type {\n",
       "        vertical-align: middle;\n",
       "    }\n",
       "\n",
       "    .dataframe tbody tr th {\n",
       "        vertical-align: top;\n",
       "    }\n",
       "\n",
       "    .dataframe thead th {\n",
       "        text-align: right;\n",
       "    }\n",
       "</style>\n",
       "<table border=\"1\" class=\"dataframe\">\n",
       "  <thead>\n",
       "    <tr style=\"text-align: right;\">\n",
       "      <th></th>\n",
       "      <th>Country (mentioned)</th>\n",
       "      <th>Review Date</th>\n",
       "      <th>Claim</th>\n",
       "      <th>Source</th>\n",
       "      <th>Label</th>\n",
       "      <th>Fact-checked Article</th>\n",
       "      <th>summary</th>\n",
       "    </tr>\n",
       "  </thead>\n",
       "  <tbody>\n",
       "    <tr>\n",
       "      <th>0</th>\n",
       "      <td>Germany</td>\n",
       "      <td>Oct 15, 2021</td>\n",
       "      <td>A video is circulating on the Internet claimin...</td>\n",
       "      <td>person</td>\n",
       "      <td>0</td>\n",
       "      <td>https://dpa-factchecking.com/germany/201015-99...</td>\n",
       "      <td>«Durch Rückatmung unserer Ausatemluft entsteht...</td>\n",
       "    </tr>\n",
       "    <tr>\n",
       "      <th>1</th>\n",
       "      <td>United States</td>\n",
       "      <td>Sep 17, 2021</td>\n",
       "      <td>Vice President Kamala Harris \"admits\" that COV...</td>\n",
       "      <td>website</td>\n",
       "      <td>0</td>\n",
       "      <td>https://leadstories.com/hoax-alert/2021/09/fac...</td>\n",
       "      <td>No Vax Is 100%Did Vice President Kamala Harris...</td>\n",
       "    </tr>\n",
       "    <tr>\n",
       "      <th>2</th>\n",
       "      <td>United States</td>\n",
       "      <td>Sep 17, 2021</td>\n",
       "      <td>US to withhold benefits from unvaccinated vete...</td>\n",
       "      <td>multiple people</td>\n",
       "      <td>0</td>\n",
       "      <td>https://factcheck.afp.com/http%253A%252F%252Fd...</td>\n",
       "      <td>US not requiring Covid-19 shots for veterans t...</td>\n",
       "    </tr>\n",
       "    <tr>\n",
       "      <th>3</th>\n",
       "      <td>United States</td>\n",
       "      <td>Sep 17, 2021</td>\n",
       "      <td>U.S. President Joe Biden said that the COVID-1...</td>\n",
       "      <td>No data</td>\n",
       "      <td>0</td>\n",
       "      <td>https://www.snopes.com/fact-check/biden-vaccin...</td>\n",
       "      <td>Advertisment:Claim: U.S. President Joe Biden s...</td>\n",
       "    </tr>\n",
       "    <tr>\n",
       "      <th>4</th>\n",
       "      <td>Canada</td>\n",
       "      <td>Sep 16, 2021</td>\n",
       "      <td>customers will be required to provide ID and p...</td>\n",
       "      <td>facebook</td>\n",
       "      <td>0</td>\n",
       "      <td>http://checkyourfact.com/2021/09/16/fact-check...</td>\n",
       "      <td>An image shared on Facebook claims customers w...</td>\n",
       "    </tr>\n",
       "  </tbody>\n",
       "</table>\n",
       "</div>"
      ],
      "text/plain": [
       "  Country (mentioned)   Review Date  \\\n",
       "0             Germany  Oct 15, 2021   \n",
       "1       United States  Sep 17, 2021   \n",
       "2       United States  Sep 17, 2021   \n",
       "3       United States  Sep 17, 2021   \n",
       "4              Canada  Sep 16, 2021   \n",
       "\n",
       "                                               Claim           Source  Label  \\\n",
       "0  A video is circulating on the Internet claimin...           person      0   \n",
       "1  Vice President Kamala Harris \"admits\" that COV...          website      0   \n",
       "2  US to withhold benefits from unvaccinated vete...  multiple people      0   \n",
       "3  U.S. President Joe Biden said that the COVID-1...          No data      0   \n",
       "4  customers will be required to provide ID and p...         facebook      0   \n",
       "\n",
       "                                Fact-checked Article  \\\n",
       "0  https://dpa-factchecking.com/germany/201015-99...   \n",
       "1  https://leadstories.com/hoax-alert/2021/09/fac...   \n",
       "2  https://factcheck.afp.com/http%253A%252F%252Fd...   \n",
       "3  https://www.snopes.com/fact-check/biden-vaccin...   \n",
       "4  http://checkyourfact.com/2021/09/16/fact-check...   \n",
       "\n",
       "                                             summary  \n",
       "0  «Durch Rückatmung unserer Ausatemluft entsteht...  \n",
       "1  No Vax Is 100%Did Vice President Kamala Harris...  \n",
       "2  US not requiring Covid-19 shots for veterans t...  \n",
       "3  Advertisment:Claim: U.S. President Joe Biden s...  \n",
       "4  An image shared on Facebook claims customers w...  "
      ]
     },
     "execution_count": 12,
     "metadata": {},
     "output_type": "execute_result"
    }
   ],
   "source": [
    "# data.head()"
   ]
  },
  {
   "cell_type": "code",
   "execution_count": 15,
   "metadata": {
    "id": "VKWFi1C7GyH0"
   },
   "outputs": [],
   "source": [
    "# data['embeddings_Claim'] = data['tokenize_Claim'].apply(model.encode)"
   ]
  },
  {
   "cell_type": "code",
   "execution_count": 16,
   "metadata": {
    "id": "3TIkWb2NxPDg"
   },
   "outputs": [],
   "source": [
    "# data['embeddings_summary'] = data['tokenize_summary'].apply(model.encode)"
   ]
  },
  {
   "cell_type": "code",
   "execution_count": 112,
   "metadata": {
    "id": "cDooa5jdxX8D"
   },
   "outputs": [],
   "source": [
    "#Mapping the redundant source names together \n",
    "Source_mapping ={'whataspp':'social media','website':'websites','social networks':'social media','lord sumption':'person',\n",
    "'Social Networking Media Users':'social media', 'twitter':'social media','donald trump':'person','joe biden':'person',\n",
    "'pereson':'person','perseon':'person','narendra modi':'person','news website':'news media','mutliple sources':'multiple sources',\n",
    "'multiplie sources':'multiple sources', 'multipe sources':'multiple sources', 'Multiple sources':'multiple sources',\n",
    "'multple sources':'multiple sources', 'multiple persons':'person', 'multiple people':'person',\n",
    "'government':'government department','government party':'government department','government department':'others','political party':'others',\n",
    "'government source':'government department','facbook':'social media','anthony fauci':'person', 'bernie sanders':'person', 'beverley turner':'person', 'boris johnson':'person', 'carlos bolsonaro':'person', 'eduardo pazuello':'person', 'emmanuel macron':'person', 'flavio bolsonaro':'person', 'flÃivio bolsonaro':'person', 'Harry Roque':'person', 'ione belarra':'person', 'jair bolsonaro':'person', 'michael yeedon':'person', 'tayyip erdogan':'person', 'sophia dorinskaya':'person', 'rodrigo duterte':'person', \n",
    "'nick donnelly':'person', 'social media ':'social media','youtube':'social media','reddit':'social media','instagram':'social media','meme':'social media',\n",
    "'email':'social media','tiktok':'social media','telegram':'social media','whatsapp':'social media','facebook':'social media','Several sources':'multiple sources', \n",
    "'Jair Bolsonaro':'person','joão doria':'person','andrés manuel lópez obrador':'person','michał dworczyk':'person','michael \"mike\" defensor':'person','steven hotze':'person','flávio bolsonaro':'person','joão doria':'person', 'Jair Bolsonaro':'person','mike pence':'person',\n",
    "'video':'others','photo':'others','study':'others','meme':'others','unknown':'others', 'No data':'others','audio recording':'others','scam':'others','viral image':'others','fake image':'others', 'fake document':'others','various authors':'others','health department':'others','daily expose':'others','telegraph':'others','doctors for life':'others'\n",
    "}"
   ]
  },
  {
   "cell_type": "code",
   "execution_count": 113,
   "metadata": {
    "id": "5nPcbBxBx4Of"
   },
   "outputs": [],
   "source": [
    "data['Source'] = data['Source'].replace(Source_mapping)"
   ]
  },
  {
   "cell_type": "code",
   "execution_count": 114,
   "metadata": {},
   "outputs": [
    {
     "data": {
      "text/plain": [
       "social media        3675\n",
       "multiple sources    1089\n",
       "person               930\n",
       "others               266\n",
       "news media           266\n",
       "websites             158\n",
       "Name: Source, dtype: int64"
      ]
     },
     "execution_count": 114,
     "metadata": {},
     "output_type": "execute_result"
    }
   ],
   "source": [
    "data['Source'].value_counts()"
   ]
  },
  {
   "cell_type": "code",
   "execution_count": 21,
   "metadata": {
    "colab": {
     "base_uri": "https://localhost:8080/"
    },
    "id": "i18io0L5AaL3",
    "outputId": "da1d8933-3183-4048-90ef-76914f561bff"
   },
   "outputs": [
    {
     "data": {
      "text/plain": [
       "United States     21.788847\n",
       "India             14.379699\n",
       "Brazil            10.197368\n",
       "United Kingdom     6.876566\n",
       "Italy              3.947368\n",
       "China              3.493108\n",
       "France             2.662907\n",
       "Spain              2.474937\n",
       "Indonesia          2.427945\n",
       "Name: Country (mentioned), dtype: float64"
      ]
     },
     "execution_count": 21,
     "metadata": {},
     "output_type": "execute_result"
    }
   ],
   "source": [
    "#Top 10 contributing to 65 percent of the data..So using them and binning other countries together\n",
    "data['Country (mentioned)'].value_counts()[:9]*100/len(data)"
   ]
  },
  {
   "cell_type": "code",
   "execution_count": 22,
   "metadata": {
    "colab": {
     "base_uri": "https://localhost:8080/"
    },
    "id": "Fs79pXVZBYye",
    "outputId": "658f0d9c-4578-4e5a-d8ef-1acfcbd7b204"
   },
   "outputs": [
    {
     "data": {
      "text/plain": [
       "{'Germany': 'Others',\n",
       " 'Canada': 'Others',\n",
       " 'South Africa': 'Others',\n",
       " 'Australia': 'Others',\n",
       " 'Argentina': 'Others',\n",
       " 'European ': 'Others',\n",
       " 'Japan': 'Others',\n",
       " 'United Statets': 'Others',\n",
       " 'Europe': 'Others',\n",
       " 'Bulgaria': 'Others',\n",
       " 'Poland': 'Others',\n",
       " 'Romania': 'Others',\n",
       " 'Sri Lanka': 'Others',\n",
       " 'Israel': 'Others',\n",
       " 'Afghanistan': 'Others',\n",
       " 'Denmark': 'Others',\n",
       " 'Philippines': 'Others',\n",
       " 'Mexico': 'Others',\n",
       " 'Singapore': 'Others',\n",
       " 'Iran': 'Others',\n",
       " 'Burundi': 'Others',\n",
       " 'Martinique': 'Others',\n",
       " 'Thailand': 'Others',\n",
       " 'Sweden': 'Others',\n",
       " 'Greece': 'Others',\n",
       " 'Iceland': 'Others',\n",
       " 'Switzerland': 'Others',\n",
       " 'North Korea': 'Others',\n",
       " 'Pakistan': 'Others',\n",
       " 'Malaysia': 'Others',\n",
       " 'Colombia': 'Others',\n",
       " 'South African': 'Others',\n",
       " 'Ireland': 'Others',\n",
       " 'Haiti': 'Others',\n",
       " 'Paraguay': 'Others',\n",
       " 'Turkey': 'Others',\n",
       " 'Tanzania': 'Others',\n",
       " 'Myanmar': 'Others',\n",
       " 'Madagascar': 'Others',\n",
       " 'Puerto Rico': 'Others',\n",
       " 'Almeria': 'Others',\n",
       " 'Belgium': 'Others',\n",
       " 'Uganda': 'Others',\n",
       " 'England': 'Others',\n",
       " 'Kazakhstan': 'Others',\n",
       " 'United KIngdom': 'Others',\n",
       " 'Venezuela': 'Others',\n",
       " 'Scotland': 'Others',\n",
       " 'Malawi': 'Others',\n",
       " 'Hungary': 'Others',\n",
       " 'Worldwide': 'Others',\n",
       " 'Liberia': 'Others',\n",
       " 'Chile': 'Others',\n",
       " 'South Korea': 'Others',\n",
       " 'Algeria': 'Others',\n",
       " 'World Wide': 'Others',\n",
       " 'Nigeria': 'Others',\n",
       " 'Uruguay': 'Others',\n",
       " 'Vaccine': 'Others',\n",
       " 'Ukraine': 'Others',\n",
       " 'Cuba': 'Others',\n",
       " 'Russia': 'Others',\n",
       " 'Laos': 'Others',\n",
       " 'Palestinian Territory': 'Others',\n",
       " 'Kenya': 'Others',\n",
       " 'California': 'Others',\n",
       " 'Saudi Arabia': 'Others',\n",
       " 'Taiwan': 'Others',\n",
       " 'Netherlands': 'Others',\n",
       " 'Unted States': 'Others',\n",
       " 'New Zealand': 'Others',\n",
       " 'Ecuador': 'Others',\n",
       " 'worldwide': 'Others',\n",
       " 'Norway': 'Others',\n",
       " 'Bolivia': 'Others',\n",
       " 'Africa': 'Others',\n",
       " 'Jamaica': 'Others',\n",
       " 'world wide': 'Others',\n",
       " 'Papua New Guinea ': 'Others',\n",
       " 'Zimbabwe': 'Others',\n",
       " 'Papua New Guinea': 'Others',\n",
       " 'Hong Kong': 'Others',\n",
       " 'England ': 'Others',\n",
       " 'Peru': 'Others',\n",
       " 'Cameroon': 'Others',\n",
       " 'Croatia': 'Others',\n",
       " 'Austria': 'Others',\n",
       " 'Democratic Republic of Congo': 'Others',\n",
       " ' Indonesia\\n': 'Others',\n",
       " 'Syria': 'Others',\n",
       " 'Seychelles': 'Others',\n",
       " 'Vietnam': 'Others',\n",
       " 'El Salvador': 'Others',\n",
       " 'Georgia': 'Others',\n",
       " 'World wide': 'Others',\n",
       " 'Gibraltar': 'Others',\n",
       " 'Slovakia': 'Others',\n",
       " 'Italy ': 'Others',\n",
       " 'Guinea': 'Others',\n",
       " 'Indonesia ': 'Others',\n",
       " 'Democratic Republic of Congo ': 'Others',\n",
       " 'Bosina': 'Others',\n",
       " 'Barbados': 'Others',\n",
       " ' Czech Republic': 'Others',\n",
       " 'Jakarta': 'Others',\n",
       " 'Antarctica': 'Others',\n",
       " 'Czech Republic': 'Others',\n",
       " 'Bangladesh': 'Others',\n",
       " 'Tunisia': 'Others',\n",
       " 'Ukraine ': 'Others',\n",
       " 'Peru ': 'Others',\n",
       " 'Democratic Republic of the Congo': 'Others',\n",
       " 'Korea': 'Others',\n",
       " 'Libya': 'Others',\n",
       " 'Guinea-Bissau': 'Others',\n",
       " 'Belarus': 'Others',\n",
       " 'Ethiopia': 'Others',\n",
       " 'Iraq': 'Others',\n",
       " 'Lebanon': 'Others',\n",
       " 'Ghana': 'Others',\n",
       " 'South Sudan': 'Others',\n",
       " 'Nepal': 'Others',\n",
       " 'Vatican City': 'Others',\n",
       " 'Honduras': 'Others',\n",
       " 'Qatar': 'Others',\n",
       " 'Costa Rica': 'Others',\n",
       " 'Senegal': 'Others',\n",
       " 'Egypt': 'Others',\n",
       " 'United Arab Emirates': 'Others',\n",
       " 'Nicaragua': 'Others',\n",
       " 'Jordan': 'Others',\n",
       " 'Albania': 'Others',\n",
       " 'Rwanda': 'Others',\n",
       " 'Morocco': 'Others',\n",
       " \"Côte d'Ivoire\": 'Others'}"
      ]
     },
     "execution_count": 22,
     "metadata": {},
     "output_type": "execute_result"
    }
   ],
   "source": [
    "#Using only the top 10 countries as is and binning all the other countries together as \"Others\"\n",
    "Country_mapping = {}\n",
    "for country in data['Country (mentioned)'].unique():\n",
    "    if country not in data['Country (mentioned)'].value_counts()[:10].index:\n",
    "        Country_mapping[country] = 'Others'\n",
    "\n",
    "Country_mapping"
   ]
  },
  {
   "cell_type": "code",
   "execution_count": 23,
   "metadata": {
    "id": "_st-j4LxB_Ov"
   },
   "outputs": [],
   "source": [
    "data['Country (mentioned)'] = data['Country (mentioned)'].replace(Country_mapping)"
   ]
  },
  {
   "cell_type": "code",
   "execution_count": 24,
   "metadata": {
    "colab": {
     "base_uri": "https://localhost:8080/"
    },
    "id": "eMc8mXokCdKd",
    "outputId": "6f5b5a7a-94fb-4173-ebcf-ebfd56290617"
   },
   "outputs": [
    {
     "data": {
      "text/plain": [
       "array(['Others', 'United States', 'United Kingdom', 'France', 'Spain',\n",
       "       'Brazil', 'India', 'Italy', 'Portugal', 'Indonesia', 'China'],\n",
       "      dtype=object)"
      ]
     },
     "execution_count": 24,
     "metadata": {},
     "output_type": "execute_result"
    }
   ],
   "source": [
    "data['Country (mentioned)'].unique()"
   ]
  },
  {
   "cell_type": "code",
   "execution_count": 25,
   "metadata": {
    "colab": {
     "base_uri": "https://localhost:8080/"
    },
    "id": "3SibOIaJyyUN",
    "outputId": "578f1fb1-fc8e-4bfb-b485-bcf678c06ccc"
   },
   "outputs": [
    {
     "data": {
      "text/plain": [
       "Index(['Country (mentioned)', 'Review Date', 'Claim', 'Source', 'Label',\n",
       "       'Fact-checked Article', 'summary', 'tokenize_Claim', 'tokenize_summary',\n",
       "       'embeddings_Claim', 'embeddings_summary'],\n",
       "      dtype='object')"
      ]
     },
     "execution_count": 25,
     "metadata": {},
     "output_type": "execute_result"
    }
   ],
   "source": [
    "data.columns"
   ]
  },
  {
   "cell_type": "code",
   "execution_count": 26,
   "metadata": {
    "colab": {
     "base_uri": "https://localhost:8080/",
     "height": 54
    },
    "id": "CCAkxtBA60z0",
    "outputId": "a70510d8-5ba4-4904-816c-45721bb1503f"
   },
   "outputs": [
    {
     "data": {
      "text/plain": [
       "'Hospitals in Oklahoma are overwhelmed with cases of people suffering ivermectin overdose after taking the drug as COVID-19 cure.'"
      ]
     },
     "execution_count": 26,
     "metadata": {},
     "output_type": "execute_result"
    }
   ],
   "source": [
    "data.Claim[19]"
   ]
  },
  {
   "cell_type": "code",
   "execution_count": 27,
   "metadata": {
    "colab": {
     "base_uri": "https://localhost:8080/",
     "height": 144
    },
    "id": "1YOtGETA6co8",
    "outputId": "f2e4f881-8309-483b-e032-0c6c1bcefde2"
   },
   "outputs": [
    {
     "data": {
      "text/plain": [
       "'Online articles and social media posts claim that overdose cases from people using anti-parasitic drug ivermectin against COVID-19 are overwhelming hospitals in Oklahoma, citing remarks by a doctor in the US state.\\nAlso Read: No, Bill Gates Did Not Call For Depopulation Through Forced Vaccination\"Gunshot Victims Left Waiting as Horse Dewormer Overdoses Overwhelm Oklahoma Hospitals, Doctor Says,\" said a September 3, 2021 Rolling Stone magazine headline.\\n\"What we can confirm is that we have seen a handful of ivermectin patients in our emergency rooms, to include INTEGRIS Grove Hospital.\\nScott Schaffer, director of the Oklahoma Center for Poison and Drug Information, told AFP that calls related to ivermectin remain relatively low.\\n\"In Mississippi it was reported that 70 percent of their calls were ivermectin related, but that was misinterpretation,\" he said.'"
      ]
     },
     "execution_count": 27,
     "metadata": {},
     "output_type": "execute_result"
    }
   ],
   "source": [
    "data.summary[19]"
   ]
  },
  {
   "cell_type": "markdown",
   "metadata": {},
   "source": [
    "### Using cosine similarity of spaCy"
   ]
  },
  {
   "cell_type": "code",
   "execution_count": 28,
   "metadata": {
    "colab": {
     "base_uri": "https://localhost:8080/"
    },
    "id": "lRUBPAce55Kw",
    "outputId": "e08b7e38-25f1-4bff-9c2a-34efa7147341"
   },
   "outputs": [
    {
     "name": "stderr",
     "output_type": "stream",
     "text": [
      "WARNING: There was an error checking the latest version of pip.\n"
     ]
    },
    {
     "name": "stdout",
     "output_type": "stream",
     "text": [
      "Collecting en-core-web-sm==3.4.1\n",
      "  Downloading https://github.com/explosion/spacy-models/releases/download/en_core_web_sm-3.4.1/en_core_web_sm-3.4.1-py3-none-any.whl (12.8 MB)\n",
      "     --------------------------------------- 12.8/12.8 MB 17.7 MB/s eta 0:00:00\n",
      "Requirement already satisfied: spacy<3.5.0,>=3.4.0 in c:\\users\\rmanoger\\appdata\\local\\packages\\pythonsoftwarefoundation.python.3.7_qbz5n2kfra8p0\\localcache\\local-packages\\python37\\site-packages (from en-core-web-sm==3.4.1) (3.4.1)\n",
      "Requirement already satisfied: typing-extensions<4.2.0,>=3.7.4 in c:\\users\\rmanoger\\appdata\\local\\packages\\pythonsoftwarefoundation.python.3.7_qbz5n2kfra8p0\\localcache\\local-packages\\python37\\site-packages (from spacy<3.5.0,>=3.4.0->en-core-web-sm==3.4.1) (4.1.1)\n",
      "Requirement already satisfied: wasabi<1.1.0,>=0.9.1 in c:\\users\\rmanoger\\appdata\\local\\packages\\pythonsoftwarefoundation.python.3.7_qbz5n2kfra8p0\\localcache\\local-packages\\python37\\site-packages (from spacy<3.5.0,>=3.4.0->en-core-web-sm==3.4.1) (0.10.1)\n",
      "Requirement already satisfied: srsly<3.0.0,>=2.4.3 in c:\\users\\rmanoger\\appdata\\local\\packages\\pythonsoftwarefoundation.python.3.7_qbz5n2kfra8p0\\localcache\\local-packages\\python37\\site-packages (from spacy<3.5.0,>=3.4.0->en-core-web-sm==3.4.1) (2.4.4)\n",
      "Requirement already satisfied: setuptools in c:\\program files\\windowsapps\\pythonsoftwarefoundation.python.3.7_3.7.2544.0_x64__qbz5n2kfra8p0\\lib\\site-packages (from spacy<3.5.0,>=3.4.0->en-core-web-sm==3.4.1) (47.1.0)\n",
      "Requirement already satisfied: langcodes<4.0.0,>=3.2.0 in c:\\users\\rmanoger\\appdata\\local\\packages\\pythonsoftwarefoundation.python.3.7_qbz5n2kfra8p0\\localcache\\local-packages\\python37\\site-packages (from spacy<3.5.0,>=3.4.0->en-core-web-sm==3.4.1) (3.3.0)\n",
      "Requirement already satisfied: spacy-legacy<3.1.0,>=3.0.9 in c:\\users\\rmanoger\\appdata\\local\\packages\\pythonsoftwarefoundation.python.3.7_qbz5n2kfra8p0\\localcache\\local-packages\\python37\\site-packages (from spacy<3.5.0,>=3.4.0->en-core-web-sm==3.4.1) (3.0.10)\n",
      "Requirement already satisfied: jinja2 in c:\\users\\rmanoger\\appdata\\local\\packages\\pythonsoftwarefoundation.python.3.7_qbz5n2kfra8p0\\localcache\\local-packages\\python37\\site-packages (from spacy<3.5.0,>=3.4.0->en-core-web-sm==3.4.1) (3.1.2)\n",
      "Requirement already satisfied: numpy>=1.15.0 in c:\\users\\rmanoger\\appdata\\local\\packages\\pythonsoftwarefoundation.python.3.7_qbz5n2kfra8p0\\localcache\\local-packages\\python37\\site-packages (from spacy<3.5.0,>=3.4.0->en-core-web-sm==3.4.1) (1.21.6)\n",
      "Requirement already satisfied: murmurhash<1.1.0,>=0.28.0 in c:\\users\\rmanoger\\appdata\\local\\packages\\pythonsoftwarefoundation.python.3.7_qbz5n2kfra8p0\\localcache\\local-packages\\python37\\site-packages (from spacy<3.5.0,>=3.4.0->en-core-web-sm==3.4.1) (1.0.9)\n",
      "Requirement already satisfied: cymem<2.1.0,>=2.0.2 in c:\\users\\rmanoger\\appdata\\local\\packages\\pythonsoftwarefoundation.python.3.7_qbz5n2kfra8p0\\localcache\\local-packages\\python37\\site-packages (from spacy<3.5.0,>=3.4.0->en-core-web-sm==3.4.1) (2.0.7)\n",
      "Requirement already satisfied: catalogue<2.1.0,>=2.0.6 in c:\\users\\rmanoger\\appdata\\local\\packages\\pythonsoftwarefoundation.python.3.7_qbz5n2kfra8p0\\localcache\\local-packages\\python37\\site-packages (from spacy<3.5.0,>=3.4.0->en-core-web-sm==3.4.1) (2.0.8)\n",
      "Requirement already satisfied: preshed<3.1.0,>=3.0.2 in c:\\users\\rmanoger\\appdata\\local\\packages\\pythonsoftwarefoundation.python.3.7_qbz5n2kfra8p0\\localcache\\local-packages\\python37\\site-packages (from spacy<3.5.0,>=3.4.0->en-core-web-sm==3.4.1) (3.0.8)\n",
      "Requirement already satisfied: pathy>=0.3.5 in c:\\users\\rmanoger\\appdata\\local\\packages\\pythonsoftwarefoundation.python.3.7_qbz5n2kfra8p0\\localcache\\local-packages\\python37\\site-packages (from spacy<3.5.0,>=3.4.0->en-core-web-sm==3.4.1) (0.6.2)\n",
      "Requirement already satisfied: typer<0.5.0,>=0.3.0 in c:\\users\\rmanoger\\appdata\\local\\packages\\pythonsoftwarefoundation.python.3.7_qbz5n2kfra8p0\\localcache\\local-packages\\python37\\site-packages (from spacy<3.5.0,>=3.4.0->en-core-web-sm==3.4.1) (0.4.2)\n",
      "Requirement already satisfied: spacy-loggers<2.0.0,>=1.0.0 in c:\\users\\rmanoger\\appdata\\local\\packages\\pythonsoftwarefoundation.python.3.7_qbz5n2kfra8p0\\localcache\\local-packages\\python37\\site-packages (from spacy<3.5.0,>=3.4.0->en-core-web-sm==3.4.1) (1.0.3)\n",
      "Requirement already satisfied: thinc<8.2.0,>=8.1.0 in c:\\users\\rmanoger\\appdata\\local\\packages\\pythonsoftwarefoundation.python.3.7_qbz5n2kfra8p0\\localcache\\local-packages\\python37\\site-packages (from spacy<3.5.0,>=3.4.0->en-core-web-sm==3.4.1) (8.1.4)\n",
      "Requirement already satisfied: packaging>=20.0 in c:\\users\\rmanoger\\appdata\\local\\packages\\pythonsoftwarefoundation.python.3.7_qbz5n2kfra8p0\\localcache\\local-packages\\python37\\site-packages (from spacy<3.5.0,>=3.4.0->en-core-web-sm==3.4.1) (21.3)\n",
      "Requirement already satisfied: requests<3.0.0,>=2.13.0 in c:\\users\\rmanoger\\appdata\\local\\packages\\pythonsoftwarefoundation.python.3.7_qbz5n2kfra8p0\\localcache\\local-packages\\python37\\site-packages (from spacy<3.5.0,>=3.4.0->en-core-web-sm==3.4.1) (2.28.0)\n",
      "Requirement already satisfied: tqdm<5.0.0,>=4.38.0 in c:\\users\\rmanoger\\appdata\\local\\packages\\pythonsoftwarefoundation.python.3.7_qbz5n2kfra8p0\\localcache\\local-packages\\python37\\site-packages (from spacy<3.5.0,>=3.4.0->en-core-web-sm==3.4.1) (4.64.0)\n",
      "Requirement already satisfied: pydantic!=1.8,!=1.8.1,<1.10.0,>=1.7.4 in c:\\users\\rmanoger\\appdata\\local\\packages\\pythonsoftwarefoundation.python.3.7_qbz5n2kfra8p0\\localcache\\local-packages\\python37\\site-packages (from spacy<3.5.0,>=3.4.0->en-core-web-sm==3.4.1) (1.9.2)\n",
      "Requirement already satisfied: zipp>=0.5 in c:\\users\\rmanoger\\appdata\\local\\packages\\pythonsoftwarefoundation.python.3.7_qbz5n2kfra8p0\\localcache\\local-packages\\python37\\site-packages (from catalogue<2.1.0,>=2.0.6->spacy<3.5.0,>=3.4.0->en-core-web-sm==3.4.1) (3.8.0)\n",
      "Requirement already satisfied: pyparsing!=3.0.5,>=2.0.2 in c:\\users\\rmanoger\\appdata\\local\\packages\\pythonsoftwarefoundation.python.3.7_qbz5n2kfra8p0\\localcache\\local-packages\\python37\\site-packages (from packaging>=20.0->spacy<3.5.0,>=3.4.0->en-core-web-sm==3.4.1) (3.0.9)\n",
      "Requirement already satisfied: smart-open<6.0.0,>=5.2.1 in c:\\users\\rmanoger\\appdata\\local\\packages\\pythonsoftwarefoundation.python.3.7_qbz5n2kfra8p0\\localcache\\local-packages\\python37\\site-packages (from pathy>=0.3.5->spacy<3.5.0,>=3.4.0->en-core-web-sm==3.4.1) (5.2.1)\n",
      "Requirement already satisfied: charset-normalizer~=2.0.0 in c:\\users\\rmanoger\\appdata\\local\\packages\\pythonsoftwarefoundation.python.3.7_qbz5n2kfra8p0\\localcache\\local-packages\\python37\\site-packages (from requests<3.0.0,>=2.13.0->spacy<3.5.0,>=3.4.0->en-core-web-sm==3.4.1) (2.0.12)\n",
      "Requirement already satisfied: certifi>=2017.4.17 in c:\\users\\rmanoger\\appdata\\local\\packages\\pythonsoftwarefoundation.python.3.7_qbz5n2kfra8p0\\localcache\\local-packages\\python37\\site-packages (from requests<3.0.0,>=2.13.0->spacy<3.5.0,>=3.4.0->en-core-web-sm==3.4.1) (2022.6.15)\n",
      "Requirement already satisfied: urllib3<1.27,>=1.21.1 in c:\\users\\rmanoger\\appdata\\local\\packages\\pythonsoftwarefoundation.python.3.7_qbz5n2kfra8p0\\localcache\\local-packages\\python37\\site-packages (from requests<3.0.0,>=2.13.0->spacy<3.5.0,>=3.4.0->en-core-web-sm==3.4.1) (1.26.9)\n",
      "Requirement already satisfied: idna<4,>=2.5 in c:\\users\\rmanoger\\appdata\\local\\packages\\pythonsoftwarefoundation.python.3.7_qbz5n2kfra8p0\\localcache\\local-packages\\python37\\site-packages (from requests<3.0.0,>=2.13.0->spacy<3.5.0,>=3.4.0->en-core-web-sm==3.4.1) (3.3)\n",
      "Requirement already satisfied: blis<0.8.0,>=0.7.8 in c:\\users\\rmanoger\\appdata\\local\\packages\\pythonsoftwarefoundation.python.3.7_qbz5n2kfra8p0\\localcache\\local-packages\\python37\\site-packages (from thinc<8.2.0,>=8.1.0->spacy<3.5.0,>=3.4.0->en-core-web-sm==3.4.1) (0.7.8)\n",
      "Requirement already satisfied: confection<1.0.0,>=0.0.1 in c:\\users\\rmanoger\\appdata\\local\\packages\\pythonsoftwarefoundation.python.3.7_qbz5n2kfra8p0\\localcache\\local-packages\\python37\\site-packages (from thinc<8.2.0,>=8.1.0->spacy<3.5.0,>=3.4.0->en-core-web-sm==3.4.1) (0.0.3)\n",
      "Requirement already satisfied: colorama in c:\\users\\rmanoger\\appdata\\local\\packages\\pythonsoftwarefoundation.python.3.7_qbz5n2kfra8p0\\localcache\\local-packages\\python37\\site-packages (from tqdm<5.0.0,>=4.38.0->spacy<3.5.0,>=3.4.0->en-core-web-sm==3.4.1) (0.4.4)\n",
      "Requirement already satisfied: click<9.0.0,>=7.1.1 in c:\\users\\rmanoger\\appdata\\local\\packages\\pythonsoftwarefoundation.python.3.7_qbz5n2kfra8p0\\localcache\\local-packages\\python37\\site-packages (from typer<0.5.0,>=0.3.0->spacy<3.5.0,>=3.4.0->en-core-web-sm==3.4.1) (8.1.3)\n",
      "Requirement already satisfied: MarkupSafe>=2.0 in c:\\users\\rmanoger\\appdata\\local\\packages\\pythonsoftwarefoundation.python.3.7_qbz5n2kfra8p0\\localcache\\local-packages\\python37\\site-packages (from jinja2->spacy<3.5.0,>=3.4.0->en-core-web-sm==3.4.1) (2.1.1)\n",
      "Requirement already satisfied: importlib-metadata in c:\\users\\rmanoger\\appdata\\local\\packages\\pythonsoftwarefoundation.python.3.7_qbz5n2kfra8p0\\localcache\\local-packages\\python37\\site-packages (from click<9.0.0,>=7.1.1->typer<0.5.0,>=0.3.0->spacy<3.5.0,>=3.4.0->en-core-web-sm==3.4.1) (4.11.4)\n",
      "Installing collected packages: en-core-web-sm\n",
      "  Attempting uninstall: en-core-web-sm\n",
      "    Found existing installation: en-core-web-sm 3.4.0\n",
      "    Uninstalling en-core-web-sm-3.4.0:\n",
      "      Successfully uninstalled en-core-web-sm-3.4.0\n",
      "Successfully installed en-core-web-sm-3.4.1\n",
      "[+] Download and installation successful\n",
      "You can now load the package via spacy.load('en_core_web_sm')\n"
     ]
    }
   ],
   "source": [
    "import spacy\n",
    "!python -m spacy download en_core_web_sm\n",
    "nlp = spacy.load(\"en_core_web_sm\")"
   ]
  },
  {
   "cell_type": "code",
   "execution_count": 29,
   "metadata": {
    "colab": {
     "base_uri": "https://localhost:8080/"
    },
    "id": "YTqOK1YL6tYc",
    "outputId": "ad30ec24-75f7-4bd5-e94b-ac4d2f41378c"
   },
   "outputs": [
    {
     "name": "stdout",
     "output_type": "stream",
     "text": [
      "0.6226362621064739\n"
     ]
    },
    {
     "name": "stderr",
     "output_type": "stream",
     "text": [
      "C:\\Users\\rmanoger\\AppData\\Local\\Packages\\PythonSoftwareFoundation.Python.3.7_qbz5n2kfra8p0\\LocalCache\\local-packages\\Python37\\site-packages\\ipykernel_launcher.py:3: UserWarning: [W007] The model you're using has no word vectors loaded, so the result of the Doc.similarity method will be based on the tagger, parser and NER, which may not give useful similarity judgements. This may happen if you're using one of the small models, e.g. `en_core_web_sm`, which don't ship with word vectors and only use context-sensitive tensors. You can always add your own word vectors, or use one of the larger models instead if available.\n",
      "  This is separate from the ipykernel package so we can avoid doing imports until\n"
     ]
    }
   ],
   "source": [
    "doc1 = nlp(u'Hospitals in Oklahoma are overwhelmed with cases of people suffering ivermectin overdose after taking the drug as COVID-19 cure.')\n",
    "doc2 = nlp(u'Online articles and social media posts claim that overdose cases from people using anti-parasitic drug ivermectin against COVID-19 are overwhelming hospitals in Oklahoma, citing remarks by a doctor in the US state.\\nAlso Read: No, Bill Gates Did Not Call For Depopulation Through Forced Vaccination\"Gunshot Victims Left Waiting as Horse Dewormer Overdoses Overwhelm Oklahoma Hospitals, Doctor Says,\" said a September 3, 2021 Rolling Stone magazine headline.\\n\"What we can confirm is that we have seen a handful of ivermectin patients in our emergency rooms, to include INTEGRIS Grove Hospital.\\nScott Schaffer, director of the Oklahoma Center for Poison and Drug Information, told AFP that calls related to ivermectin remain relatively low.\\n\"In Mississippi it was reported that 70 percent of their calls were ivermectin related, but that was misinterpretation,\" he said.')\n",
    "print(doc1.similarity(doc2))  "
   ]
  },
  {
   "cell_type": "code",
   "execution_count": 59,
   "metadata": {},
   "outputs": [],
   "source": [
    "data_cos_sim = data.copy()"
   ]
  },
  {
   "cell_type": "code",
   "execution_count": 62,
   "metadata": {},
   "outputs": [
    {
     "name": "stderr",
     "output_type": "stream",
     "text": [
      "C:\\Users\\rmanoger\\AppData\\Local\\Packages\\PythonSoftwareFoundation.Python.3.7_qbz5n2kfra8p0\\LocalCache\\local-packages\\Python37\\site-packages\\ipykernel_launcher.py:1: UserWarning: [W007] The model you're using has no word vectors loaded, so the result of the Doc.similarity method will be based on the tagger, parser and NER, which may not give useful similarity judgements. This may happen if you're using one of the small models, e.g. `en_core_web_sm`, which don't ship with word vectors and only use context-sensitive tensors. You can always add your own word vectors, or use one of the larger models instead if available.\n",
      "  \"\"\"Entry point for launching an IPython kernel.\n"
     ]
    }
   ],
   "source": [
    "data_cos_sim['cosine_sim_scores'] = data_cos_sim.apply(lambda x: nlp(x['Claim']).similarity(nlp(x['summary'])),axis=1)"
   ]
  },
  {
   "cell_type": "markdown",
   "metadata": {},
   "source": [
    "### One hot Encoding"
   ]
  },
  {
   "cell_type": "code",
   "execution_count": 64,
   "metadata": {},
   "outputs": [
    {
     "name": "stderr",
     "output_type": "stream",
     "text": [
      "C:\\Users\\rmanoger\\AppData\\Local\\Packages\\PythonSoftwareFoundation.Python.3.7_qbz5n2kfra8p0\\LocalCache\\local-packages\\Python37\\site-packages\\sklearn\\utils\\deprecation.py:87: FutureWarning: Function get_feature_names is deprecated; get_feature_names is deprecated in 1.0 and will be removed in 1.2. Please use get_feature_names_out instead.\n",
      "  warnings.warn(msg, category=FutureWarning)\n"
     ]
    }
   ],
   "source": [
    "# Using make_column_transformer to One-Hot Encode\n",
    "from sklearn.preprocessing import OneHotEncoder\n",
    "from sklearn.compose import make_column_transformer\n",
    "import pandas as pd\n",
    "\n",
    "\n",
    "transformer = make_column_transformer(\n",
    "    (OneHotEncoder(), ['Country (mentioned)','Source']),\n",
    "    remainder='passthrough')\n",
    "\n",
    "transformed_cos_sim = transformer.fit_transform(data_cos_sim)\n",
    "transformed_df_cos_sim = pd.DataFrame(\n",
    "    transformed_cos_sim, \n",
    "    columns=transformer.get_feature_names()\n",
    ")"
   ]
  },
  {
   "cell_type": "code",
   "execution_count": 116,
   "metadata": {},
   "outputs": [
    {
     "data": {
      "text/plain": [
       "Index(['onehotencoder__x0_Brazil', 'onehotencoder__x0_China',\n",
       "       'onehotencoder__x0_France', 'onehotencoder__x0_India',\n",
       "       'onehotencoder__x0_Indonesia', 'onehotencoder__x0_Italy',\n",
       "       'onehotencoder__x0_Others', 'onehotencoder__x0_Portugal',\n",
       "       'onehotencoder__x0_Spain', 'onehotencoder__x0_United Kingdom',\n",
       "       'onehotencoder__x0_United States', 'onehotencoder__x1_multiple sources',\n",
       "       'onehotencoder__x1_news media', 'onehotencoder__x1_others',\n",
       "       'onehotencoder__x1_person', 'onehotencoder__x1_social media',\n",
       "       'onehotencoder__x1_websites', 'SBERT CrossEncoder_score'],\n",
       "      dtype='object')"
      ]
     },
     "execution_count": 116,
     "metadata": {},
     "output_type": "execute_result"
    }
   ],
   "source": [
    "X.columns"
   ]
  },
  {
   "cell_type": "code",
   "execution_count": 66,
   "metadata": {},
   "outputs": [],
   "source": [
    "X = transformed_df_cos_sim[['onehotencoder__x0_Brazil', 'onehotencoder__x0_China',\n",
    "       'onehotencoder__x0_France', 'onehotencoder__x0_India',\n",
    "       'onehotencoder__x0_Indonesia', 'onehotencoder__x0_Italy',\n",
    "       'onehotencoder__x0_Others', 'onehotencoder__x0_Portugal',\n",
    "       'onehotencoder__x0_Spain', 'onehotencoder__x0_United Kingdom',\n",
    "       'onehotencoder__x0_United States', 'onehotencoder__x1_multiple sources',\n",
    "       'onehotencoder__x1_news media', 'onehotencoder__x1_others',\n",
    "       'onehotencoder__x1_person', 'onehotencoder__x1_social media',\n",
    "       'onehotencoder__x1_websites','cosine_sim_scores']]\n",
    "y = transformed_df_cos_sim['Label'].values\n",
    "y=y.astype('int')"
   ]
  },
  {
   "cell_type": "markdown",
   "metadata": {},
   "source": [
    "### Train Test Split"
   ]
  },
  {
   "cell_type": "code",
   "execution_count": 67,
   "metadata": {},
   "outputs": [],
   "source": [
    "from sklearn.model_selection import train_test_split\n",
    "X_train, X_test, y_train, y_test = train_test_split(X, y, test_size=0.2,stratify=y)"
   ]
  },
  {
   "cell_type": "markdown",
   "metadata": {},
   "source": [
    "### Model Fitting"
   ]
  },
  {
   "cell_type": "code",
   "execution_count": 68,
   "metadata": {},
   "outputs": [],
   "source": [
    "from sklearn.tree import DecisionTreeClassifier\n",
    "dtree_model = DecisionTreeClassifier(max_depth = 6).fit(X_train, y_train)\n",
    "dtree_predictions = dtree_model.predict(X_test)"
   ]
  },
  {
   "cell_type": "code",
   "execution_count": 119,
   "metadata": {},
   "outputs": [
    {
     "data": {
      "text/plain": [
       "Index(['onehotencoder__x0_Brazil', 'onehotencoder__x0_China',\n",
       "       'onehotencoder__x0_France', 'onehotencoder__x0_India',\n",
       "       'onehotencoder__x0_Indonesia', 'onehotencoder__x0_Italy',\n",
       "       'onehotencoder__x0_Others', 'onehotencoder__x0_Portugal',\n",
       "       'onehotencoder__x0_Spain', 'onehotencoder__x0_United Kingdom',\n",
       "       'onehotencoder__x0_United States', 'onehotencoder__x1_multiple sources',\n",
       "       'onehotencoder__x1_news media', 'onehotencoder__x1_others',\n",
       "       'onehotencoder__x1_person', 'onehotencoder__x1_social media',\n",
       "       'onehotencoder__x1_websites', 'SBERT CrossEncoder_score'],\n",
       "      dtype='object')"
      ]
     },
     "execution_count": 119,
     "metadata": {},
     "output_type": "execute_result"
    }
   ],
   "source": [
    "X_test.columns"
   ]
  },
  {
   "cell_type": "code",
   "execution_count": 120,
   "metadata": {},
   "outputs": [
    {
     "data": {
      "text/plain": [
       "array([0, 0, 0, ..., 0, 1, 0])"
      ]
     },
     "execution_count": 120,
     "metadata": {},
     "output_type": "execute_result"
    }
   ],
   "source": [
    "y_test"
   ]
  },
  {
   "cell_type": "code",
   "execution_count": 117,
   "metadata": {},
   "outputs": [],
   "source": [
    "from sklearn import tree"
   ]
  },
  {
   "cell_type": "code",
   "execution_count": 123,
   "metadata": {},
   "outputs": [],
   "source": [
    "import matplotlib.pyplot as plt"
   ]
  },
  {
   "cell_type": "code",
   "execution_count": 124,
   "metadata": {},
   "outputs": [
    {
     "data": {
      "image/png": "[encoded data removed]",
      "text/plain": [
       "<Figure size 1800x1440 with 1 Axes>"
      ]
     },
     "metadata": {
      "needs_background": "light"
     },
     "output_type": "display_data"
    }
   ],
   "source": [
    "fig = plt.figure(figsize=(25,20))\n",
    "_ = tree.plot_tree(dtree_model, \n",
    "                   feature_names=X_test.columns,  \n",
    "                   class_names=['False','Misleading','True','Unproven'],\n",
    "                   filled=True)"
   ]
  },
  {
   "cell_type": "code",
   "execution_count": 71,
   "metadata": {},
   "outputs": [
    {
     "data": {
      "text/plain": [
       "0.7736883320281911"
      ]
     },
     "execution_count": 71,
     "metadata": {},
     "output_type": "execute_result"
    }
   ],
   "source": [
    "from sklearn import metrics\n",
    "metrics.accuracy_score(y_test,dtree_predictions)"
   ]
  },
  {
   "cell_type": "markdown",
   "metadata": {},
   "source": [
    "### Reading the test file"
   ]
  },
  {
   "cell_type": "code",
   "execution_count": 40,
   "metadata": {
    "id": "GhASfZwGJIEl"
   },
   "outputs": [],
   "source": [
    "from newspaper import Article\n",
    "from newspaper import Config\n",
    "import nltk\n",
    "import pandas as pd\n",
    "#The user agent has to be obtained from the https://www.whatismybrowser.com/detect/what-is-my-user-agent for running on your system!\n",
    "user_agent = \"Mozilla/5.0 (Windows NT 10.0; Win64; x64) AppleWebKit/537.36 (KHTML, like Gecko) Chrome/107.0.0.0 Safari/537.36\"\n",
    "config = Config()\n",
    "config.browser_user_agent = user_agent"
   ]
  },
  {
   "cell_type": "code",
   "execution_count": 41,
   "metadata": {
    "id": "LP_Dd8IDNTck"
   },
   "outputs": [],
   "source": [
    "# test = pd.read_csv('/content/drive/MyDrive/Social Media Mining Project 2/test.csv')\n",
    "test = pd.read_csv(\"test.csv\")"
   ]
  },
  {
   "cell_type": "code",
   "execution_count": 42,
   "metadata": {
    "colab": {
     "base_uri": "https://localhost:8080/",
     "height": 658
    },
    "id": "mWPBiwoGIeuP",
    "outputId": "e1cff1e1-dd7b-4393-84e2-e1935a18ee94"
   },
   "outputs": [
    {
     "data": {
      "text/html": [
       "<div>\n",
       "<style scoped>\n",
       "    .dataframe tbody tr th:only-of-type {\n",
       "        vertical-align: middle;\n",
       "    }\n",
       "\n",
       "    .dataframe tbody tr th {\n",
       "        vertical-align: top;\n",
       "    }\n",
       "\n",
       "    .dataframe thead th {\n",
       "        text-align: right;\n",
       "    }\n",
       "</style>\n",
       "<table border=\"1\" class=\"dataframe\">\n",
       "  <thead>\n",
       "    <tr style=\"text-align: right;\">\n",
       "      <th></th>\n",
       "      <th>Country (mentioned)</th>\n",
       "      <th>Review Date</th>\n",
       "      <th>Claim</th>\n",
       "      <th>Source</th>\n",
       "      <th>Fact-checked Article</th>\n",
       "    </tr>\n",
       "  </thead>\n",
       "  <tbody>\n",
       "    <tr>\n",
       "      <th>0</th>\n",
       "      <td>Israel</td>\n",
       "      <td>Mar 17, 2020</td>\n",
       "      <td>Israel discovered the vaccine for the corona v...</td>\n",
       "      <td>news media</td>\n",
       "      <td>https://piaui.folha.uol.com.br/lupa/2020/03/17...</td>\n",
       "    </tr>\n",
       "    <tr>\n",
       "      <th>1</th>\n",
       "      <td>Portugal</td>\n",
       "      <td>Mar 17, 2020</td>\n",
       "      <td>Cristiano Ronaldos hotels will be turned into ...</td>\n",
       "      <td>multiple sources</td>\n",
       "      <td>https://checamos.afp.com/cristiano-ronaldo-nao...</td>\n",
       "    </tr>\n",
       "    <tr>\n",
       "      <th>2</th>\n",
       "      <td>Brazil</td>\n",
       "      <td>Mar 17, 2020</td>\n",
       "      <td>Preta Gil is with Coronavirus. Dragged 300,000...</td>\n",
       "      <td>facebook</td>\n",
       "      <td>https://piaui.folha.uol.com.br/lupa/2020/03/17...</td>\n",
       "    </tr>\n",
       "    <tr>\n",
       "      <th>3</th>\n",
       "      <td>Poland</td>\n",
       "      <td>Mar 17, 2020</td>\n",
       "      <td>Example - closing schools when there were some...</td>\n",
       "      <td>person</td>\n",
       "      <td>https://demagog.org.pl/wypowiedzi/zamkniecie-s...</td>\n",
       "    </tr>\n",
       "    <tr>\n",
       "      <th>4</th>\n",
       "      <td>Germany</td>\n",
       "      <td>Mar 17, 2020</td>\n",
       "      <td>No, Germany for the coronavirus does not put 2...</td>\n",
       "      <td>person</td>\n",
       "      <td>https://pagellapolitica.it/dichiarazioni/8549/...</td>\n",
       "    </tr>\n",
       "    <tr>\n",
       "      <th>...</th>\n",
       "      <td>...</td>\n",
       "      <td>...</td>\n",
       "      <td>...</td>\n",
       "      <td>...</td>\n",
       "      <td>...</td>\n",
       "    </tr>\n",
       "    <tr>\n",
       "      <th>705</th>\n",
       "      <td>United States</td>\n",
       "      <td>No data</td>\n",
       "      <td>Gen. David Berger said the Marines wouldn't co...</td>\n",
       "      <td>instagram</td>\n",
       "      <td>https://www.factcheck.org/2021/08/scicheck-mar...</td>\n",
       "    </tr>\n",
       "    <tr>\n",
       "      <th>706</th>\n",
       "      <td>United States</td>\n",
       "      <td>No data</td>\n",
       "      <td>15-year-old boy passes away from heart attack ...</td>\n",
       "      <td>blog</td>\n",
       "      <td>https://www.politifact.com/factchecks/2021/may...</td>\n",
       "    </tr>\n",
       "    <tr>\n",
       "      <th>707</th>\n",
       "      <td>United States</td>\n",
       "      <td>No data</td>\n",
       "      <td>â€œChris Christie is in ICU and reported to be...</td>\n",
       "      <td>social media</td>\n",
       "      <td>https://www.politifact.com/factchecks/2020/oct...</td>\n",
       "    </tr>\n",
       "    <tr>\n",
       "      <th>708</th>\n",
       "      <td>Denmark</td>\n",
       "      <td>No data</td>\n",
       "      <td>Christian Eriksen's collapse is due to coronav...</td>\n",
       "      <td>instagram</td>\n",
       "      <td>https://www.politifact.com/factchecks/2021/jun...</td>\n",
       "    </tr>\n",
       "    <tr>\n",
       "      <th>709</th>\n",
       "      <td>Denmark</td>\n",
       "      <td>No data</td>\n",
       "      <td>Christian Eriksen's collapse is due to coronav...</td>\n",
       "      <td>news media</td>\n",
       "      <td>https://dpa-factchecking.com/belgium/210614-99...</td>\n",
       "    </tr>\n",
       "  </tbody>\n",
       "</table>\n",
       "<p>710 rows × 5 columns</p>\n",
       "</div>"
      ],
      "text/plain": [
       "    Country (mentioned)   Review Date  \\\n",
       "0                Israel  Mar 17, 2020   \n",
       "1              Portugal  Mar 17, 2020   \n",
       "2                Brazil  Mar 17, 2020   \n",
       "3                Poland  Mar 17, 2020   \n",
       "4               Germany  Mar 17, 2020   \n",
       "..                  ...           ...   \n",
       "705       United States       No data   \n",
       "706       United States       No data   \n",
       "707       United States       No data   \n",
       "708             Denmark       No data   \n",
       "709             Denmark       No data   \n",
       "\n",
       "                                                 Claim            Source  \\\n",
       "0    Israel discovered the vaccine for the corona v...        news media   \n",
       "1    Cristiano Ronaldos hotels will be turned into ...  multiple sources   \n",
       "2    Preta Gil is with Coronavirus. Dragged 300,000...          facebook   \n",
       "3    Example - closing schools when there were some...            person   \n",
       "4    No, Germany for the coronavirus does not put 2...            person   \n",
       "..                                                 ...               ...   \n",
       "705  Gen. David Berger said the Marines wouldn't co...         instagram   \n",
       "706  15-year-old boy passes away from heart attack ...              blog   \n",
       "707  â€œChris Christie is in ICU and reported to be...      social media   \n",
       "708  Christian Eriksen's collapse is due to coronav...         instagram   \n",
       "709  Christian Eriksen's collapse is due to coronav...        news media   \n",
       "\n",
       "                                  Fact-checked Article  \n",
       "0    https://piaui.folha.uol.com.br/lupa/2020/03/17...  \n",
       "1    https://checamos.afp.com/cristiano-ronaldo-nao...  \n",
       "2    https://piaui.folha.uol.com.br/lupa/2020/03/17...  \n",
       "3    https://demagog.org.pl/wypowiedzi/zamkniecie-s...  \n",
       "4    https://pagellapolitica.it/dichiarazioni/8549/...  \n",
       "..                                                 ...  \n",
       "705  https://www.factcheck.org/2021/08/scicheck-mar...  \n",
       "706  https://www.politifact.com/factchecks/2021/may...  \n",
       "707  https://www.politifact.com/factchecks/2020/oct...  \n",
       "708  https://www.politifact.com/factchecks/2021/jun...  \n",
       "709  https://dpa-factchecking.com/belgium/210614-99...  \n",
       "\n",
       "[710 rows x 5 columns]"
      ]
     },
     "execution_count": 42,
     "metadata": {},
     "output_type": "execute_result"
    }
   ],
   "source": [
    "test"
   ]
  },
  {
   "cell_type": "code",
   "execution_count": 43,
   "metadata": {
    "colab": {
     "base_uri": "https://localhost:8080/",
     "height": 36
    },
    "id": "hlWEvzQvJh5z",
    "outputId": "50f9e1f6-519f-4314-9f56-8db95615c42a"
   },
   "outputs": [
    {
     "data": {
      "text/plain": [
       "'https://checamos.afp.com/cristiano-ronaldo-nao-anunciou-plano-de-transformar-hoteis-em-hospitais-para-pacientes-do-novo'"
      ]
     },
     "execution_count": 43,
     "metadata": {},
     "output_type": "execute_result"
    }
   ],
   "source": [
    "test['Fact-checked Article'][1]"
   ]
  },
  {
   "cell_type": "code",
   "execution_count": 44,
   "metadata": {
    "colab": {
     "base_uri": "https://localhost:8080/"
    },
    "id": "Npw10eHANCzk",
    "outputId": "c3601a90-a4c2-4966-8aeb-b7ae957a723d"
   },
   "outputs": [
    {
     "name": "stderr",
     "output_type": "stream",
     "text": [
      "[nltk_data] Downloading package punkt to\n",
      "[nltk_data]     C:\\Users\\rmanoger\\AppData\\Roaming\\nltk_data...\n",
      "[nltk_data]   Unzipping tokenizers\\punkt.zip.\n"
     ]
    },
    {
     "name": "stdout",
     "output_type": "stream",
     "text": [
      "Cristiano Ronaldo não anunciou plano de transformar hotéis em hospitais para pacientes do novo coronavírusCopyright © AFP 2017-2022.\n",
      "A alegação de que o jogador de futebol Cristiano Ronaldo pretende transformar seus hotéis em Portugal em hospitais para pessoas infectadas pelo novo coronavírus foi compartilhada dezenas de milhares de vezes em diversos idiomas e em múltiplas redes sociais.\n",
      "“Cristiano Ronaldo vai transformar seus hotéis em Portugal em hospitais para ajudar na luta contra o coronavírus e eles serão usados gratuitamente.\n",
      "A alegação de que o jogador pretende transformar seus hotéis em hospitais para atender pacientes desta doença é, no entanto, falsa.\n",
      "Em resumo, é falso que o jogador de futebol português Cristiano Ronaldo pretenda transformar seus hotéis em hospitais para pacientes do novo coronavírus.\n"
     ]
    }
   ],
   "source": [
    "url = \"https://checamos.afp.com/cristiano-ronaldo-nao-anunciou-plano-de-transformar-hoteis-em-hospitais-para-pacientes-do-novo\"\n",
    "news = Article(url, config=config) \n",
    "news.download()\n",
    "news.parse()\n",
    "nltk.download('punkt')\n",
    "news.nlp()\n",
    "# Extract summary\n",
    "print(news.summary)"
   ]
  },
  {
   "cell_type": "code",
   "execution_count": 45,
   "metadata": {
    "colab": {
     "base_uri": "https://localhost:8080/"
    },
    "id": "-mJ_XjRsIhZs",
    "outputId": "5438d231-1bc5-44e3-d27b-475193d94412"
   },
   "outputs": [],
   "source": [
    "def fil(url):\n",
    "    try:\n",
    "        news = Article(url, config=config) \n",
    "        news.download()\n",
    "        news.parse()\n",
    "        news.nlp()\n",
    "        return news.summary\n",
    "    except:\n",
    "        return ''\n",
    "test['summary'] = test.apply(lambda x: fil(x['Fact-checked Article']),axis=1)"
   ]
  },
  {
   "cell_type": "code",
   "execution_count": 46,
   "metadata": {
    "colab": {
     "base_uri": "https://localhost:8080/",
     "height": 763
    },
    "id": "f7KhyW2RSFVw",
    "outputId": "ec92755a-5ebd-4d0f-bfe4-9965bdcdfe58"
   },
   "outputs": [
    {
     "data": {
      "text/html": [
       "<div>\n",
       "<style scoped>\n",
       "    .dataframe tbody tr th:only-of-type {\n",
       "        vertical-align: middle;\n",
       "    }\n",
       "\n",
       "    .dataframe tbody tr th {\n",
       "        vertical-align: top;\n",
       "    }\n",
       "\n",
       "    .dataframe thead th {\n",
       "        text-align: right;\n",
       "    }\n",
       "</style>\n",
       "<table border=\"1\" class=\"dataframe\">\n",
       "  <thead>\n",
       "    <tr style=\"text-align: right;\">\n",
       "      <th></th>\n",
       "      <th>Country (mentioned)</th>\n",
       "      <th>Review Date</th>\n",
       "      <th>Claim</th>\n",
       "      <th>Source</th>\n",
       "      <th>Fact-checked Article</th>\n",
       "      <th>summary</th>\n",
       "    </tr>\n",
       "  </thead>\n",
       "  <tbody>\n",
       "    <tr>\n",
       "      <th>1</th>\n",
       "      <td>Portugal</td>\n",
       "      <td>Mar 17, 2020</td>\n",
       "      <td>Cristiano Ronaldos hotels will be turned into ...</td>\n",
       "      <td>multiple sources</td>\n",
       "      <td>https://checamos.afp.com/cristiano-ronaldo-nao...</td>\n",
       "      <td>Cristiano Ronaldo não anunciou plano de transf...</td>\n",
       "    </tr>\n",
       "    <tr>\n",
       "      <th>3</th>\n",
       "      <td>Poland</td>\n",
       "      <td>Mar 17, 2020</td>\n",
       "      <td>Example - closing schools when there were some...</td>\n",
       "      <td>person</td>\n",
       "      <td>https://demagog.org.pl/wypowiedzi/zamkniecie-s...</td>\n",
       "      <td>Zamknięcie szkół w Polsce i we Francji w związ...</td>\n",
       "    </tr>\n",
       "    <tr>\n",
       "      <th>4</th>\n",
       "      <td>Germany</td>\n",
       "      <td>Mar 17, 2020</td>\n",
       "      <td>No, Germany for the coronavirus does not put 2...</td>\n",
       "      <td>person</td>\n",
       "      <td>https://pagellapolitica.it/dichiarazioni/8549/...</td>\n",
       "      <td>Il senatore Gianluigi Paragone, espulso dal M5...</td>\n",
       "    </tr>\n",
       "    <tr>\n",
       "      <th>7</th>\n",
       "      <td>Portugal</td>\n",
       "      <td>Mar 17, 2020</td>\n",
       "      <td>Cristiano Ronaldos hotels will be turned into ...</td>\n",
       "      <td>social media</td>\n",
       "      <td>https://cekfakta.tempo.co/fakta/674/fakta-atau...</td>\n",
       "      <td>Selain menjadikan hotelnya sebagai rumah sakit...</td>\n",
       "    </tr>\n",
       "    <tr>\n",
       "      <th>8</th>\n",
       "      <td>India</td>\n",
       "      <td>Mar 17, 2020</td>\n",
       "      <td>Punjab police arrest coronavirus victims</td>\n",
       "      <td>social media</td>\n",
       "      <td>https://hindi.boomlive.in/fake-news/video-of-m...</td>\n",
       "      <td>पंजाब पुलिस की मॉक ड्रिल का एक वीडियो वास्तविक...</td>\n",
       "    </tr>\n",
       "    <tr>\n",
       "      <th>...</th>\n",
       "      <td>...</td>\n",
       "      <td>...</td>\n",
       "      <td>...</td>\n",
       "      <td>...</td>\n",
       "      <td>...</td>\n",
       "      <td>...</td>\n",
       "    </tr>\n",
       "    <tr>\n",
       "      <th>705</th>\n",
       "      <td>United States</td>\n",
       "      <td>No data</td>\n",
       "      <td>Gen. David Berger said the Marines wouldn't co...</td>\n",
       "      <td>instagram</td>\n",
       "      <td>https://www.factcheck.org/2021/08/scicheck-mar...</td>\n",
       "      <td>A Marine Corps spokesperson told us “there is ...</td>\n",
       "    </tr>\n",
       "    <tr>\n",
       "      <th>706</th>\n",
       "      <td>United States</td>\n",
       "      <td>No data</td>\n",
       "      <td>15-year-old boy passes away from heart attack ...</td>\n",
       "      <td>blog</td>\n",
       "      <td>https://www.politifact.com/factchecks/2021/may...</td>\n",
       "      <td>Authorities say they investigate all reports c...</td>\n",
       "    </tr>\n",
       "    <tr>\n",
       "      <th>707</th>\n",
       "      <td>United States</td>\n",
       "      <td>No data</td>\n",
       "      <td>â€œChris Christie is in ICU and reported to be...</td>\n",
       "      <td>social media</td>\n",
       "      <td>https://www.politifact.com/factchecks/2020/oct...</td>\n",
       "      <td>Chris Christie announced on Oct. 3 that he had...</td>\n",
       "    </tr>\n",
       "    <tr>\n",
       "      <th>708</th>\n",
       "      <td>Denmark</td>\n",
       "      <td>No data</td>\n",
       "      <td>Christian Eriksen's collapse is due to coronav...</td>\n",
       "      <td>instagram</td>\n",
       "      <td>https://www.politifact.com/factchecks/2021/jun...</td>\n",
       "      <td>Danish soccer player Christian Eriksen, 29, su...</td>\n",
       "    </tr>\n",
       "    <tr>\n",
       "      <th>709</th>\n",
       "      <td>Denmark</td>\n",
       "      <td>No data</td>\n",
       "      <td>Christian Eriksen's collapse is due to coronav...</td>\n",
       "      <td>news media</td>\n",
       "      <td>https://dpa-factchecking.com/belgium/210614-99...</td>\n",
       "      <td>Vrijwel onmiddellijk nadat de Deense voetballe...</td>\n",
       "    </tr>\n",
       "  </tbody>\n",
       "</table>\n",
       "<p>636 rows × 6 columns</p>\n",
       "</div>"
      ],
      "text/plain": [
       "    Country (mentioned)   Review Date  \\\n",
       "1              Portugal  Mar 17, 2020   \n",
       "3                Poland  Mar 17, 2020   \n",
       "4               Germany  Mar 17, 2020   \n",
       "7              Portugal  Mar 17, 2020   \n",
       "8                 India  Mar 17, 2020   \n",
       "..                  ...           ...   \n",
       "705       United States       No data   \n",
       "706       United States       No data   \n",
       "707       United States       No data   \n",
       "708             Denmark       No data   \n",
       "709             Denmark       No data   \n",
       "\n",
       "                                                 Claim            Source  \\\n",
       "1    Cristiano Ronaldos hotels will be turned into ...  multiple sources   \n",
       "3    Example - closing schools when there were some...            person   \n",
       "4    No, Germany for the coronavirus does not put 2...            person   \n",
       "7    Cristiano Ronaldos hotels will be turned into ...      social media   \n",
       "8             Punjab police arrest coronavirus victims      social media   \n",
       "..                                                 ...               ...   \n",
       "705  Gen. David Berger said the Marines wouldn't co...         instagram   \n",
       "706  15-year-old boy passes away from heart attack ...              blog   \n",
       "707  â€œChris Christie is in ICU and reported to be...      social media   \n",
       "708  Christian Eriksen's collapse is due to coronav...         instagram   \n",
       "709  Christian Eriksen's collapse is due to coronav...        news media   \n",
       "\n",
       "                                  Fact-checked Article  \\\n",
       "1    https://checamos.afp.com/cristiano-ronaldo-nao...   \n",
       "3    https://demagog.org.pl/wypowiedzi/zamkniecie-s...   \n",
       "4    https://pagellapolitica.it/dichiarazioni/8549/...   \n",
       "7    https://cekfakta.tempo.co/fakta/674/fakta-atau...   \n",
       "8    https://hindi.boomlive.in/fake-news/video-of-m...   \n",
       "..                                                 ...   \n",
       "705  https://www.factcheck.org/2021/08/scicheck-mar...   \n",
       "706  https://www.politifact.com/factchecks/2021/may...   \n",
       "707  https://www.politifact.com/factchecks/2020/oct...   \n",
       "708  https://www.politifact.com/factchecks/2021/jun...   \n",
       "709  https://dpa-factchecking.com/belgium/210614-99...   \n",
       "\n",
       "                                               summary  \n",
       "1    Cristiano Ronaldo não anunciou plano de transf...  \n",
       "3    Zamknięcie szkół w Polsce i we Francji w związ...  \n",
       "4    Il senatore Gianluigi Paragone, espulso dal M5...  \n",
       "7    Selain menjadikan hotelnya sebagai rumah sakit...  \n",
       "8    पंजाब पुलिस की मॉक ड्रिल का एक वीडियो वास्तविक...  \n",
       "..                                                 ...  \n",
       "705  A Marine Corps spokesperson told us “there is ...  \n",
       "706  Authorities say they investigate all reports c...  \n",
       "707  Chris Christie announced on Oct. 3 that he had...  \n",
       "708  Danish soccer player Christian Eriksen, 29, su...  \n",
       "709  Vrijwel onmiddellijk nadat de Deense voetballe...  \n",
       "\n",
       "[636 rows x 6 columns]"
      ]
     },
     "execution_count": 46,
     "metadata": {},
     "output_type": "execute_result"
    }
   ],
   "source": [
    "test[test['summary']!='']"
   ]
  },
  {
   "cell_type": "code",
   "execution_count": 49,
   "metadata": {
    "id": "1xKH86_WTbf9"
   },
   "outputs": [],
   "source": [
    "test['Source'] = test['Source'].replace(Source_mapping)\n",
    "test['Country (mentioned)'] = test['Country (mentioned)'].replace(Country_mapping)"
   ]
  },
  {
   "cell_type": "code",
   "execution_count": 50,
   "metadata": {
    "colab": {
     "base_uri": "https://localhost:8080/"
    },
    "id": "earvBUGGTt6f",
    "outputId": "a9286822-7e0f-4621-d0e9-fe530527a898"
   },
   "outputs": [
    {
     "data": {
      "text/plain": [
       "array(['Others', 'Portugal', 'Brazil', 'United States', 'Indonesia',\n",
       "       'India', 'Italy', 'China', 'France', 'Spain', 'United Kingdom',\n",
       "       'Vatican', 'Cambodia', 'Sudan', 'Comoros', 'Gabon', 'Andorra',\n",
       "       'Namibia'], dtype=object)"
      ]
     },
     "execution_count": 50,
     "metadata": {},
     "output_type": "execute_result"
    }
   ],
   "source": [
    "test['Country (mentioned)'].unique()"
   ]
  },
  {
   "cell_type": "code",
   "execution_count": 51,
   "metadata": {
    "colab": {
     "base_uri": "https://localhost:8080/"
    },
    "id": "kade0MhTTwel",
    "outputId": "f00b0a4e-43f4-472e-8e73-d955c1b2ec93"
   },
   "outputs": [
    {
     "data": {
      "text/plain": [
       "array(['news media', 'multiple sources', 'social media', 'person',\n",
       "       'websites', 'others', 'blog'], dtype=object)"
      ]
     },
     "execution_count": 51,
     "metadata": {},
     "output_type": "execute_result"
    }
   ],
   "source": [
    "test['Source'].unique()"
   ]
  },
  {
   "cell_type": "code",
   "execution_count": 77,
   "metadata": {},
   "outputs": [
    {
     "name": "stderr",
     "output_type": "stream",
     "text": [
      "C:\\Users\\rmanoger\\AppData\\Local\\Packages\\PythonSoftwareFoundation.Python.3.7_qbz5n2kfra8p0\\LocalCache\\local-packages\\Python37\\site-packages\\ipykernel_launcher.py:1: UserWarning: [W007] The model you're using has no word vectors loaded, so the result of the Doc.similarity method will be based on the tagger, parser and NER, which may not give useful similarity judgements. This may happen if you're using one of the small models, e.g. `en_core_web_sm`, which don't ship with word vectors and only use context-sensitive tensors. You can always add your own word vectors, or use one of the larger models instead if available.\n",
      "  \"\"\"Entry point for launching an IPython kernel.\n",
      "C:\\Users\\rmanoger\\AppData\\Local\\Packages\\PythonSoftwareFoundation.Python.3.7_qbz5n2kfra8p0\\LocalCache\\local-packages\\Python37\\site-packages\\ipykernel_launcher.py:1: UserWarning: [W008] Evaluating Doc.similarity based on empty vectors.\n",
      "  \"\"\"Entry point for launching an IPython kernel.\n"
     ]
    }
   ],
   "source": [
    "test['cosine_sim_scores'] = test.apply(lambda x: nlp(x['Claim']).similarity(nlp(x['summary'])),axis=1)"
   ]
  },
  {
   "cell_type": "code",
   "execution_count": 79,
   "metadata": {
    "colab": {
     "base_uri": "https://localhost:8080/"
    },
    "id": "Amytk5q5ECsv",
    "outputId": "09ac1b0a-407c-42e4-adad-441df9fe442f"
   },
   "outputs": [
    {
     "name": "stderr",
     "output_type": "stream",
     "text": [
      "C:\\Users\\rmanoger\\AppData\\Local\\Packages\\PythonSoftwareFoundation.Python.3.7_qbz5n2kfra8p0\\LocalCache\\local-packages\\Python37\\site-packages\\sklearn\\utils\\deprecation.py:87: FutureWarning: Function get_feature_names is deprecated; get_feature_names is deprecated in 1.0 and will be removed in 1.2. Please use get_feature_names_out instead.\n",
      "  warnings.warn(msg, category=FutureWarning)\n"
     ]
    }
   ],
   "source": [
    "# Using make_column_transformer to One-Hot Encode\n",
    "from sklearn.preprocessing import OneHotEncoder\n",
    "from sklearn.compose import make_column_transformer\n",
    "import pandas as pd\n",
    "\n",
    "\n",
    "transformer = make_column_transformer(\n",
    "    (OneHotEncoder(sparse=False), ['Country (mentioned)','Source']),\n",
    "    remainder='passthrough')\n",
    "\n",
    "transformed_test_cos_sim = transformer.fit_transform(test)\n",
    "transformed_df_test_cos_sim = pd.DataFrame(\n",
    "    transformed_test_cos_sim, \n",
    "    columns=transformer.get_feature_names()\n",
    ")"
   ]
  },
  {
   "cell_type": "code",
   "execution_count": 80,
   "metadata": {
    "colab": {
     "base_uri": "https://localhost:8080/"
    },
    "id": "lsqPNaSqEB-8",
    "outputId": "e6c6503c-f2a9-4eba-ffc4-4615ccaa6f61"
   },
   "outputs": [
    {
     "data": {
      "text/plain": [
       "Index(['onehotencoder__x0_Andorra', 'onehotencoder__x0_Brazil',\n",
       "       'onehotencoder__x0_Cambodia', 'onehotencoder__x0_China',\n",
       "       'onehotencoder__x0_Comoros', 'onehotencoder__x0_France',\n",
       "       'onehotencoder__x0_Gabon', 'onehotencoder__x0_India',\n",
       "       'onehotencoder__x0_Indonesia', 'onehotencoder__x0_Italy',\n",
       "       'onehotencoder__x0_Namibia', 'onehotencoder__x0_Others',\n",
       "       'onehotencoder__x0_Portugal', 'onehotencoder__x0_Spain',\n",
       "       'onehotencoder__x0_Sudan', 'onehotencoder__x0_United Kingdom',\n",
       "       'onehotencoder__x0_United States', 'onehotencoder__x0_Vatican',\n",
       "       'onehotencoder__x1_blog', 'onehotencoder__x1_multiple sources',\n",
       "       'onehotencoder__x1_news media', 'onehotencoder__x1_others',\n",
       "       'onehotencoder__x1_person', 'onehotencoder__x1_social media',\n",
       "       'onehotencoder__x1_websites', 'Review Date', 'Claim',\n",
       "       'Fact-checked Article', 'summary', 'SBERT CrossEncoder_score',\n",
       "       'cosine_sim_scores'],\n",
       "      dtype='object')"
      ]
     },
     "execution_count": 80,
     "metadata": {},
     "output_type": "execute_result"
    }
   ],
   "source": [
    "transformed_df_test_cos_sim.columns"
   ]
  },
  {
   "cell_type": "code",
   "execution_count": 82,
   "metadata": {
    "id": "D--FN-oLyunB"
   },
   "outputs": [],
   "source": [
    "X = transformed_df_test_cos_sim[['onehotencoder__x0_Brazil', 'onehotencoder__x0_China',\n",
    "       'onehotencoder__x0_France', 'onehotencoder__x0_India',\n",
    "       'onehotencoder__x0_Indonesia', 'onehotencoder__x0_Italy',\n",
    "       'onehotencoder__x0_Others', 'onehotencoder__x0_Portugal',\n",
    "       'onehotencoder__x0_Spain', 'onehotencoder__x0_United Kingdom',\n",
    "       'onehotencoder__x0_United States', 'onehotencoder__x1_multiple sources',\n",
    "       'onehotencoder__x1_news media', 'onehotencoder__x1_others',\n",
    "       'onehotencoder__x1_person', 'onehotencoder__x1_social media',\n",
    "       'onehotencoder__x1_websites','cosine_sim_scores']]\n"
   ]
  },
  {
   "cell_type": "code",
   "execution_count": 83,
   "metadata": {},
   "outputs": [],
   "source": [
    "dtree_predictions = dtree_model.predict(X)"
   ]
  },
  {
   "cell_type": "code",
   "execution_count": 86,
   "metadata": {},
   "outputs": [
    {
     "data": {
      "text/plain": [
       "array([0, 0, 0, 0, 0, 0, 0, 0, 0, 0, 0, 0, 0, 0, 0, 0, 0, 0, 0, 0, 0, 0,\n",
       "       0, 0, 0, 0, 0, 0, 0, 0, 0, 0, 0, 0, 0, 0, 0, 0, 0, 0, 0, 0, 0, 0,\n",
       "       0, 0, 0, 0, 0, 0, 0, 2, 0, 0, 0, 0, 0, 0, 0, 0, 0, 0, 0, 0, 0, 0,\n",
       "       0, 0, 0, 0, 0, 0, 0, 0, 0, 0, 0, 0, 0, 0, 0, 0, 0, 0, 0, 0, 0, 0,\n",
       "       0, 0, 0, 0, 0, 0, 0, 0, 0, 0, 0, 0, 0, 0, 0, 0, 0, 0, 0, 0, 0, 0,\n",
       "       0, 0, 0, 0, 0, 0, 0, 0, 0, 0, 0, 0, 0, 0, 0, 0, 0, 0, 0, 0, 0, 0,\n",
       "       0, 0, 0, 0, 0, 0, 0, 0, 0, 0, 0, 0, 0, 0, 0, 0, 0, 0, 0, 0, 0, 0,\n",
       "       0, 0, 0, 0, 0, 0, 0, 0, 0, 0, 0, 0, 0, 0, 0, 0, 0, 0, 0, 0, 0, 0,\n",
       "       0, 0, 0, 0, 0, 0, 0, 0, 0, 0, 0, 0, 0, 0, 0, 0, 0, 0, 0, 0, 0, 0,\n",
       "       0, 0, 0, 0, 0, 0, 0, 0, 0, 0, 0, 0, 0, 0, 0, 0, 0, 0, 0, 0, 0, 0,\n",
       "       0, 0, 0, 0, 0, 0, 0, 0, 0, 0, 0, 0, 0, 0, 0, 1, 0, 0, 0, 0, 0, 0,\n",
       "       0, 0, 0, 0, 0, 0, 0, 1, 0, 0, 0, 0, 0, 0, 0, 0, 0, 0, 0, 0, 0, 0,\n",
       "       0, 0, 0, 0, 0, 0, 0, 0, 0, 0, 0, 2, 0, 0, 0, 0, 0, 0, 0, 0, 0, 0,\n",
       "       0, 0, 0, 0, 0, 0, 0, 0, 0, 0, 0, 0, 0, 0, 0, 0, 0, 0, 2, 0, 0, 0,\n",
       "       0, 0, 0, 0, 0, 0, 0, 0, 0, 0, 0, 0, 0, 0, 0, 0, 0, 0, 0, 2, 0, 0,\n",
       "       0, 0, 0, 0, 0, 0, 0, 0, 0, 0, 0, 0, 0, 0, 0, 0, 0, 0, 0, 0, 0, 0,\n",
       "       0, 0, 0, 0, 0, 0, 0, 0, 0, 0, 0, 0, 0, 0, 0, 0, 0, 0, 0, 0, 0, 0,\n",
       "       0, 0, 0, 0, 0, 0, 0, 2, 0, 0, 0, 0, 0, 0, 0, 0, 0, 0, 0, 0, 0, 0,\n",
       "       0, 0, 0, 0, 0, 2, 0, 0, 0, 0, 0, 0, 0, 0, 0, 0, 0, 0, 0, 0, 0, 0,\n",
       "       0, 0, 0, 0, 0, 0, 2, 0, 0, 0, 0, 0, 0, 0, 0, 0, 0, 0, 0, 0, 0, 0,\n",
       "       0, 0, 0, 0, 0, 0, 0, 0, 0, 0, 2, 0, 0, 0, 0, 0, 0, 0, 0, 0, 0, 0,\n",
       "       0, 0, 0, 0, 0, 0, 0, 0, 0, 0, 0, 0, 0, 0, 0, 0, 0, 0, 0, 0, 0, 0,\n",
       "       0, 0, 0, 0, 0, 0, 0, 0, 0, 0, 0, 0, 0, 0, 0, 0, 0, 0, 0, 0, 0, 0,\n",
       "       0, 0, 0, 0, 2, 0, 0, 0, 0, 0, 0, 0, 0, 0, 0, 0, 0, 0, 0, 0, 0, 0,\n",
       "       0, 0, 0, 0, 0, 0, 0, 0, 0, 0, 0, 0, 0, 0, 0, 0, 0, 0, 0, 0, 0, 0,\n",
       "       0, 0, 0, 0, 0, 0, 0, 0, 0, 0, 0, 0, 0, 0, 0, 0, 0, 0, 0, 0, 0, 0,\n",
       "       0, 0, 0, 0, 0, 0, 0, 0, 0, 0, 2, 0, 0, 0, 0, 0, 0, 0, 0, 0, 0, 0,\n",
       "       0, 0, 0, 0, 0, 0, 0, 0, 0, 0, 0, 0, 0, 0, 0, 0, 0, 0, 0, 0, 0, 0,\n",
       "       0, 0, 2, 0, 0, 0, 0, 0, 0, 0, 0, 0, 0, 0, 0, 0, 0, 0, 0, 0, 0, 0,\n",
       "       0, 0, 0, 0, 0, 0, 0, 0, 0, 0, 0, 0, 0, 1, 0, 0, 0, 0, 0, 0, 0, 0,\n",
       "       0, 0, 0, 0, 0, 0, 0, 0, 0, 0, 0, 0, 0, 0, 0, 0, 0, 0, 0, 0, 0, 0,\n",
       "       0, 0, 0, 0, 0, 0, 0, 0, 0, 0, 0, 0, 0, 0, 0, 0, 0, 0, 0, 0, 0, 0,\n",
       "       0, 0, 0, 0, 0, 0])"
      ]
     },
     "execution_count": 86,
     "metadata": {},
     "output_type": "execute_result"
    }
   ],
   "source": [
    "dtree_predictions"
   ]
  },
  {
   "cell_type": "code",
   "execution_count": 87,
   "metadata": {
    "id": "FQw-o7f7V9q6"
   },
   "outputs": [],
   "source": [
    "submisssion__ = pd.DataFrame({'Id':range(1,len(X)+1),'Category':dtree_predictions})"
   ]
  },
  {
   "cell_type": "code",
   "execution_count": 88,
   "metadata": {
    "id": "YrpfPuLEWYmW"
   },
   "outputs": [],
   "source": [
    "submisssion__.to_csv('Submission2_CosSim.csv',index=False)"
   ]
  },
  {
   "cell_type": "markdown",
   "metadata": {},
   "source": [
    "### Approach 2: Using CrossEncoder since it captures the semantic similarity"
   ]
  },
  {
   "cell_type": "code",
   "execution_count": 30,
   "metadata": {
    "id": "kz9x-w5t9a0I"
   },
   "outputs": [
    {
     "data": {
      "application/vnd.jupyter.widget-view+json": {
       "model_id": "334dac19d500484eadd4f14b8ffd9957",
       "version_major": 2,
       "version_minor": 0
      },
      "text/plain": [
       "Downloading:   0%|          | 0.00/608 [00:00<?, ?B/s]"
      ]
     },
     "metadata": {},
     "output_type": "display_data"
    },
    {
     "name": "stderr",
     "output_type": "stream",
     "text": [
      "C:\\Users\\rmanoger\\AppData\\Local\\Packages\\PythonSoftwareFoundation.Python.3.7_qbz5n2kfra8p0\\LocalCache\\local-packages\\Python37\\site-packages\\huggingface_hub\\file_download.py:125: UserWarning: `huggingface_hub` cache-system uses symlinks by default to efficiently store duplicated files but your machine does not support them in C:\\Users\\rmanoger\\.cache\\huggingface\\hub. Caching files will still work but in a degraded version that might require more space on your disk. This warning can be disabled by setting the `HF_HUB_DISABLE_SYMLINKS_WARNING` environment variable. For more details, see https://huggingface.co/docs/huggingface_hub/how-to-cache#limitations.\n",
      "To support symlinks on Windows, you either need to activate Developer Mode or to run Python as an administrator. In order to see activate developer mode, see this article: https://docs.microsoft.com/en-us/windows/apps/get-started/enable-your-device-for-development\n",
      "  warnings.warn(message)\n"
     ]
    },
    {
     "data": {
      "application/vnd.jupyter.widget-view+json": {
       "model_id": "1a63fe87af3f43b583e67afd85c385f2",
       "version_major": 2,
       "version_minor": 0
      },
      "text/plain": [
       "Downloading:   0%|          | 0.00/499M [00:00<?, ?B/s]"
      ]
     },
     "metadata": {},
     "output_type": "display_data"
    },
    {
     "data": {
      "application/vnd.jupyter.widget-view+json": {
       "model_id": "9b0d1211cb604dc889f48a5c8f5e90d1",
       "version_major": 2,
       "version_minor": 0
      },
      "text/plain": [
       "Downloading:   0%|          | 0.00/142 [00:00<?, ?B/s]"
      ]
     },
     "metadata": {},
     "output_type": "display_data"
    },
    {
     "data": {
      "application/vnd.jupyter.widget-view+json": {
       "model_id": "87881432eb30488a85500507dd476fb8",
       "version_major": 2,
       "version_minor": 0
      },
      "text/plain": [
       "Downloading:   0%|          | 0.00/899k [00:00<?, ?B/s]"
      ]
     },
     "metadata": {},
     "output_type": "display_data"
    },
    {
     "data": {
      "application/vnd.jupyter.widget-view+json": {
       "model_id": "4dd8d8d24f17442481294180ebc4aad9",
       "version_major": 2,
       "version_minor": 0
      },
      "text/plain": [
       "Downloading:   0%|          | 0.00/456k [00:00<?, ?B/s]"
      ]
     },
     "metadata": {},
     "output_type": "display_data"
    },
    {
     "data": {
      "application/vnd.jupyter.widget-view+json": {
       "model_id": "ff4a5445ce4041b0ba5bc0516ae8e989",
       "version_major": 2,
       "version_minor": 0
      },
      "text/plain": [
       "Downloading:   0%|          | 0.00/772 [00:00<?, ?B/s]"
      ]
     },
     "metadata": {},
     "output_type": "display_data"
    }
   ],
   "source": [
    "from sentence_transformers import CrossEncoder\n",
    "\n",
    "# Load the pre-trained model\n",
    "model = CrossEncoder('cross-encoder/stsb-roberta-base')"
   ]
  },
  {
   "cell_type": "code",
   "execution_count": 32,
   "metadata": {
    "colab": {
     "base_uri": "https://localhost:8080/",
     "height": 49,
     "referenced_widgets": [
      "a3993fc07bd3425aa67f86f31ff36e44",
      "616b81178d5d4ee388b8a846231271b2",
      "fa895204feb646cea732bc7c1aa5cd1e",
      "ad7ff1a363254ab2b3cb00f9f46d29b8",
      "65f1f0ddf1b747bb848cabada62691cf",
      "58bb00e7fdd140a487abbda3aab7d31a",
      "eea7f581d1ab450b94695fa5278cdb83",
      "c444858873e041e49f82de4323f2e639",
      "1a7ae7ed2dc24b5598b9e359328c42e7",
      "4b18e60511b64648b31d5271d340d72d",
      "b174b3cf2ace4873a5ffaabd2687cbc7"
     ]
    },
    "id": "nCq8Us-59auG",
    "outputId": "c489a484-aac7-4ec6-dd0e-78a2ff195ae5"
   },
   "outputs": [
    {
     "data": {
      "application/vnd.jupyter.widget-view+json": {
       "model_id": "288c7b44d4c1499da0aab73b89a1e4c1",
       "version_major": 2,
       "version_minor": 0
      },
      "text/plain": [
       "Batches:   0%|          | 0/200 [00:00<?, ?it/s]"
      ]
     },
     "metadata": {},
     "output_type": "display_data"
    }
   ],
   "source": [
    "sentence_pairs = []\n",
    "for sentence1, sentence2 in zip(data['summary'], data['Claim']):\n",
    "    sentence_pairs.append([sentence1, sentence2])\n",
    "    \n",
    "data['SBERT CrossEncoder_score'] = model.predict(sentence_pairs, show_progress_bar=True)"
   ]
  },
  {
   "cell_type": "code",
   "execution_count": 93,
   "metadata": {
    "colab": {
     "base_uri": "https://localhost:8080/"
    },
    "id": "Amytk5q5ECsv",
    "outputId": "09ac1b0a-407c-42e4-adad-441df9fe442f"
   },
   "outputs": [
    {
     "name": "stderr",
     "output_type": "stream",
     "text": [
      "C:\\Users\\rmanoger\\AppData\\Local\\Packages\\PythonSoftwareFoundation.Python.3.7_qbz5n2kfra8p0\\LocalCache\\local-packages\\Python37\\site-packages\\sklearn\\utils\\deprecation.py:87: FutureWarning: Function get_feature_names is deprecated; get_feature_names is deprecated in 1.0 and will be removed in 1.2. Please use get_feature_names_out instead.\n",
      "  warnings.warn(msg, category=FutureWarning)\n"
     ]
    }
   ],
   "source": [
    "# Using make_column_transformer to One-Hot Encode\n",
    "from sklearn.preprocessing import OneHotEncoder\n",
    "from sklearn.compose import make_column_transformer\n",
    "import pandas as pd\n",
    "\n",
    "\n",
    "transformer = make_column_transformer(\n",
    "    (OneHotEncoder(), ['Country (mentioned)','Source']),\n",
    "    remainder='passthrough')\n",
    "\n",
    "transformed = transformer.fit_transform(data)\n",
    "transformed_df = pd.DataFrame(\n",
    "    transformed, \n",
    "    columns=transformer.get_feature_names()\n",
    ")"
   ]
  },
  {
   "cell_type": "code",
   "execution_count": 94,
   "metadata": {
    "colab": {
     "base_uri": "https://localhost:8080/"
    },
    "id": "lsqPNaSqEB-8",
    "outputId": "e6c6503c-f2a9-4eba-ffc4-4615ccaa6f61"
   },
   "outputs": [
    {
     "data": {
      "text/plain": [
       "Index(['onehotencoder__x0_Brazil', 'onehotencoder__x0_China',\n",
       "       'onehotencoder__x0_France', 'onehotencoder__x0_India',\n",
       "       'onehotencoder__x0_Indonesia', 'onehotencoder__x0_Italy',\n",
       "       'onehotencoder__x0_Others', 'onehotencoder__x0_Portugal',\n",
       "       'onehotencoder__x0_Spain', 'onehotencoder__x0_United Kingdom',\n",
       "       'onehotencoder__x0_United States',\n",
       "       'onehotencoder__x1_government department',\n",
       "       'onehotencoder__x1_multiple sources', 'onehotencoder__x1_news media',\n",
       "       'onehotencoder__x1_others', 'onehotencoder__x1_person',\n",
       "       'onehotencoder__x1_social media', 'onehotencoder__x1_websites',\n",
       "       'Review Date', 'Claim', 'Label', 'Fact-checked Article', 'summary',\n",
       "       'tokenize_Claim', 'tokenize_summary', 'embeddings_Claim',\n",
       "       'embeddings_summary', 'SBERT CrossEncoder_score'],\n",
       "      dtype='object')"
      ]
     },
     "execution_count": 94,
     "metadata": {},
     "output_type": "execute_result"
    }
   ],
   "source": [
    "transformed_df.columns"
   ]
  },
  {
   "cell_type": "code",
   "execution_count": 95,
   "metadata": {
    "id": "D--FN-oLyunB"
   },
   "outputs": [],
   "source": [
    "X = transformed_df[['onehotencoder__x0_Brazil', 'onehotencoder__x0_China',\n",
    "       'onehotencoder__x0_France', 'onehotencoder__x0_India',\n",
    "       'onehotencoder__x0_Indonesia', 'onehotencoder__x0_Italy',\n",
    "       'onehotencoder__x0_Others', 'onehotencoder__x0_Portugal',\n",
    "       'onehotencoder__x0_Spain', 'onehotencoder__x0_United Kingdom',\n",
    "       'onehotencoder__x0_United States', 'onehotencoder__x1_multiple sources',\n",
    "       'onehotencoder__x1_news media', 'onehotencoder__x1_others',\n",
    "       'onehotencoder__x1_person', 'onehotencoder__x1_social media',\n",
    "       'onehotencoder__x1_websites','SBERT CrossEncoder_score']]\n",
    "y = transformed_df['Label'].values\n",
    "y=y.astype('int')"
   ]
  },
  {
   "cell_type": "code",
   "execution_count": 96,
   "metadata": {
    "id": "Flge27AMx0TI"
   },
   "outputs": [],
   "source": [
    "from sklearn.model_selection import train_test_split\n",
    "X_train, X_test, y_train, y_test = train_test_split(X, y, test_size=0.2,stratify=y)"
   ]
  },
  {
   "cell_type": "code",
   "execution_count": 97,
   "metadata": {},
   "outputs": [],
   "source": [
    "from sklearn.tree import DecisionTreeClassifier\n",
    "dtree_model = DecisionTreeClassifier(max_depth = 6).fit(X_train, y_train)\n",
    "dtree_predictions = dtree_model.predict(X_test)"
   ]
  },
  {
   "cell_type": "code",
   "execution_count": 98,
   "metadata": {},
   "outputs": [
    {
     "data": {
      "text/plain": [
       "0.7705559906029757"
      ]
     },
     "execution_count": 98,
     "metadata": {},
     "output_type": "execute_result"
    }
   ],
   "source": [
    "from sklearn import metrics\n",
    "metrics.accuracy_score(y_test,dtree_predictions)"
   ]
  },
  {
   "cell_type": "code",
   "execution_count": 47,
   "metadata": {
    "colab": {
     "base_uri": "https://localhost:8080/",
     "height": 49,
     "referenced_widgets": [
      "ca4d51ce566b4dff95398808f82d3f65",
      "9e18b6021d214ad69afed2f99eb68513",
      "29023c2f5378478c922fce321c7c72c4",
      "a433f4402bf942988efcfc5f654627fe",
      "39a3cb333b8647da902ed4dae3c6a231",
      "b28160f707c341aeba8bbffcda9284ff",
      "204bb15d4eb4478685340e25e672a1c7",
      "d5a0fa3086774eedb678bc35086959d8",
      "3c2a3d6fda5f446e8b0bcb894cce4110",
      "95471deeb1d9413a9c42129b271e180b",
      "7453b22195094025bed1c131dbf49b91"
     ]
    },
    "id": "wPkv4S_VO2EP",
    "outputId": "850b50d4-72e3-461a-d946-89706a9940c6"
   },
   "outputs": [
    {
     "data": {
      "application/vnd.jupyter.widget-view+json": {
       "model_id": "3b147fd1a69b460bbf8a504061179ea1",
       "version_major": 2,
       "version_minor": 0
      },
      "text/plain": [
       "Batches:   0%|          | 0/23 [00:00<?, ?it/s]"
      ]
     },
     "metadata": {},
     "output_type": "display_data"
    }
   ],
   "source": [
    "sentence_pairs_test = []\n",
    "for sentence1, sentence2 in zip(test['summary'], test['Claim']):\n",
    "    sentence_pairs_test.append([sentence1, sentence2])\n",
    "    \n",
    "test['SBERT CrossEncoder_score'] = model.predict(sentence_pairs_test, show_progress_bar=True)"
   ]
  },
  {
   "cell_type": "code",
   "execution_count": 48,
   "metadata": {
    "colab": {
     "base_uri": "https://localhost:8080/",
     "height": 832
    },
    "id": "VQZlapFqX1Al",
    "outputId": "3f71f850-42a0-40b1-be53-5d9607e0cf4d"
   },
   "outputs": [
    {
     "data": {
      "text/html": [
       "<div>\n",
       "<style scoped>\n",
       "    .dataframe tbody tr th:only-of-type {\n",
       "        vertical-align: middle;\n",
       "    }\n",
       "\n",
       "    .dataframe tbody tr th {\n",
       "        vertical-align: top;\n",
       "    }\n",
       "\n",
       "    .dataframe thead th {\n",
       "        text-align: right;\n",
       "    }\n",
       "</style>\n",
       "<table border=\"1\" class=\"dataframe\">\n",
       "  <thead>\n",
       "    <tr style=\"text-align: right;\">\n",
       "      <th></th>\n",
       "      <th>Country (mentioned)</th>\n",
       "      <th>Review Date</th>\n",
       "      <th>Claim</th>\n",
       "      <th>Source</th>\n",
       "      <th>Fact-checked Article</th>\n",
       "      <th>summary</th>\n",
       "      <th>SBERT CrossEncoder_score</th>\n",
       "    </tr>\n",
       "  </thead>\n",
       "  <tbody>\n",
       "    <tr>\n",
       "      <th>0</th>\n",
       "      <td>Israel</td>\n",
       "      <td>Mar 17, 2020</td>\n",
       "      <td>Israel discovered the vaccine for the corona v...</td>\n",
       "      <td>news media</td>\n",
       "      <td>https://piaui.folha.uol.com.br/lupa/2020/03/17...</td>\n",
       "      <td></td>\n",
       "      <td>0.155913</td>\n",
       "    </tr>\n",
       "    <tr>\n",
       "      <th>1</th>\n",
       "      <td>Portugal</td>\n",
       "      <td>Mar 17, 2020</td>\n",
       "      <td>Cristiano Ronaldos hotels will be turned into ...</td>\n",
       "      <td>multiple sources</td>\n",
       "      <td>https://checamos.afp.com/cristiano-ronaldo-nao...</td>\n",
       "      <td>Cristiano Ronaldo não anunciou plano de transf...</td>\n",
       "      <td>0.512800</td>\n",
       "    </tr>\n",
       "    <tr>\n",
       "      <th>2</th>\n",
       "      <td>Brazil</td>\n",
       "      <td>Mar 17, 2020</td>\n",
       "      <td>Preta Gil is with Coronavirus. Dragged 300,000...</td>\n",
       "      <td>facebook</td>\n",
       "      <td>https://piaui.folha.uol.com.br/lupa/2020/03/17...</td>\n",
       "      <td></td>\n",
       "      <td>0.002953</td>\n",
       "    </tr>\n",
       "    <tr>\n",
       "      <th>3</th>\n",
       "      <td>Poland</td>\n",
       "      <td>Mar 17, 2020</td>\n",
       "      <td>Example - closing schools when there were some...</td>\n",
       "      <td>person</td>\n",
       "      <td>https://demagog.org.pl/wypowiedzi/zamkniecie-s...</td>\n",
       "      <td>Zamknięcie szkół w Polsce i we Francji w związ...</td>\n",
       "      <td>0.462299</td>\n",
       "    </tr>\n",
       "    <tr>\n",
       "      <th>4</th>\n",
       "      <td>Germany</td>\n",
       "      <td>Mar 17, 2020</td>\n",
       "      <td>No, Germany for the coronavirus does not put 2...</td>\n",
       "      <td>person</td>\n",
       "      <td>https://pagellapolitica.it/dichiarazioni/8549/...</td>\n",
       "      <td>Il senatore Gianluigi Paragone, espulso dal M5...</td>\n",
       "      <td>0.400960</td>\n",
       "    </tr>\n",
       "    <tr>\n",
       "      <th>...</th>\n",
       "      <td>...</td>\n",
       "      <td>...</td>\n",
       "      <td>...</td>\n",
       "      <td>...</td>\n",
       "      <td>...</td>\n",
       "      <td>...</td>\n",
       "      <td>...</td>\n",
       "    </tr>\n",
       "    <tr>\n",
       "      <th>705</th>\n",
       "      <td>United States</td>\n",
       "      <td>No data</td>\n",
       "      <td>Gen. David Berger said the Marines wouldn't co...</td>\n",
       "      <td>instagram</td>\n",
       "      <td>https://www.factcheck.org/2021/08/scicheck-mar...</td>\n",
       "      <td>A Marine Corps spokesperson told us “there is ...</td>\n",
       "      <td>0.580482</td>\n",
       "    </tr>\n",
       "    <tr>\n",
       "      <th>706</th>\n",
       "      <td>United States</td>\n",
       "      <td>No data</td>\n",
       "      <td>15-year-old boy passes away from heart attack ...</td>\n",
       "      <td>blog</td>\n",
       "      <td>https://www.politifact.com/factchecks/2021/may...</td>\n",
       "      <td>Authorities say they investigate all reports c...</td>\n",
       "      <td>0.590668</td>\n",
       "    </tr>\n",
       "    <tr>\n",
       "      <th>707</th>\n",
       "      <td>United States</td>\n",
       "      <td>No data</td>\n",
       "      <td>â€œChris Christie is in ICU and reported to be...</td>\n",
       "      <td>social media</td>\n",
       "      <td>https://www.politifact.com/factchecks/2020/oct...</td>\n",
       "      <td>Chris Christie announced on Oct. 3 that he had...</td>\n",
       "      <td>0.498163</td>\n",
       "    </tr>\n",
       "    <tr>\n",
       "      <th>708</th>\n",
       "      <td>Denmark</td>\n",
       "      <td>No data</td>\n",
       "      <td>Christian Eriksen's collapse is due to coronav...</td>\n",
       "      <td>instagram</td>\n",
       "      <td>https://www.politifact.com/factchecks/2021/jun...</td>\n",
       "      <td>Danish soccer player Christian Eriksen, 29, su...</td>\n",
       "      <td>0.670260</td>\n",
       "    </tr>\n",
       "    <tr>\n",
       "      <th>709</th>\n",
       "      <td>Denmark</td>\n",
       "      <td>No data</td>\n",
       "      <td>Christian Eriksen's collapse is due to coronav...</td>\n",
       "      <td>news media</td>\n",
       "      <td>https://dpa-factchecking.com/belgium/210614-99...</td>\n",
       "      <td>Vrijwel onmiddellijk nadat de Deense voetballe...</td>\n",
       "      <td>0.438865</td>\n",
       "    </tr>\n",
       "  </tbody>\n",
       "</table>\n",
       "<p>710 rows × 7 columns</p>\n",
       "</div>"
      ],
      "text/plain": [
       "    Country (mentioned)   Review Date  \\\n",
       "0                Israel  Mar 17, 2020   \n",
       "1              Portugal  Mar 17, 2020   \n",
       "2                Brazil  Mar 17, 2020   \n",
       "3                Poland  Mar 17, 2020   \n",
       "4               Germany  Mar 17, 2020   \n",
       "..                  ...           ...   \n",
       "705       United States       No data   \n",
       "706       United States       No data   \n",
       "707       United States       No data   \n",
       "708             Denmark       No data   \n",
       "709             Denmark       No data   \n",
       "\n",
       "                                                 Claim            Source  \\\n",
       "0    Israel discovered the vaccine for the corona v...        news media   \n",
       "1    Cristiano Ronaldos hotels will be turned into ...  multiple sources   \n",
       "2    Preta Gil is with Coronavirus. Dragged 300,000...          facebook   \n",
       "3    Example - closing schools when there were some...            person   \n",
       "4    No, Germany for the coronavirus does not put 2...            person   \n",
       "..                                                 ...               ...   \n",
       "705  Gen. David Berger said the Marines wouldn't co...         instagram   \n",
       "706  15-year-old boy passes away from heart attack ...              blog   \n",
       "707  â€œChris Christie is in ICU and reported to be...      social media   \n",
       "708  Christian Eriksen's collapse is due to coronav...         instagram   \n",
       "709  Christian Eriksen's collapse is due to coronav...        news media   \n",
       "\n",
       "                                  Fact-checked Article  \\\n",
       "0    https://piaui.folha.uol.com.br/lupa/2020/03/17...   \n",
       "1    https://checamos.afp.com/cristiano-ronaldo-nao...   \n",
       "2    https://piaui.folha.uol.com.br/lupa/2020/03/17...   \n",
       "3    https://demagog.org.pl/wypowiedzi/zamkniecie-s...   \n",
       "4    https://pagellapolitica.it/dichiarazioni/8549/...   \n",
       "..                                                 ...   \n",
       "705  https://www.factcheck.org/2021/08/scicheck-mar...   \n",
       "706  https://www.politifact.com/factchecks/2021/may...   \n",
       "707  https://www.politifact.com/factchecks/2020/oct...   \n",
       "708  https://www.politifact.com/factchecks/2021/jun...   \n",
       "709  https://dpa-factchecking.com/belgium/210614-99...   \n",
       "\n",
       "                                               summary  \\\n",
       "0                                                        \n",
       "1    Cristiano Ronaldo não anunciou plano de transf...   \n",
       "2                                                        \n",
       "3    Zamknięcie szkół w Polsce i we Francji w związ...   \n",
       "4    Il senatore Gianluigi Paragone, espulso dal M5...   \n",
       "..                                                 ...   \n",
       "705  A Marine Corps spokesperson told us “there is ...   \n",
       "706  Authorities say they investigate all reports c...   \n",
       "707  Chris Christie announced on Oct. 3 that he had...   \n",
       "708  Danish soccer player Christian Eriksen, 29, su...   \n",
       "709  Vrijwel onmiddellijk nadat de Deense voetballe...   \n",
       "\n",
       "     SBERT CrossEncoder_score  \n",
       "0                    0.155913  \n",
       "1                    0.512800  \n",
       "2                    0.002953  \n",
       "3                    0.462299  \n",
       "4                    0.400960  \n",
       "..                        ...  \n",
       "705                  0.580482  \n",
       "706                  0.590668  \n",
       "707                  0.498163  \n",
       "708                  0.670260  \n",
       "709                  0.438865  \n",
       "\n",
       "[710 rows x 7 columns]"
      ]
     },
     "execution_count": 48,
     "metadata": {},
     "output_type": "execute_result"
    }
   ],
   "source": [
    "test"
   ]
  },
  {
   "cell_type": "code",
   "execution_count": 101,
   "metadata": {
    "colab": {
     "base_uri": "https://localhost:8080/"
    },
    "id": "KGnIRPI2U4DD",
    "outputId": "0896e7e2-f1c0-40de-b5c4-36b25d21eda2"
   },
   "outputs": [
    {
     "name": "stderr",
     "output_type": "stream",
     "text": [
      "C:\\Users\\rmanoger\\AppData\\Local\\Packages\\PythonSoftwareFoundation.Python.3.7_qbz5n2kfra8p0\\LocalCache\\local-packages\\Python37\\site-packages\\sklearn\\utils\\deprecation.py:87: FutureWarning: Function get_feature_names is deprecated; get_feature_names is deprecated in 1.0 and will be removed in 1.2. Please use get_feature_names_out instead.\n",
      "  warnings.warn(msg, category=FutureWarning)\n"
     ]
    }
   ],
   "source": [
    "# Using make_column_transformer to One-Hot Encode\n",
    "from sklearn.preprocessing import OneHotEncoder\n",
    "from sklearn.compose import make_column_transformer\n",
    "import pandas as pd\n",
    "\n",
    "\n",
    "transformer = make_column_transformer(\n",
    "    (OneHotEncoder(sparse=False), ['Country (mentioned)','Source']),\n",
    "    remainder='passthrough')\n",
    "\n",
    "transformed = transformer.fit_transform(test)\n",
    "transformed_df_test = pd.DataFrame(\n",
    "    transformed, \n",
    "    columns=transformer.get_feature_names()\n",
    ")"
   ]
  },
  {
   "cell_type": "code",
   "execution_count": 102,
   "metadata": {
    "colab": {
     "base_uri": "https://localhost:8080/"
    },
    "id": "DhMWOUkjVr4Q",
    "outputId": "1f9550ae-ce52-40fd-f95f-435b10feab9a"
   },
   "outputs": [
    {
     "data": {
      "text/plain": [
       "Index(['onehotencoder__x0_Andorra', 'onehotencoder__x0_Brazil',\n",
       "       'onehotencoder__x0_Cambodia', 'onehotencoder__x0_China',\n",
       "       'onehotencoder__x0_Comoros', 'onehotencoder__x0_France',\n",
       "       'onehotencoder__x0_Gabon', 'onehotencoder__x0_India',\n",
       "       'onehotencoder__x0_Indonesia', 'onehotencoder__x0_Italy',\n",
       "       'onehotencoder__x0_Namibia', 'onehotencoder__x0_Others',\n",
       "       'onehotencoder__x0_Portugal', 'onehotencoder__x0_Spain',\n",
       "       'onehotencoder__x0_Sudan', 'onehotencoder__x0_United Kingdom',\n",
       "       'onehotencoder__x0_United States', 'onehotencoder__x0_Vatican',\n",
       "       'onehotencoder__x1_blog', 'onehotencoder__x1_multiple sources',\n",
       "       'onehotencoder__x1_news media', 'onehotencoder__x1_others',\n",
       "       'onehotencoder__x1_person', 'onehotencoder__x1_social media',\n",
       "       'onehotencoder__x1_websites', 'Review Date', 'Claim',\n",
       "       'Fact-checked Article', 'summary', 'SBERT CrossEncoder_score',\n",
       "       'cosine_sim_scores'],\n",
       "      dtype='object')"
      ]
     },
     "execution_count": 102,
     "metadata": {},
     "output_type": "execute_result"
    }
   ],
   "source": [
    "transformed_df_test.columns"
   ]
  },
  {
   "cell_type": "code",
   "execution_count": 103,
   "metadata": {
    "id": "qSSptRkyVr4R"
   },
   "outputs": [],
   "source": [
    "X = transformed_df_test[['onehotencoder__x0_Brazil', 'onehotencoder__x0_China',\n",
    "       'onehotencoder__x0_France', 'onehotencoder__x0_India',\n",
    "       'onehotencoder__x0_Indonesia', 'onehotencoder__x0_Italy',\n",
    "       'onehotencoder__x0_Others', 'onehotencoder__x0_Portugal',\n",
    "       'onehotencoder__x0_Spain', 'onehotencoder__x0_United Kingdom',\n",
    "       'onehotencoder__x0_United States', 'onehotencoder__x1_multiple sources',\n",
    "       'onehotencoder__x1_news media', 'onehotencoder__x1_others',\n",
    "       'onehotencoder__x1_person', 'onehotencoder__x1_social media',\n",
    "       'onehotencoder__x1_websites','SBERT CrossEncoder_score']]\n"
   ]
  },
  {
   "cell_type": "code",
   "execution_count": 104,
   "metadata": {
    "id": "MV2uEVF4Vr4R"
   },
   "outputs": [],
   "source": [
    "label_predictions = dtree_model.predict(X)\n"
   ]
  },
  {
   "cell_type": "code",
   "execution_count": 105,
   "metadata": {},
   "outputs": [
    {
     "data": {
      "text/plain": [
       "array([0, 0, 0, 0, 0, 0, 0, 0, 0, 0, 0, 0, 0, 0, 0, 0, 0, 0, 0, 0, 0, 2,\n",
       "       1, 1, 0, 0, 0, 0, 0, 0, 0, 0, 0, 0, 0, 0, 0, 0, 0, 0, 0, 0, 0, 0,\n",
       "       0, 0, 0, 0, 0, 0, 0, 0, 0, 0, 0, 0, 0, 0, 0, 0, 0, 0, 0, 0, 0, 0,\n",
       "       0, 0, 0, 0, 0, 0, 0, 0, 0, 0, 0, 0, 0, 0, 0, 0, 0, 0, 0, 0, 0, 0,\n",
       "       0, 0, 0, 0, 0, 0, 0, 0, 0, 0, 0, 0, 0, 0, 0, 0, 0, 0, 0, 0, 0, 0,\n",
       "       0, 0, 0, 0, 0, 0, 0, 0, 0, 0, 0, 0, 0, 0, 0, 0, 0, 0, 0, 0, 0, 0,\n",
       "       0, 0, 0, 0, 0, 0, 0, 0, 0, 0, 0, 0, 0, 0, 0, 0, 0, 0, 0, 0, 0, 0,\n",
       "       0, 0, 0, 0, 0, 0, 0, 0, 0, 0, 0, 0, 0, 0, 0, 0, 0, 0, 0, 0, 0, 0,\n",
       "       0, 0, 0, 0, 0, 0, 0, 0, 0, 0, 0, 0, 0, 0, 0, 0, 0, 0, 0, 0, 0, 0,\n",
       "       0, 0, 0, 0, 0, 0, 0, 0, 0, 0, 0, 0, 0, 0, 0, 0, 0, 0, 0, 0, 0, 0,\n",
       "       0, 0, 0, 0, 0, 0, 0, 0, 0, 0, 0, 2, 0, 0, 0, 0, 0, 0, 0, 0, 0, 0,\n",
       "       0, 0, 0, 0, 0, 0, 0, 0, 0, 0, 0, 0, 2, 0, 0, 0, 0, 0, 0, 0, 0, 0,\n",
       "       0, 0, 0, 0, 0, 0, 0, 0, 0, 0, 0, 0, 0, 0, 0, 0, 0, 0, 0, 0, 0, 0,\n",
       "       0, 0, 0, 0, 0, 0, 0, 0, 0, 0, 0, 0, 0, 0, 0, 0, 0, 0, 0, 0, 0, 0,\n",
       "       0, 0, 0, 0, 0, 0, 0, 0, 0, 0, 0, 0, 0, 0, 0, 0, 0, 0, 0, 0, 0, 0,\n",
       "       0, 0, 0, 0, 0, 0, 0, 0, 0, 0, 0, 0, 0, 0, 0, 0, 0, 0, 0, 0, 0, 0,\n",
       "       0, 0, 0, 0, 0, 0, 0, 0, 0, 0, 0, 0, 0, 0, 0, 0, 0, 0, 0, 0, 0, 0,\n",
       "       0, 0, 0, 0, 0, 0, 0, 0, 0, 0, 0, 0, 0, 0, 0, 0, 0, 0, 0, 0, 0, 0,\n",
       "       0, 0, 0, 0, 0, 0, 0, 0, 0, 0, 0, 0, 0, 0, 0, 0, 0, 0, 0, 0, 0, 0,\n",
       "       0, 0, 0, 0, 0, 0, 0, 0, 0, 0, 0, 0, 0, 0, 0, 0, 0, 0, 0, 0, 0, 0,\n",
       "       0, 0, 0, 0, 0, 0, 0, 0, 0, 0, 0, 0, 0, 0, 0, 0, 0, 0, 0, 0, 0, 0,\n",
       "       0, 0, 0, 0, 0, 0, 0, 0, 0, 0, 0, 0, 0, 0, 0, 0, 0, 0, 0, 0, 0, 0,\n",
       "       0, 0, 0, 0, 0, 0, 0, 0, 0, 0, 0, 0, 0, 0, 0, 0, 0, 0, 0, 0, 0, 0,\n",
       "       0, 0, 0, 0, 0, 0, 0, 0, 0, 0, 0, 0, 0, 0, 0, 0, 0, 0, 0, 0, 0, 0,\n",
       "       0, 0, 0, 0, 0, 0, 0, 0, 0, 0, 0, 0, 0, 0, 0, 0, 0, 0, 0, 0, 0, 0,\n",
       "       0, 0, 0, 0, 0, 0, 0, 0, 0, 0, 0, 0, 0, 0, 0, 0, 0, 0, 0, 0, 0, 0,\n",
       "       0, 0, 0, 0, 0, 0, 0, 0, 0, 0, 0, 0, 0, 0, 0, 0, 0, 0, 0, 0, 0, 0,\n",
       "       0, 0, 0, 0, 0, 0, 0, 0, 0, 0, 0, 0, 0, 0, 0, 0, 0, 0, 1, 0, 0, 0,\n",
       "       0, 0, 0, 0, 0, 0, 0, 0, 0, 0, 0, 0, 0, 0, 0, 0, 0, 0, 0, 0, 0, 0,\n",
       "       0, 0, 0, 0, 0, 0, 0, 0, 0, 0, 0, 0, 0, 0, 0, 0, 0, 0, 0, 0, 0, 0,\n",
       "       0, 0, 0, 0, 0, 0, 0, 0, 0, 0, 0, 0, 0, 0, 0, 0, 0, 0, 0, 0, 0, 0,\n",
       "       0, 0, 0, 0, 0, 0, 0, 0, 0, 0, 0, 0, 0, 0, 0, 0, 0, 0, 0, 0, 0, 0,\n",
       "       0, 0, 0, 0, 0, 0])"
      ]
     },
     "execution_count": 105,
     "metadata": {},
     "output_type": "execute_result"
    }
   ],
   "source": [
    "label_predictions"
   ]
  },
  {
   "cell_type": "code",
   "execution_count": 106,
   "metadata": {
    "id": "FQw-o7f7V9q6"
   },
   "outputs": [],
   "source": [
    "submisssion = pd.DataFrame({'Id':range(1,len(X)+1),'Category':label_predictions})"
   ]
  },
  {
   "cell_type": "code",
   "execution_count": 107,
   "metadata": {
    "id": "YrpfPuLEWYmW"
   },
   "outputs": [],
   "source": [
    "submisssion.to_csv('Submission1_CrossEncoder.csv',index=False)"
   ]
  }
 ],
 "metadata": {
  "accelerator": "GPU",
  "colab": {
   "provenance": []
  },
  "gpuClass": "standard",
  "kernelspec": {
   "display_name": "Python 3 (ipykernel)",
   "language": "python",
   "name": "python3"
  },
  "language_info": {
   "codemirror_mode": {
    "name": "ipython",
    "version": 3
   },
   "file_extension": ".py",
   "mimetype": "text/x-python",
   "name": "python",
   "nbconvert_exporter": "python",
   "pygments_lexer": "ipython3",
   "version": "3.7.9"
  },
  "widgets": {
   "application/vnd.jupyter.widget-state+json": {
    "030eb8d2ffef4c66a950381b2e48612e": {
     "model_module": "@jupyter-widgets/base",
     "model_module_version": "1.2.0",
     "model_name": "LayoutModel",
     "state": {
      "_model_module": "@jupyter-widgets/base",
      "_model_module_version": "1.2.0",
      "_model_name": "LayoutModel",
      "_view_count": null,
      "_view_module": "@jupyter-widgets/base",
      "_view_module_version": "1.2.0",
      "_view_name": "LayoutView",
      "align_content": null,
      "align_items": null,
      "align_self": null,
      "border": null,
      "bottom": null,
      "display": null,
      "flex": null,
      "flex_flow": null,
      "grid_area": null,
      "grid_auto_columns": null,
      "grid_auto_flow": null,
      "grid_auto_rows": null,
      "grid_column": null,
      "grid_gap": null,
      "grid_row": null,
      "grid_template_areas": null,
      "grid_template_columns": null,
      "grid_template_rows": null,
      "height": null,
      "justify_content": null,
      "justify_items": null,
      "left": null,
      "margin": null,
      "max_height": null,
      "max_width": null,
      "min_height": null,
      "min_width": null,
      "object_fit": null,
      "object_position": null,
      "order": null,
      "overflow": null,
      "overflow_x": null,
      "overflow_y": null,
      "padding": null,
      "right": null,
      "top": null,
      "visibility": null,
      "width": null
     }
    },
    "03fca1cc76234f54b95b67fd620f59b0": {
     "model_module": "@jupyter-widgets/base",
     "model_module_version": "1.2.0",
     "model_name": "LayoutModel",
     "state": {
      "_model_module": "@jupyter-widgets/base",
      "_model_module_version": "1.2.0",
      "_model_name": "LayoutModel",
      "_view_count": null,
      "_view_module": "@jupyter-widgets/base",
      "_view_module_version": "1.2.0",
      "_view_name": "LayoutView",
      "align_content": null,
      "align_items": null,
      "align_self": null,
      "border": null,
      "bottom": null,
      "display": null,
      "flex": null,
      "flex_flow": null,
      "grid_area": null,
      "grid_auto_columns": null,
      "grid_auto_flow": null,
      "grid_auto_rows": null,
      "grid_column": null,
      "grid_gap": null,
      "grid_row": null,
      "grid_template_areas": null,
      "grid_template_columns": null,
      "grid_template_rows": null,
      "height": null,
      "justify_content": null,
      "justify_items": null,
      "left": null,
      "margin": null,
      "max_height": null,
      "max_width": null,
      "min_height": null,
      "min_width": null,
      "object_fit": null,
      "object_position": null,
      "order": null,
      "overflow": null,
      "overflow_x": null,
      "overflow_y": null,
      "padding": null,
      "right": null,
      "top": null,
      "visibility": null,
      "width": null
     }
    },
    "0598704daf75433f83622fa8dd5b78ad": {
     "model_module": "@jupyter-widgets/base",
     "model_module_version": "1.2.0",
     "model_name": "LayoutModel",
     "state": {
      "_model_module": "@jupyter-widgets/base",
      "_model_module_version": "1.2.0",
      "_model_name": "LayoutModel",
      "_view_count": null,
      "_view_module": "@jupyter-widgets/base",
      "_view_module_version": "1.2.0",
      "_view_name": "LayoutView",
      "align_content": null,
      "align_items": null,
      "align_self": null,
      "border": null,
      "bottom": null,
      "display": null,
      "flex": null,
      "flex_flow": null,
      "grid_area": null,
      "grid_auto_columns": null,
      "grid_auto_flow": null,
      "grid_auto_rows": null,
      "grid_column": null,
      "grid_gap": null,
      "grid_row": null,
      "grid_template_areas": null,
      "grid_template_columns": null,
      "grid_template_rows": null,
      "height": null,
      "justify_content": null,
      "justify_items": null,
      "left": null,
      "margin": null,
      "max_height": null,
      "max_width": null,
      "min_height": null,
      "min_width": null,
      "object_fit": null,
      "object_position": null,
      "order": null,
      "overflow": null,
      "overflow_x": null,
      "overflow_y": null,
      "padding": null,
      "right": null,
      "top": null,
      "visibility": null,
      "width": null
     }
    },
    "05d157c460d04505880fb70917dda73a": {
     "model_module": "@jupyter-widgets/base",
     "model_module_version": "1.2.0",
     "model_name": "LayoutModel",
     "state": {
      "_model_module": "@jupyter-widgets/base",
      "_model_module_version": "1.2.0",
      "_model_name": "LayoutModel",
      "_view_count": null,
      "_view_module": "@jupyter-widgets/base",
      "_view_module_version": "1.2.0",
      "_view_name": "LayoutView",
      "align_content": null,
      "align_items": null,
      "align_self": null,
      "border": null,
      "bottom": null,
      "display": null,
      "flex": null,
      "flex_flow": null,
      "grid_area": null,
      "grid_auto_columns": null,
      "grid_auto_flow": null,
      "grid_auto_rows": null,
      "grid_column": null,
      "grid_gap": null,
      "grid_row": null,
      "grid_template_areas": null,
      "grid_template_columns": null,
      "grid_template_rows": null,
      "height": null,
      "justify_content": null,
      "justify_items": null,
      "left": null,
      "margin": null,
      "max_height": null,
      "max_width": null,
      "min_height": null,
      "min_width": null,
      "object_fit": null,
      "object_position": null,
      "order": null,
      "overflow": null,
      "overflow_x": null,
      "overflow_y": null,
      "padding": null,
      "right": null,
      "top": null,
      "visibility": null,
      "width": null
     }
    },
    "08a4c3a8e20340b6a34dcbb0d61d10ed": {
     "model_module": "@jupyter-widgets/controls",
     "model_module_version": "1.5.0",
     "model_name": "FloatProgressModel",
     "state": {
      "_dom_classes": [],
      "_model_module": "@jupyter-widgets/controls",
      "_model_module_version": "1.5.0",
      "_model_name": "FloatProgressModel",
      "_view_count": null,
      "_view_module": "@jupyter-widgets/controls",
      "_view_module_version": "1.5.0",
      "_view_name": "ProgressView",
      "bar_style": "success",
      "description": "",
      "description_tooltip": null,
      "layout": "IPY_MODEL_05d157c460d04505880fb70917dda73a",
      "max": 1175,
      "min": 0,
      "orientation": "horizontal",
      "style": "IPY_MODEL_5a4d01c175b94ef2b7b428ac5d181014",
      "value": 1175
     }
    },
    "098378ac298c496aaf21f29b201ceb42": {
     "model_module": "@jupyter-widgets/controls",
     "model_module_version": "1.5.0",
     "model_name": "HBoxModel",
     "state": {
      "_dom_classes": [],
      "_model_module": "@jupyter-widgets/controls",
      "_model_module_version": "1.5.0",
      "_model_name": "HBoxModel",
      "_view_count": null,
      "_view_module": "@jupyter-widgets/controls",
      "_view_module_version": "1.5.0",
      "_view_name": "HBoxView",
      "box_style": "",
      "children": [
       "IPY_MODEL_19b0c00c8a6d4b62b98fd57a459f4cbb",
       "IPY_MODEL_9e392afc49464581bffdd2f90bfe24b1",
       "IPY_MODEL_49ffef26c4364260a540504e9eb06799"
      ],
      "layout": "IPY_MODEL_717fc53ba47e48a99d0079a84792e853"
     }
    },
    "09e4b2b2f501423dbaf54a7e4a712189": {
     "model_module": "@jupyter-widgets/base",
     "model_module_version": "1.2.0",
     "model_name": "LayoutModel",
     "state": {
      "_model_module": "@jupyter-widgets/base",
      "_model_module_version": "1.2.0",
      "_model_name": "LayoutModel",
      "_view_count": null,
      "_view_module": "@jupyter-widgets/base",
      "_view_module_version": "1.2.0",
      "_view_name": "LayoutView",
      "align_content": null,
      "align_items": null,
      "align_self": null,
      "border": null,
      "bottom": null,
      "display": null,
      "flex": null,
      "flex_flow": null,
      "grid_area": null,
      "grid_auto_columns": null,
      "grid_auto_flow": null,
      "grid_auto_rows": null,
      "grid_column": null,
      "grid_gap": null,
      "grid_row": null,
      "grid_template_areas": null,
      "grid_template_columns": null,
      "grid_template_rows": null,
      "height": null,
      "justify_content": null,
      "justify_items": null,
      "left": null,
      "margin": null,
      "max_height": null,
      "max_width": null,
      "min_height": null,
      "min_width": null,
      "object_fit": null,
      "object_position": null,
      "order": null,
      "overflow": null,
      "overflow_x": null,
      "overflow_y": null,
      "padding": null,
      "right": null,
      "top": null,
      "visibility": null,
      "width": null
     }
    },
    "0a913248a2c84b0d820100d753ab6bfe": {
     "model_module": "@jupyter-widgets/base",
     "model_module_version": "1.2.0",
     "model_name": "LayoutModel",
     "state": {
      "_model_module": "@jupyter-widgets/base",
      "_model_module_version": "1.2.0",
      "_model_name": "LayoutModel",
      "_view_count": null,
      "_view_module": "@jupyter-widgets/base",
      "_view_module_version": "1.2.0",
      "_view_name": "LayoutView",
      "align_content": null,
      "align_items": null,
      "align_self": null,
      "border": null,
      "bottom": null,
      "display": null,
      "flex": null,
      "flex_flow": null,
      "grid_area": null,
      "grid_auto_columns": null,
      "grid_auto_flow": null,
      "grid_auto_rows": null,
      "grid_column": null,
      "grid_gap": null,
      "grid_row": null,
      "grid_template_areas": null,
      "grid_template_columns": null,
      "grid_template_rows": null,
      "height": null,
      "justify_content": null,
      "justify_items": null,
      "left": null,
      "margin": null,
      "max_height": null,
      "max_width": null,
      "min_height": null,
      "min_width": null,
      "object_fit": null,
      "object_position": null,
      "order": null,
      "overflow": null,
      "overflow_x": null,
      "overflow_y": null,
      "padding": null,
      "right": null,
      "top": null,
      "visibility": null,
      "width": null
     }
    },
    "0fd273f0f85c49afa7296426905fc849": {
     "model_module": "@jupyter-widgets/controls",
     "model_module_version": "1.5.0",
     "model_name": "DescriptionStyleModel",
     "state": {
      "_model_module": "@jupyter-widgets/controls",
      "_model_module_version": "1.5.0",
      "_model_name": "DescriptionStyleModel",
      "_view_count": null,
      "_view_module": "@jupyter-widgets/base",
      "_view_module_version": "1.2.0",
      "_view_name": "StyleView",
      "description_width": ""
     }
    },
    "108c88aab6bc4df98641f55cb363e704": {
     "model_module": "@jupyter-widgets/controls",
     "model_module_version": "1.5.0",
     "model_name": "FloatProgressModel",
     "state": {
      "_dom_classes": [],
      "_model_module": "@jupyter-widgets/controls",
      "_model_module_version": "1.5.0",
      "_model_name": "FloatProgressModel",
      "_view_count": null,
      "_view_module": "@jupyter-widgets/controls",
      "_view_module_version": "1.5.0",
      "_view_name": "ProgressView",
      "bar_style": "success",
      "description": "",
      "description_tooltip": null,
      "layout": "IPY_MODEL_03fca1cc76234f54b95b67fd620f59b0",
      "max": 39265,
      "min": 0,
      "orientation": "horizontal",
      "style": "IPY_MODEL_d8551d6f4bff4f75aff49de51d40f224",
      "value": 39265
     }
    },
    "1273bec3965e436e97d56b71203aa778": {
     "model_module": "@jupyter-widgets/controls",
     "model_module_version": "1.5.0",
     "model_name": "HTMLModel",
     "state": {
      "_dom_classes": [],
      "_model_module": "@jupyter-widgets/controls",
      "_model_module_version": "1.5.0",
      "_model_name": "HTMLModel",
      "_view_count": null,
      "_view_module": "@jupyter-widgets/controls",
      "_view_module_version": "1.5.0",
      "_view_name": "HTMLView",
      "description": "",
      "description_tooltip": null,
      "layout": "IPY_MODEL_57d5196e2c8041d3b8e7e0d2c5a0f39b",
      "placeholder": "​",
      "style": "IPY_MODEL_2eda0c41284e4c328e9aa6ff4a80b58f",
      "value": "Downloading: 100%"
     }
    },
    "14647c88ff73427abef025f5236fac67": {
     "model_module": "@jupyter-widgets/controls",
     "model_module_version": "1.5.0",
     "model_name": "DescriptionStyleModel",
     "state": {
      "_model_module": "@jupyter-widgets/controls",
      "_model_module_version": "1.5.0",
      "_model_name": "DescriptionStyleModel",
      "_view_count": null,
      "_view_module": "@jupyter-widgets/base",
      "_view_module_version": "1.2.0",
      "_view_name": "StyleView",
      "description_width": ""
     }
    },
    "19b0c00c8a6d4b62b98fd57a459f4cbb": {
     "model_module": "@jupyter-widgets/controls",
     "model_module_version": "1.5.0",
     "model_name": "HTMLModel",
     "state": {
      "_dom_classes": [],
      "_model_module": "@jupyter-widgets/controls",
      "_model_module_version": "1.5.0",
      "_model_name": "HTMLModel",
      "_view_count": null,
      "_view_module": "@jupyter-widgets/controls",
      "_view_module_version": "1.5.0",
      "_view_name": "HTMLView",
      "description": "",
      "description_tooltip": null,
      "layout": "IPY_MODEL_39fe5184e2c34a6784a1c62ed84ab6d0",
      "placeholder": "​",
      "style": "IPY_MODEL_1e7c690c102d49158f147ac07507fb93",
      "value": "Downloading: 100%"
     }
    },
    "1a48b0a9bac14c77acee3e81551eeabd": {
     "model_module": "@jupyter-widgets/controls",
     "model_module_version": "1.5.0",
     "model_name": "HBoxModel",
     "state": {
      "_dom_classes": [],
      "_model_module": "@jupyter-widgets/controls",
      "_model_module_version": "1.5.0",
      "_model_name": "HBoxModel",
      "_view_count": null,
      "_view_module": "@jupyter-widgets/controls",
      "_view_module_version": "1.5.0",
      "_view_name": "HBoxView",
      "box_style": "",
      "children": [
       "IPY_MODEL_37541adfcf064c17be29defd8af60ab7",
       "IPY_MODEL_3028e2f3585946c7b4a85557e4b22245",
       "IPY_MODEL_b3168a5bc98e45389d8a46e3be274afe"
      ],
      "layout": "IPY_MODEL_b01fc45fc6a546629ee142a4e6fb522f"
     }
    },
    "1a7ae7ed2dc24b5598b9e359328c42e7": {
     "model_module": "@jupyter-widgets/controls",
     "model_module_version": "1.5.0",
     "model_name": "ProgressStyleModel",
     "state": {
      "_model_module": "@jupyter-widgets/controls",
      "_model_module_version": "1.5.0",
      "_model_name": "ProgressStyleModel",
      "_view_count": null,
      "_view_module": "@jupyter-widgets/base",
      "_view_module_version": "1.2.0",
      "_view_name": "StyleView",
      "bar_color": null,
      "description_width": ""
     }
    },
    "1be2c8190ac5484fb831e1bac37b0912": {
     "model_module": "@jupyter-widgets/base",
     "model_module_version": "1.2.0",
     "model_name": "LayoutModel",
     "state": {
      "_model_module": "@jupyter-widgets/base",
      "_model_module_version": "1.2.0",
      "_model_name": "LayoutModel",
      "_view_count": null,
      "_view_module": "@jupyter-widgets/base",
      "_view_module_version": "1.2.0",
      "_view_name": "LayoutView",
      "align_content": null,
      "align_items": null,
      "align_self": null,
      "border": null,
      "bottom": null,
      "display": null,
      "flex": null,
      "flex_flow": null,
      "grid_area": null,
      "grid_auto_columns": null,
      "grid_auto_flow": null,
      "grid_auto_rows": null,
      "grid_column": null,
      "grid_gap": null,
      "grid_row": null,
      "grid_template_areas": null,
      "grid_template_columns": null,
      "grid_template_rows": null,
      "height": null,
      "justify_content": null,
      "justify_items": null,
      "left": null,
      "margin": null,
      "max_height": null,
      "max_width": null,
      "min_height": null,
      "min_width": null,
      "object_fit": null,
      "object_position": null,
      "order": null,
      "overflow": null,
      "overflow_x": null,
      "overflow_y": null,
      "padding": null,
      "right": null,
      "top": null,
      "visibility": null,
      "width": null
     }
    },
    "1e7c690c102d49158f147ac07507fb93": {
     "model_module": "@jupyter-widgets/controls",
     "model_module_version": "1.5.0",
     "model_name": "DescriptionStyleModel",
     "state": {
      "_model_module": "@jupyter-widgets/controls",
      "_model_module_version": "1.5.0",
      "_model_name": "DescriptionStyleModel",
      "_view_count": null,
      "_view_module": "@jupyter-widgets/base",
      "_view_module_version": "1.2.0",
      "_view_name": "StyleView",
      "description_width": ""
     }
    },
    "1e7cacd46d1a44b9bb761e1035226f74": {
     "model_module": "@jupyter-widgets/base",
     "model_module_version": "1.2.0",
     "model_name": "LayoutModel",
     "state": {
      "_model_module": "@jupyter-widgets/base",
      "_model_module_version": "1.2.0",
      "_model_name": "LayoutModel",
      "_view_count": null,
      "_view_module": "@jupyter-widgets/base",
      "_view_module_version": "1.2.0",
      "_view_name": "LayoutView",
      "align_content": null,
      "align_items": null,
      "align_self": null,
      "border": null,
      "bottom": null,
      "display": null,
      "flex": null,
      "flex_flow": null,
      "grid_area": null,
      "grid_auto_columns": null,
      "grid_auto_flow": null,
      "grid_auto_rows": null,
      "grid_column": null,
      "grid_gap": null,
      "grid_row": null,
      "grid_template_areas": null,
      "grid_template_columns": null,
      "grid_template_rows": null,
      "height": null,
      "justify_content": null,
      "justify_items": null,
      "left": null,
      "margin": null,
      "max_height": null,
      "max_width": null,
      "min_height": null,
      "min_width": null,
      "object_fit": null,
      "object_position": null,
      "order": null,
      "overflow": null,
      "overflow_x": null,
      "overflow_y": null,
      "padding": null,
      "right": null,
      "top": null,
      "visibility": null,
      "width": null
     }
    },
    "204bb15d4eb4478685340e25e672a1c7": {
     "model_module": "@jupyter-widgets/controls",
     "model_module_version": "1.5.0",
     "model_name": "DescriptionStyleModel",
     "state": {
      "_model_module": "@jupyter-widgets/controls",
      "_model_module_version": "1.5.0",
      "_model_name": "DescriptionStyleModel",
      "_view_count": null,
      "_view_module": "@jupyter-widgets/base",
      "_view_module_version": "1.2.0",
      "_view_name": "StyleView",
      "description_width": ""
     }
    },
    "22cda279e9c84c89b75d2fe32f5608d4": {
     "model_module": "@jupyter-widgets/base",
     "model_module_version": "1.2.0",
     "model_name": "LayoutModel",
     "state": {
      "_model_module": "@jupyter-widgets/base",
      "_model_module_version": "1.2.0",
      "_model_name": "LayoutModel",
      "_view_count": null,
      "_view_module": "@jupyter-widgets/base",
      "_view_module_version": "1.2.0",
      "_view_name": "LayoutView",
      "align_content": null,
      "align_items": null,
      "align_self": null,
      "border": null,
      "bottom": null,
      "display": null,
      "flex": null,
      "flex_flow": null,
      "grid_area": null,
      "grid_auto_columns": null,
      "grid_auto_flow": null,
      "grid_auto_rows": null,
      "grid_column": null,
      "grid_gap": null,
      "grid_row": null,
      "grid_template_areas": null,
      "grid_template_columns": null,
      "grid_template_rows": null,
      "height": null,
      "justify_content": null,
      "justify_items": null,
      "left": null,
      "margin": null,
      "max_height": null,
      "max_width": null,
      "min_height": null,
      "min_width": null,
      "object_fit": null,
      "object_position": null,
      "order": null,
      "overflow": null,
      "overflow_x": null,
      "overflow_y": null,
      "padding": null,
      "right": null,
      "top": null,
      "visibility": null,
      "width": null
     }
    },
    "2331f68ee6d5487cbafdb094c5da4d7f": {
     "model_module": "@jupyter-widgets/base",
     "model_module_version": "1.2.0",
     "model_name": "LayoutModel",
     "state": {
      "_model_module": "@jupyter-widgets/base",
      "_model_module_version": "1.2.0",
      "_model_name": "LayoutModel",
      "_view_count": null,
      "_view_module": "@jupyter-widgets/base",
      "_view_module_version": "1.2.0",
      "_view_name": "LayoutView",
      "align_content": null,
      "align_items": null,
      "align_self": null,
      "border": null,
      "bottom": null,
      "display": null,
      "flex": null,
      "flex_flow": null,
      "grid_area": null,
      "grid_auto_columns": null,
      "grid_auto_flow": null,
      "grid_auto_rows": null,
      "grid_column": null,
      "grid_gap": null,
      "grid_row": null,
      "grid_template_areas": null,
      "grid_template_columns": null,
      "grid_template_rows": null,
      "height": null,
      "justify_content": null,
      "justify_items": null,
      "left": null,
      "margin": null,
      "max_height": null,
      "max_width": null,
      "min_height": null,
      "min_width": null,
      "object_fit": null,
      "object_position": null,
      "order": null,
      "overflow": null,
      "overflow_x": null,
      "overflow_y": null,
      "padding": null,
      "right": null,
      "top": null,
      "visibility": null,
      "width": null
     }
    },
    "24c060497ed044388297f886cf512f25": {
     "model_module": "@jupyter-widgets/controls",
     "model_module_version": "1.5.0",
     "model_name": "ProgressStyleModel",
     "state": {
      "_model_module": "@jupyter-widgets/controls",
      "_model_module_version": "1.5.0",
      "_model_name": "ProgressStyleModel",
      "_view_count": null,
      "_view_module": "@jupyter-widgets/base",
      "_view_module_version": "1.2.0",
      "_view_name": "StyleView",
      "bar_color": null,
      "description_width": ""
     }
    },
    "26a26e0b644d49df81b105ff34955074": {
     "model_module": "@jupyter-widgets/base",
     "model_module_version": "1.2.0",
     "model_name": "LayoutModel",
     "state": {
      "_model_module": "@jupyter-widgets/base",
      "_model_module_version": "1.2.0",
      "_model_name": "LayoutModel",
      "_view_count": null,
      "_view_module": "@jupyter-widgets/base",
      "_view_module_version": "1.2.0",
      "_view_name": "LayoutView",
      "align_content": null,
      "align_items": null,
      "align_self": null,
      "border": null,
      "bottom": null,
      "display": null,
      "flex": null,
      "flex_flow": null,
      "grid_area": null,
      "grid_auto_columns": null,
      "grid_auto_flow": null,
      "grid_auto_rows": null,
      "grid_column": null,
      "grid_gap": null,
      "grid_row": null,
      "grid_template_areas": null,
      "grid_template_columns": null,
      "grid_template_rows": null,
      "height": null,
      "justify_content": null,
      "justify_items": null,
      "left": null,
      "margin": null,
      "max_height": null,
      "max_width": null,
      "min_height": null,
      "min_width": null,
      "object_fit": null,
      "object_position": null,
      "order": null,
      "overflow": null,
      "overflow_x": null,
      "overflow_y": null,
      "padding": null,
      "right": null,
      "top": null,
      "visibility": null,
      "width": null
     }
    },
    "28d62d8e469941449e7b3526d1894008": {
     "model_module": "@jupyter-widgets/controls",
     "model_module_version": "1.5.0",
     "model_name": "FloatProgressModel",
     "state": {
      "_dom_classes": [],
      "_model_module": "@jupyter-widgets/controls",
      "_model_module_version": "1.5.0",
      "_model_name": "FloatProgressModel",
      "_view_count": null,
      "_view_module": "@jupyter-widgets/controls",
      "_view_module_version": "1.5.0",
      "_view_name": "ProgressView",
      "bar_style": "success",
      "description": "",
      "description_tooltip": null,
      "layout": "IPY_MODEL_29c27616b84a40d2be97a48f351846a7",
      "max": 53,
      "min": 0,
      "orientation": "horizontal",
      "style": "IPY_MODEL_4b29d19ea0c148d5814a7655b9c61877",
      "value": 53
     }
    },
    "28d9d622efda469abc870c01209b014a": {
     "model_module": "@jupyter-widgets/controls",
     "model_module_version": "1.5.0",
     "model_name": "ProgressStyleModel",
     "state": {
      "_model_module": "@jupyter-widgets/controls",
      "_model_module_version": "1.5.0",
      "_model_name": "ProgressStyleModel",
      "_view_count": null,
      "_view_module": "@jupyter-widgets/base",
      "_view_module_version": "1.2.0",
      "_view_name": "StyleView",
      "bar_color": null,
      "description_width": ""
     }
    },
    "29023c2f5378478c922fce321c7c72c4": {
     "model_module": "@jupyter-widgets/controls",
     "model_module_version": "1.5.0",
     "model_name": "FloatProgressModel",
     "state": {
      "_dom_classes": [],
      "_model_module": "@jupyter-widgets/controls",
      "_model_module_version": "1.5.0",
      "_model_name": "FloatProgressModel",
      "_view_count": null,
      "_view_module": "@jupyter-widgets/controls",
      "_view_module_version": "1.5.0",
      "_view_name": "ProgressView",
      "bar_style": "success",
      "description": "",
      "description_tooltip": null,
      "layout": "IPY_MODEL_d5a0fa3086774eedb678bc35086959d8",
      "max": 23,
      "min": 0,
      "orientation": "horizontal",
      "style": "IPY_MODEL_3c2a3d6fda5f446e8b0bcb894cce4110",
      "value": 23
     }
    },
    "29c27616b84a40d2be97a48f351846a7": {
     "model_module": "@jupyter-widgets/base",
     "model_module_version": "1.2.0",
     "model_name": "LayoutModel",
     "state": {
      "_model_module": "@jupyter-widgets/base",
      "_model_module_version": "1.2.0",
      "_model_name": "LayoutModel",
      "_view_count": null,
      "_view_module": "@jupyter-widgets/base",
      "_view_module_version": "1.2.0",
      "_view_name": "LayoutView",
      "align_content": null,
      "align_items": null,
      "align_self": null,
      "border": null,
      "bottom": null,
      "display": null,
      "flex": null,
      "flex_flow": null,
      "grid_area": null,
      "grid_auto_columns": null,
      "grid_auto_flow": null,
      "grid_auto_rows": null,
      "grid_column": null,
      "grid_gap": null,
      "grid_row": null,
      "grid_template_areas": null,
      "grid_template_columns": null,
      "grid_template_rows": null,
      "height": null,
      "justify_content": null,
      "justify_items": null,
      "left": null,
      "margin": null,
      "max_height": null,
      "max_width": null,
      "min_height": null,
      "min_width": null,
      "object_fit": null,
      "object_position": null,
      "order": null,
      "overflow": null,
      "overflow_x": null,
      "overflow_y": null,
      "padding": null,
      "right": null,
      "top": null,
      "visibility": null,
      "width": null
     }
    },
    "2b55ed2f067e49a7b8043017b95bcab5": {
     "model_module": "@jupyter-widgets/controls",
     "model_module_version": "1.5.0",
     "model_name": "HTMLModel",
     "state": {
      "_dom_classes": [],
      "_model_module": "@jupyter-widgets/controls",
      "_model_module_version": "1.5.0",
      "_model_name": "HTMLModel",
      "_view_count": null,
      "_view_module": "@jupyter-widgets/controls",
      "_view_module_version": "1.5.0",
      "_view_name": "HTMLView",
      "description": "",
      "description_tooltip": null,
      "layout": "IPY_MODEL_f1d0428f168a4fbe90719f43606a4f8b",
      "placeholder": "​",
      "style": "IPY_MODEL_516135b8920c4d738a3afb1cf9dad3c6",
      "value": " 350/350 [00:00&lt;00:00, 4.97kB/s]"
     }
    },
    "2d9d0614794c4301b70ba009d9d83276": {
     "model_module": "@jupyter-widgets/controls",
     "model_module_version": "1.5.0",
     "model_name": "DescriptionStyleModel",
     "state": {
      "_model_module": "@jupyter-widgets/controls",
      "_model_module_version": "1.5.0",
      "_model_name": "DescriptionStyleModel",
      "_view_count": null,
      "_view_module": "@jupyter-widgets/base",
      "_view_module_version": "1.2.0",
      "_view_name": "StyleView",
      "description_width": ""
     }
    },
    "2eda0c41284e4c328e9aa6ff4a80b58f": {
     "model_module": "@jupyter-widgets/controls",
     "model_module_version": "1.5.0",
     "model_name": "DescriptionStyleModel",
     "state": {
      "_model_module": "@jupyter-widgets/controls",
      "_model_module_version": "1.5.0",
      "_model_name": "DescriptionStyleModel",
      "_view_count": null,
      "_view_module": "@jupyter-widgets/base",
      "_view_module_version": "1.2.0",
      "_view_name": "StyleView",
      "description_width": ""
     }
    },
    "3028e2f3585946c7b4a85557e4b22245": {
     "model_module": "@jupyter-widgets/controls",
     "model_module_version": "1.5.0",
     "model_name": "FloatProgressModel",
     "state": {
      "_dom_classes": [],
      "_model_module": "@jupyter-widgets/controls",
      "_model_module_version": "1.5.0",
      "_model_name": "FloatProgressModel",
      "_view_count": null,
      "_view_module": "@jupyter-widgets/controls",
      "_view_module_version": "1.5.0",
      "_view_name": "ProgressView",
      "bar_style": "success",
      "description": "",
      "description_tooltip": null,
      "layout": "IPY_MODEL_8b495d78a6db45a4a316099b38719a35",
      "max": 190,
      "min": 0,
      "orientation": "horizontal",
      "style": "IPY_MODEL_6f580650908f4b87863eb95d8636c4d1",
      "value": 190
     }
    },
    "304cd8fba5f94c558e1243387100ca22": {
     "model_module": "@jupyter-widgets/controls",
     "model_module_version": "1.5.0",
     "model_name": "HTMLModel",
     "state": {
      "_dom_classes": [],
      "_model_module": "@jupyter-widgets/controls",
      "_model_module_version": "1.5.0",
      "_model_name": "HTMLModel",
      "_view_count": null,
      "_view_module": "@jupyter-widgets/controls",
      "_view_module_version": "1.5.0",
      "_view_name": "HTMLView",
      "description": "",
      "description_tooltip": null,
      "layout": "IPY_MODEL_a209983d73454a009e79d9a3e1e77c20",
      "placeholder": "​",
      "style": "IPY_MODEL_5dfa7098e6064c6eba9cc146a0ba8e1c",
      "value": " 39.3k/39.3k [00:00&lt;00:00, 963kB/s]"
     }
    },
    "32c4a6bdebfb468b985bc433569c52c1": {
     "model_module": "@jupyter-widgets/controls",
     "model_module_version": "1.5.0",
     "model_name": "DescriptionStyleModel",
     "state": {
      "_model_module": "@jupyter-widgets/controls",
      "_model_module_version": "1.5.0",
      "_model_name": "DescriptionStyleModel",
      "_view_count": null,
      "_view_module": "@jupyter-widgets/base",
      "_view_module_version": "1.2.0",
      "_view_name": "StyleView",
      "description_width": ""
     }
    },
    "33aa560a3bab482dad0b8817b11e1bab": {
     "model_module": "@jupyter-widgets/base",
     "model_module_version": "1.2.0",
     "model_name": "LayoutModel",
     "state": {
      "_model_module": "@jupyter-widgets/base",
      "_model_module_version": "1.2.0",
      "_model_name": "LayoutModel",
      "_view_count": null,
      "_view_module": "@jupyter-widgets/base",
      "_view_module_version": "1.2.0",
      "_view_name": "LayoutView",
      "align_content": null,
      "align_items": null,
      "align_self": null,
      "border": null,
      "bottom": null,
      "display": null,
      "flex": null,
      "flex_flow": null,
      "grid_area": null,
      "grid_auto_columns": null,
      "grid_auto_flow": null,
      "grid_auto_rows": null,
      "grid_column": null,
      "grid_gap": null,
      "grid_row": null,
      "grid_template_areas": null,
      "grid_template_columns": null,
      "grid_template_rows": null,
      "height": null,
      "justify_content": null,
      "justify_items": null,
      "left": null,
      "margin": null,
      "max_height": null,
      "max_width": null,
      "min_height": null,
      "min_width": null,
      "object_fit": null,
      "object_position": null,
      "order": null,
      "overflow": null,
      "overflow_x": null,
      "overflow_y": null,
      "padding": null,
      "right": null,
      "top": null,
      "visibility": null,
      "width": null
     }
    },
    "37398003bbe44a0588d05a367e8586ba": {
     "model_module": "@jupyter-widgets/controls",
     "model_module_version": "1.5.0",
     "model_name": "FloatProgressModel",
     "state": {
      "_dom_classes": [],
      "_model_module": "@jupyter-widgets/controls",
      "_model_module_version": "1.5.0",
      "_model_name": "FloatProgressModel",
      "_view_count": null,
      "_view_module": "@jupyter-widgets/controls",
      "_view_module_version": "1.5.0",
      "_view_name": "ProgressView",
      "bar_style": "success",
      "description": "",
      "description_tooltip": null,
      "layout": "IPY_MODEL_030eb8d2ffef4c66a950381b2e48612e",
      "max": 10610,
      "min": 0,
      "orientation": "horizontal",
      "style": "IPY_MODEL_e049958a36d64c8f96d1f8e85ddabc49",
      "value": 10610
     }
    },
    "37541adfcf064c17be29defd8af60ab7": {
     "model_module": "@jupyter-widgets/controls",
     "model_module_version": "1.5.0",
     "model_name": "HTMLModel",
     "state": {
      "_dom_classes": [],
      "_model_module": "@jupyter-widgets/controls",
      "_model_module_version": "1.5.0",
      "_model_name": "HTMLModel",
      "_view_count": null,
      "_view_module": "@jupyter-widgets/controls",
      "_view_module_version": "1.5.0",
      "_view_name": "HTMLView",
      "description": "",
      "description_tooltip": null,
      "layout": "IPY_MODEL_9026c19841a043aca10352abc1424dea",
      "placeholder": "​",
      "style": "IPY_MODEL_d5465638d2d74cbab9a7e4562264d041",
      "value": "Downloading: 100%"
     }
    },
    "38a5341d761d4870a6654113075d906c": {
     "model_module": "@jupyter-widgets/controls",
     "model_module_version": "1.5.0",
     "model_name": "HBoxModel",
     "state": {
      "_dom_classes": [],
      "_model_module": "@jupyter-widgets/controls",
      "_model_module_version": "1.5.0",
      "_model_name": "HBoxModel",
      "_view_count": null,
      "_view_module": "@jupyter-widgets/controls",
      "_view_module_version": "1.5.0",
      "_view_name": "HBoxView",
      "box_style": "",
      "children": [
       "IPY_MODEL_418f3d9b5e674b1fb939f6d53c51a662",
       "IPY_MODEL_3ee478c29e514eada157933666ca23ae",
       "IPY_MODEL_804359ead3eb450da59237045fa2ebb2"
      ],
      "layout": "IPY_MODEL_790896c7236e4b6a8b94ad5934e72ea3"
     }
    },
    "397e63bd41a644089b52204dbe47fd34": {
     "model_module": "@jupyter-widgets/controls",
     "model_module_version": "1.5.0",
     "model_name": "DescriptionStyleModel",
     "state": {
      "_model_module": "@jupyter-widgets/controls",
      "_model_module_version": "1.5.0",
      "_model_name": "DescriptionStyleModel",
      "_view_count": null,
      "_view_module": "@jupyter-widgets/base",
      "_view_module_version": "1.2.0",
      "_view_name": "StyleView",
      "description_width": ""
     }
    },
    "39a3cb333b8647da902ed4dae3c6a231": {
     "model_module": "@jupyter-widgets/base",
     "model_module_version": "1.2.0",
     "model_name": "LayoutModel",
     "state": {
      "_model_module": "@jupyter-widgets/base",
      "_model_module_version": "1.2.0",
      "_model_name": "LayoutModel",
      "_view_count": null,
      "_view_module": "@jupyter-widgets/base",
      "_view_module_version": "1.2.0",
      "_view_name": "LayoutView",
      "align_content": null,
      "align_items": null,
      "align_self": null,
      "border": null,
      "bottom": null,
      "display": null,
      "flex": null,
      "flex_flow": null,
      "grid_area": null,
      "grid_auto_columns": null,
      "grid_auto_flow": null,
      "grid_auto_rows": null,
      "grid_column": null,
      "grid_gap": null,
      "grid_row": null,
      "grid_template_areas": null,
      "grid_template_columns": null,
      "grid_template_rows": null,
      "height": null,
      "justify_content": null,
      "justify_items": null,
      "left": null,
      "margin": null,
      "max_height": null,
      "max_width": null,
      "min_height": null,
      "min_width": null,
      "object_fit": null,
      "object_position": null,
      "order": null,
      "overflow": null,
      "overflow_x": null,
      "overflow_y": null,
      "padding": null,
      "right": null,
      "top": null,
      "visibility": null,
      "width": null
     }
    },
    "39fe5184e2c34a6784a1c62ed84ab6d0": {
     "model_module": "@jupyter-widgets/base",
     "model_module_version": "1.2.0",
     "model_name": "LayoutModel",
     "state": {
      "_model_module": "@jupyter-widgets/base",
      "_model_module_version": "1.2.0",
      "_model_name": "LayoutModel",
      "_view_count": null,
      "_view_module": "@jupyter-widgets/base",
      "_view_module_version": "1.2.0",
      "_view_name": "LayoutView",
      "align_content": null,
      "align_items": null,
      "align_self": null,
      "border": null,
      "bottom": null,
      "display": null,
      "flex": null,
      "flex_flow": null,
      "grid_area": null,
      "grid_auto_columns": null,
      "grid_auto_flow": null,
      "grid_auto_rows": null,
      "grid_column": null,
      "grid_gap": null,
      "grid_row": null,
      "grid_template_areas": null,
      "grid_template_columns": null,
      "grid_template_rows": null,
      "height": null,
      "justify_content": null,
      "justify_items": null,
      "left": null,
      "margin": null,
      "max_height": null,
      "max_width": null,
      "min_height": null,
      "min_width": null,
      "object_fit": null,
      "object_position": null,
      "order": null,
      "overflow": null,
      "overflow_x": null,
      "overflow_y": null,
      "padding": null,
      "right": null,
      "top": null,
      "visibility": null,
      "width": null
     }
    },
    "3c2a3d6fda5f446e8b0bcb894cce4110": {
     "model_module": "@jupyter-widgets/controls",
     "model_module_version": "1.5.0",
     "model_name": "ProgressStyleModel",
     "state": {
      "_model_module": "@jupyter-widgets/controls",
      "_model_module_version": "1.5.0",
      "_model_name": "ProgressStyleModel",
      "_view_count": null,
      "_view_module": "@jupyter-widgets/base",
      "_view_module_version": "1.2.0",
      "_view_name": "StyleView",
      "bar_color": null,
      "description_width": ""
     }
    },
    "3ee478c29e514eada157933666ca23ae": {
     "model_module": "@jupyter-widgets/controls",
     "model_module_version": "1.5.0",
     "model_name": "FloatProgressModel",
     "state": {
      "_dom_classes": [],
      "_model_module": "@jupyter-widgets/controls",
      "_model_module_version": "1.5.0",
      "_model_name": "FloatProgressModel",
      "_view_count": null,
      "_view_module": "@jupyter-widgets/controls",
      "_view_module_version": "1.5.0",
      "_view_name": "ProgressView",
      "bar_style": "success",
      "description": "",
      "description_tooltip": null,
      "layout": "IPY_MODEL_0a913248a2c84b0d820100d753ab6bfe",
      "max": 112,
      "min": 0,
      "orientation": "horizontal",
      "style": "IPY_MODEL_baec7e2728d7452d9831897171772198",
      "value": 112
     }
    },
    "402f026f011340a382eedd259d25f4a5": {
     "model_module": "@jupyter-widgets/controls",
     "model_module_version": "1.5.0",
     "model_name": "FloatProgressModel",
     "state": {
      "_dom_classes": [],
      "_model_module": "@jupyter-widgets/controls",
      "_model_module_version": "1.5.0",
      "_model_name": "FloatProgressModel",
      "_view_count": null,
      "_view_module": "@jupyter-widgets/controls",
      "_view_module_version": "1.5.0",
      "_view_name": "ProgressView",
      "bar_style": "success",
      "description": "",
      "description_tooltip": null,
      "layout": "IPY_MODEL_4cd93591b4ce45659e0fd76c50ecce77",
      "max": 466247,
      "min": 0,
      "orientation": "horizontal",
      "style": "IPY_MODEL_92825f991418464282f0e9be72f12fde",
      "value": 466247
     }
    },
    "4063421363b14a91af84e09c659722ed": {
     "model_module": "@jupyter-widgets/controls",
     "model_module_version": "1.5.0",
     "model_name": "FloatProgressModel",
     "state": {
      "_dom_classes": [],
      "_model_module": "@jupyter-widgets/controls",
      "_model_module_version": "1.5.0",
      "_model_name": "FloatProgressModel",
      "_view_count": null,
      "_view_module": "@jupyter-widgets/controls",
      "_view_module_version": "1.5.0",
      "_view_name": "ProgressView",
      "bar_style": "success",
      "description": "",
      "description_tooltip": null,
      "layout": "IPY_MODEL_ba9e4a5c117d47aaad2b93eae9041b12",
      "max": 13156,
      "min": 0,
      "orientation": "horizontal",
      "style": "IPY_MODEL_996fabaa089940ea861cc61965d568ce",
      "value": 13156
     }
    },
    "40a6a2adc84a42f6b83c4f5d95e8386e": {
     "model_module": "@jupyter-widgets/base",
     "model_module_version": "1.2.0",
     "model_name": "LayoutModel",
     "state": {
      "_model_module": "@jupyter-widgets/base",
      "_model_module_version": "1.2.0",
      "_model_name": "LayoutModel",
      "_view_count": null,
      "_view_module": "@jupyter-widgets/base",
      "_view_module_version": "1.2.0",
      "_view_name": "LayoutView",
      "align_content": null,
      "align_items": null,
      "align_self": null,
      "border": null,
      "bottom": null,
      "display": null,
      "flex": null,
      "flex_flow": null,
      "grid_area": null,
      "grid_auto_columns": null,
      "grid_auto_flow": null,
      "grid_auto_rows": null,
      "grid_column": null,
      "grid_gap": null,
      "grid_row": null,
      "grid_template_areas": null,
      "grid_template_columns": null,
      "grid_template_rows": null,
      "height": null,
      "justify_content": null,
      "justify_items": null,
      "left": null,
      "margin": null,
      "max_height": null,
      "max_width": null,
      "min_height": null,
      "min_width": null,
      "object_fit": null,
      "object_position": null,
      "order": null,
      "overflow": null,
      "overflow_x": null,
      "overflow_y": null,
      "padding": null,
      "right": null,
      "top": null,
      "visibility": null,
      "width": null
     }
    },
    "418f3d9b5e674b1fb939f6d53c51a662": {
     "model_module": "@jupyter-widgets/controls",
     "model_module_version": "1.5.0",
     "model_name": "HTMLModel",
     "state": {
      "_dom_classes": [],
      "_model_module": "@jupyter-widgets/controls",
      "_model_module_version": "1.5.0",
      "_model_name": "HTMLModel",
      "_view_count": null,
      "_view_module": "@jupyter-widgets/controls",
      "_view_module_version": "1.5.0",
      "_view_name": "HTMLView",
      "description": "",
      "description_tooltip": null,
      "layout": "IPY_MODEL_66b21c51b4284947a76ca96f6d98dcf0",
      "placeholder": "​",
      "style": "IPY_MODEL_7b82279459914559b7a846bd89e707e6",
      "value": "Downloading: 100%"
     }
    },
    "45ba4093e4bb4264b8e4d57ba7b83482": {
     "model_module": "@jupyter-widgets/controls",
     "model_module_version": "1.5.0",
     "model_name": "HTMLModel",
     "state": {
      "_dom_classes": [],
      "_model_module": "@jupyter-widgets/controls",
      "_model_module_version": "1.5.0",
      "_model_name": "HTMLModel",
      "_view_count": null,
      "_view_module": "@jupyter-widgets/controls",
      "_view_module_version": "1.5.0",
      "_view_name": "HTMLView",
      "description": "",
      "description_tooltip": null,
      "layout": "IPY_MODEL_80baad3cd38644f6b83e5da377e33513",
      "placeholder": "​",
      "style": "IPY_MODEL_9319661f3c1145899f2b2445aa8884ac",
      "value": " 13.2k/13.2k [00:00&lt;00:00, 8.41kB/s]"
     }
    },
    "497c6e9c0dd7428ea49fad0ea429cb59": {
     "model_module": "@jupyter-widgets/base",
     "model_module_version": "1.2.0",
     "model_name": "LayoutModel",
     "state": {
      "_model_module": "@jupyter-widgets/base",
      "_model_module_version": "1.2.0",
      "_model_name": "LayoutModel",
      "_view_count": null,
      "_view_module": "@jupyter-widgets/base",
      "_view_module_version": "1.2.0",
      "_view_name": "LayoutView",
      "align_content": null,
      "align_items": null,
      "align_self": null,
      "border": null,
      "bottom": null,
      "display": null,
      "flex": null,
      "flex_flow": null,
      "grid_area": null,
      "grid_auto_columns": null,
      "grid_auto_flow": null,
      "grid_auto_rows": null,
      "grid_column": null,
      "grid_gap": null,
      "grid_row": null,
      "grid_template_areas": null,
      "grid_template_columns": null,
      "grid_template_rows": null,
      "height": null,
      "justify_content": null,
      "justify_items": null,
      "left": null,
      "margin": null,
      "max_height": null,
      "max_width": null,
      "min_height": null,
      "min_width": null,
      "object_fit": null,
      "object_position": null,
      "order": null,
      "overflow": null,
      "overflow_x": null,
      "overflow_y": null,
      "padding": null,
      "right": null,
      "top": null,
      "visibility": null,
      "width": null
     }
    },
    "49ffef26c4364260a540504e9eb06799": {
     "model_module": "@jupyter-widgets/controls",
     "model_module_version": "1.5.0",
     "model_name": "HTMLModel",
     "state": {
      "_dom_classes": [],
      "_model_module": "@jupyter-widgets/controls",
      "_model_module_version": "1.5.0",
      "_model_name": "HTMLModel",
      "_view_count": null,
      "_view_module": "@jupyter-widgets/controls",
      "_view_module_version": "1.5.0",
      "_view_name": "HTMLView",
      "description": "",
      "description_tooltip": null,
      "layout": "IPY_MODEL_e29a91be14c0426caf4a1b789e47b57e",
      "placeholder": "​",
      "style": "IPY_MODEL_beb816d99f964d11adabaa6426615969",
      "value": " 90.9M/90.9M [00:03&lt;00:00, 22.7MB/s]"
     }
    },
    "4a5e82449e874feba4cc5ca29f906699": {
     "model_module": "@jupyter-widgets/controls",
     "model_module_version": "1.5.0",
     "model_name": "DescriptionStyleModel",
     "state": {
      "_model_module": "@jupyter-widgets/controls",
      "_model_module_version": "1.5.0",
      "_model_name": "DescriptionStyleModel",
      "_view_count": null,
      "_view_module": "@jupyter-widgets/base",
      "_view_module_version": "1.2.0",
      "_view_name": "StyleView",
      "description_width": ""
     }
    },
    "4b18e60511b64648b31d5271d340d72d": {
     "model_module": "@jupyter-widgets/base",
     "model_module_version": "1.2.0",
     "model_name": "LayoutModel",
     "state": {
      "_model_module": "@jupyter-widgets/base",
      "_model_module_version": "1.2.0",
      "_model_name": "LayoutModel",
      "_view_count": null,
      "_view_module": "@jupyter-widgets/base",
      "_view_module_version": "1.2.0",
      "_view_name": "LayoutView",
      "align_content": null,
      "align_items": null,
      "align_self": null,
      "border": null,
      "bottom": null,
      "display": null,
      "flex": null,
      "flex_flow": null,
      "grid_area": null,
      "grid_auto_columns": null,
      "grid_auto_flow": null,
      "grid_auto_rows": null,
      "grid_column": null,
      "grid_gap": null,
      "grid_row": null,
      "grid_template_areas": null,
      "grid_template_columns": null,
      "grid_template_rows": null,
      "height": null,
      "justify_content": null,
      "justify_items": null,
      "left": null,
      "margin": null,
      "max_height": null,
      "max_width": null,
      "min_height": null,
      "min_width": null,
      "object_fit": null,
      "object_position": null,
      "order": null,
      "overflow": null,
      "overflow_x": null,
      "overflow_y": null,
      "padding": null,
      "right": null,
      "top": null,
      "visibility": null,
      "width": null
     }
    },
    "4b29d19ea0c148d5814a7655b9c61877": {
     "model_module": "@jupyter-widgets/controls",
     "model_module_version": "1.5.0",
     "model_name": "ProgressStyleModel",
     "state": {
      "_model_module": "@jupyter-widgets/controls",
      "_model_module_version": "1.5.0",
      "_model_name": "ProgressStyleModel",
      "_view_count": null,
      "_view_module": "@jupyter-widgets/base",
      "_view_module_version": "1.2.0",
      "_view_name": "StyleView",
      "bar_color": null,
      "description_width": ""
     }
    },
    "4b7c7ca5a4e54ceb93b32da1733745a0": {
     "model_module": "@jupyter-widgets/controls",
     "model_module_version": "1.5.0",
     "model_name": "FloatProgressModel",
     "state": {
      "_dom_classes": [],
      "_model_module": "@jupyter-widgets/controls",
      "_model_module_version": "1.5.0",
      "_model_name": "FloatProgressModel",
      "_view_count": null,
      "_view_module": "@jupyter-widgets/controls",
      "_view_module_version": "1.5.0",
      "_view_name": "ProgressView",
      "bar_style": "success",
      "description": "",
      "description_tooltip": null,
      "layout": "IPY_MODEL_ab12e3fc27544e68821fb0f5ebc5b8e1",
      "max": 116,
      "min": 0,
      "orientation": "horizontal",
      "style": "IPY_MODEL_a843118c98604304bba67d5012d39173",
      "value": 116
     }
    },
    "4cd93591b4ce45659e0fd76c50ecce77": {
     "model_module": "@jupyter-widgets/base",
     "model_module_version": "1.2.0",
     "model_name": "LayoutModel",
     "state": {
      "_model_module": "@jupyter-widgets/base",
      "_model_module_version": "1.2.0",
      "_model_name": "LayoutModel",
      "_view_count": null,
      "_view_module": "@jupyter-widgets/base",
      "_view_module_version": "1.2.0",
      "_view_name": "LayoutView",
      "align_content": null,
      "align_items": null,
      "align_self": null,
      "border": null,
      "bottom": null,
      "display": null,
      "flex": null,
      "flex_flow": null,
      "grid_area": null,
      "grid_auto_columns": null,
      "grid_auto_flow": null,
      "grid_auto_rows": null,
      "grid_column": null,
      "grid_gap": null,
      "grid_row": null,
      "grid_template_areas": null,
      "grid_template_columns": null,
      "grid_template_rows": null,
      "height": null,
      "justify_content": null,
      "justify_items": null,
      "left": null,
      "margin": null,
      "max_height": null,
      "max_width": null,
      "min_height": null,
      "min_width": null,
      "object_fit": null,
      "object_position": null,
      "order": null,
      "overflow": null,
      "overflow_x": null,
      "overflow_y": null,
      "padding": null,
      "right": null,
      "top": null,
      "visibility": null,
      "width": null
     }
    },
    "4eb4e12c184a4536a1dc357eecdf12ab": {
     "model_module": "@jupyter-widgets/controls",
     "model_module_version": "1.5.0",
     "model_name": "HTMLModel",
     "state": {
      "_dom_classes": [],
      "_model_module": "@jupyter-widgets/controls",
      "_model_module_version": "1.5.0",
      "_model_name": "HTMLModel",
      "_view_count": null,
      "_view_module": "@jupyter-widgets/controls",
      "_view_module_version": "1.5.0",
      "_view_name": "HTMLView",
      "description": "",
      "description_tooltip": null,
      "layout": "IPY_MODEL_40a6a2adc84a42f6b83c4f5d95e8386e",
      "placeholder": "​",
      "style": "IPY_MODEL_2d9d0614794c4301b70ba009d9d83276",
      "value": "Downloading: 100%"
     }
    },
    "4f68f27452154f2b95e0c33572b2d3a3": {
     "model_module": "@jupyter-widgets/base",
     "model_module_version": "1.2.0",
     "model_name": "LayoutModel",
     "state": {
      "_model_module": "@jupyter-widgets/base",
      "_model_module_version": "1.2.0",
      "_model_name": "LayoutModel",
      "_view_count": null,
      "_view_module": "@jupyter-widgets/base",
      "_view_module_version": "1.2.0",
      "_view_name": "LayoutView",
      "align_content": null,
      "align_items": null,
      "align_self": null,
      "border": null,
      "bottom": null,
      "display": null,
      "flex": null,
      "flex_flow": null,
      "grid_area": null,
      "grid_auto_columns": null,
      "grid_auto_flow": null,
      "grid_auto_rows": null,
      "grid_column": null,
      "grid_gap": null,
      "grid_row": null,
      "grid_template_areas": null,
      "grid_template_columns": null,
      "grid_template_rows": null,
      "height": null,
      "justify_content": null,
      "justify_items": null,
      "left": null,
      "margin": null,
      "max_height": null,
      "max_width": null,
      "min_height": null,
      "min_width": null,
      "object_fit": null,
      "object_position": null,
      "order": null,
      "overflow": null,
      "overflow_x": null,
      "overflow_y": null,
      "padding": null,
      "right": null,
      "top": null,
      "visibility": null,
      "width": null
     }
    },
    "516135b8920c4d738a3afb1cf9dad3c6": {
     "model_module": "@jupyter-widgets/controls",
     "model_module_version": "1.5.0",
     "model_name": "DescriptionStyleModel",
     "state": {
      "_model_module": "@jupyter-widgets/controls",
      "_model_module_version": "1.5.0",
      "_model_name": "DescriptionStyleModel",
      "_view_count": null,
      "_view_module": "@jupyter-widgets/base",
      "_view_module_version": "1.2.0",
      "_view_name": "StyleView",
      "description_width": ""
     }
    },
    "5517b5e4b8fa49f0b7d2f68f5ec66e08": {
     "model_module": "@jupyter-widgets/controls",
     "model_module_version": "1.5.0",
     "model_name": "DescriptionStyleModel",
     "state": {
      "_model_module": "@jupyter-widgets/controls",
      "_model_module_version": "1.5.0",
      "_model_name": "DescriptionStyleModel",
      "_view_count": null,
      "_view_module": "@jupyter-widgets/base",
      "_view_module_version": "1.2.0",
      "_view_name": "StyleView",
      "description_width": ""
     }
    },
    "5529e092f5a942788f3e368213892797": {
     "model_module": "@jupyter-widgets/base",
     "model_module_version": "1.2.0",
     "model_name": "LayoutModel",
     "state": {
      "_model_module": "@jupyter-widgets/base",
      "_model_module_version": "1.2.0",
      "_model_name": "LayoutModel",
      "_view_count": null,
      "_view_module": "@jupyter-widgets/base",
      "_view_module_version": "1.2.0",
      "_view_name": "LayoutView",
      "align_content": null,
      "align_items": null,
      "align_self": null,
      "border": null,
      "bottom": null,
      "display": null,
      "flex": null,
      "flex_flow": null,
      "grid_area": null,
      "grid_auto_columns": null,
      "grid_auto_flow": null,
      "grid_auto_rows": null,
      "grid_column": null,
      "grid_gap": null,
      "grid_row": null,
      "grid_template_areas": null,
      "grid_template_columns": null,
      "grid_template_rows": null,
      "height": null,
      "justify_content": null,
      "justify_items": null,
      "left": null,
      "margin": null,
      "max_height": null,
      "max_width": null,
      "min_height": null,
      "min_width": null,
      "object_fit": null,
      "object_position": null,
      "order": null,
      "overflow": null,
      "overflow_x": null,
      "overflow_y": null,
      "padding": null,
      "right": null,
      "top": null,
      "visibility": null,
      "width": null
     }
    },
    "55e75dcef6fc420390700c9fe8385469": {
     "model_module": "@jupyter-widgets/controls",
     "model_module_version": "1.5.0",
     "model_name": "HTMLModel",
     "state": {
      "_dom_classes": [],
      "_model_module": "@jupyter-widgets/controls",
      "_model_module_version": "1.5.0",
      "_model_name": "HTMLModel",
      "_view_count": null,
      "_view_module": "@jupyter-widgets/controls",
      "_view_module_version": "1.5.0",
      "_view_name": "HTMLView",
      "description": "",
      "description_tooltip": null,
      "layout": "IPY_MODEL_7303335f450040e5bb74b927869bc059",
      "placeholder": "​",
      "style": "IPY_MODEL_397e63bd41a644089b52204dbe47fd34",
      "value": " 10.6k/10.6k [00:00&lt;00:00, 139kB/s]"
     }
    },
    "57d5196e2c8041d3b8e7e0d2c5a0f39b": {
     "model_module": "@jupyter-widgets/base",
     "model_module_version": "1.2.0",
     "model_name": "LayoutModel",
     "state": {
      "_model_module": "@jupyter-widgets/base",
      "_model_module_version": "1.2.0",
      "_model_name": "LayoutModel",
      "_view_count": null,
      "_view_module": "@jupyter-widgets/base",
      "_view_module_version": "1.2.0",
      "_view_name": "LayoutView",
      "align_content": null,
      "align_items": null,
      "align_self": null,
      "border": null,
      "bottom": null,
      "display": null,
      "flex": null,
      "flex_flow": null,
      "grid_area": null,
      "grid_auto_columns": null,
      "grid_auto_flow": null,
      "grid_auto_rows": null,
      "grid_column": null,
      "grid_gap": null,
      "grid_row": null,
      "grid_template_areas": null,
      "grid_template_columns": null,
      "grid_template_rows": null,
      "height": null,
      "justify_content": null,
      "justify_items": null,
      "left": null,
      "margin": null,
      "max_height": null,
      "max_width": null,
      "min_height": null,
      "min_width": null,
      "object_fit": null,
      "object_position": null,
      "order": null,
      "overflow": null,
      "overflow_x": null,
      "overflow_y": null,
      "padding": null,
      "right": null,
      "top": null,
      "visibility": null,
      "width": null
     }
    },
    "58bb00e7fdd140a487abbda3aab7d31a": {
     "model_module": "@jupyter-widgets/base",
     "model_module_version": "1.2.0",
     "model_name": "LayoutModel",
     "state": {
      "_model_module": "@jupyter-widgets/base",
      "_model_module_version": "1.2.0",
      "_model_name": "LayoutModel",
      "_view_count": null,
      "_view_module": "@jupyter-widgets/base",
      "_view_module_version": "1.2.0",
      "_view_name": "LayoutView",
      "align_content": null,
      "align_items": null,
      "align_self": null,
      "border": null,
      "bottom": null,
      "display": null,
      "flex": null,
      "flex_flow": null,
      "grid_area": null,
      "grid_auto_columns": null,
      "grid_auto_flow": null,
      "grid_auto_rows": null,
      "grid_column": null,
      "grid_gap": null,
      "grid_row": null,
      "grid_template_areas": null,
      "grid_template_columns": null,
      "grid_template_rows": null,
      "height": null,
      "justify_content": null,
      "justify_items": null,
      "left": null,
      "margin": null,
      "max_height": null,
      "max_width": null,
      "min_height": null,
      "min_width": null,
      "object_fit": null,
      "object_position": null,
      "order": null,
      "overflow": null,
      "overflow_x": null,
      "overflow_y": null,
      "padding": null,
      "right": null,
      "top": null,
      "visibility": null,
      "width": null
     }
    },
    "5a4d01c175b94ef2b7b428ac5d181014": {
     "model_module": "@jupyter-widgets/controls",
     "model_module_version": "1.5.0",
     "model_name": "ProgressStyleModel",
     "state": {
      "_model_module": "@jupyter-widgets/controls",
      "_model_module_version": "1.5.0",
      "_model_name": "ProgressStyleModel",
      "_view_count": null,
      "_view_module": "@jupyter-widgets/base",
      "_view_module_version": "1.2.0",
      "_view_name": "StyleView",
      "bar_color": null,
      "description_width": ""
     }
    },
    "5dfa7098e6064c6eba9cc146a0ba8e1c": {
     "model_module": "@jupyter-widgets/controls",
     "model_module_version": "1.5.0",
     "model_name": "DescriptionStyleModel",
     "state": {
      "_model_module": "@jupyter-widgets/controls",
      "_model_module_version": "1.5.0",
      "_model_name": "DescriptionStyleModel",
      "_view_count": null,
      "_view_module": "@jupyter-widgets/base",
      "_view_module_version": "1.2.0",
      "_view_name": "StyleView",
      "description_width": ""
     }
    },
    "5e36e434fa934b4b94b91148f306c90b": {
     "model_module": "@jupyter-widgets/base",
     "model_module_version": "1.2.0",
     "model_name": "LayoutModel",
     "state": {
      "_model_module": "@jupyter-widgets/base",
      "_model_module_version": "1.2.0",
      "_model_name": "LayoutModel",
      "_view_count": null,
      "_view_module": "@jupyter-widgets/base",
      "_view_module_version": "1.2.0",
      "_view_name": "LayoutView",
      "align_content": null,
      "align_items": null,
      "align_self": null,
      "border": null,
      "bottom": null,
      "display": null,
      "flex": null,
      "flex_flow": null,
      "grid_area": null,
      "grid_auto_columns": null,
      "grid_auto_flow": null,
      "grid_auto_rows": null,
      "grid_column": null,
      "grid_gap": null,
      "grid_row": null,
      "grid_template_areas": null,
      "grid_template_columns": null,
      "grid_template_rows": null,
      "height": null,
      "justify_content": null,
      "justify_items": null,
      "left": null,
      "margin": null,
      "max_height": null,
      "max_width": null,
      "min_height": null,
      "min_width": null,
      "object_fit": null,
      "object_position": null,
      "order": null,
      "overflow": null,
      "overflow_x": null,
      "overflow_y": null,
      "padding": null,
      "right": null,
      "top": null,
      "visibility": null,
      "width": null
     }
    },
    "5ee013cae536406e9f9acaccb51a02fc": {
     "model_module": "@jupyter-widgets/controls",
     "model_module_version": "1.5.0",
     "model_name": "HBoxModel",
     "state": {
      "_dom_classes": [],
      "_model_module": "@jupyter-widgets/controls",
      "_model_module_version": "1.5.0",
      "_model_name": "HBoxModel",
      "_view_count": null,
      "_view_module": "@jupyter-widgets/controls",
      "_view_module_version": "1.5.0",
      "_view_name": "HBoxView",
      "box_style": "",
      "children": [
       "IPY_MODEL_9f9d8cf164da40bfb8d1396a3488573e",
       "IPY_MODEL_37398003bbe44a0588d05a367e8586ba",
       "IPY_MODEL_55e75dcef6fc420390700c9fe8385469"
      ],
      "layout": "IPY_MODEL_7a1ed7f90f034d53b19d54303dc2fd27"
     }
    },
    "60f12f0e757e4343a4556407438b2879": {
     "model_module": "@jupyter-widgets/controls",
     "model_module_version": "1.5.0",
     "model_name": "HTMLModel",
     "state": {
      "_dom_classes": [],
      "_model_module": "@jupyter-widgets/controls",
      "_model_module_version": "1.5.0",
      "_model_name": "HTMLModel",
      "_view_count": null,
      "_view_module": "@jupyter-widgets/controls",
      "_view_module_version": "1.5.0",
      "_view_name": "HTMLView",
      "description": "",
      "description_tooltip": null,
      "layout": "IPY_MODEL_d60c65e605284023b88397c2a776dbb1",
      "placeholder": "​",
      "style": "IPY_MODEL_974f8222a7c34fa0b4cb0125e97195d9",
      "value": " 232k/232k [00:00&lt;00:00, 2.91MB/s]"
     }
    },
    "616b81178d5d4ee388b8a846231271b2": {
     "model_module": "@jupyter-widgets/controls",
     "model_module_version": "1.5.0",
     "model_name": "HTMLModel",
     "state": {
      "_dom_classes": [],
      "_model_module": "@jupyter-widgets/controls",
      "_model_module_version": "1.5.0",
      "_model_name": "HTMLModel",
      "_view_count": null,
      "_view_module": "@jupyter-widgets/controls",
      "_view_module_version": "1.5.0",
      "_view_name": "HTMLView",
      "description": "",
      "description_tooltip": null,
      "layout": "IPY_MODEL_58bb00e7fdd140a487abbda3aab7d31a",
      "placeholder": "​",
      "style": "IPY_MODEL_eea7f581d1ab450b94695fa5278cdb83",
      "value": "Batches: 100%"
     }
    },
    "65b76367849b4bf9ac81c2d829621a09": {
     "model_module": "@jupyter-widgets/controls",
     "model_module_version": "1.5.0",
     "model_name": "HBoxModel",
     "state": {
      "_dom_classes": [],
      "_model_module": "@jupyter-widgets/controls",
      "_model_module_version": "1.5.0",
      "_model_name": "HBoxModel",
      "_view_count": null,
      "_view_module": "@jupyter-widgets/controls",
      "_view_module_version": "1.5.0",
      "_view_name": "HBoxView",
      "box_style": "",
      "children": [
       "IPY_MODEL_d112f8bb4a6e4b89b47febdb0b38ad12",
       "IPY_MODEL_402f026f011340a382eedd259d25f4a5",
       "IPY_MODEL_e96015d89c964a4fae2156b9f737ef2d"
      ],
      "layout": "IPY_MODEL_1e7cacd46d1a44b9bb761e1035226f74"
     }
    },
    "65f1f0ddf1b747bb848cabada62691cf": {
     "model_module": "@jupyter-widgets/base",
     "model_module_version": "1.2.0",
     "model_name": "LayoutModel",
     "state": {
      "_model_module": "@jupyter-widgets/base",
      "_model_module_version": "1.2.0",
      "_model_name": "LayoutModel",
      "_view_count": null,
      "_view_module": "@jupyter-widgets/base",
      "_view_module_version": "1.2.0",
      "_view_name": "LayoutView",
      "align_content": null,
      "align_items": null,
      "align_self": null,
      "border": null,
      "bottom": null,
      "display": null,
      "flex": null,
      "flex_flow": null,
      "grid_area": null,
      "grid_auto_columns": null,
      "grid_auto_flow": null,
      "grid_auto_rows": null,
      "grid_column": null,
      "grid_gap": null,
      "grid_row": null,
      "grid_template_areas": null,
      "grid_template_columns": null,
      "grid_template_rows": null,
      "height": null,
      "justify_content": null,
      "justify_items": null,
      "left": null,
      "margin": null,
      "max_height": null,
      "max_width": null,
      "min_height": null,
      "min_width": null,
      "object_fit": null,
      "object_position": null,
      "order": null,
      "overflow": null,
      "overflow_x": null,
      "overflow_y": null,
      "padding": null,
      "right": null,
      "top": null,
      "visibility": null,
      "width": null
     }
    },
    "6630ef2709a646a0b50b0c1a13bd1f8e": {
     "model_module": "@jupyter-widgets/base",
     "model_module_version": "1.2.0",
     "model_name": "LayoutModel",
     "state": {
      "_model_module": "@jupyter-widgets/base",
      "_model_module_version": "1.2.0",
      "_model_name": "LayoutModel",
      "_view_count": null,
      "_view_module": "@jupyter-widgets/base",
      "_view_module_version": "1.2.0",
      "_view_name": "LayoutView",
      "align_content": null,
      "align_items": null,
      "align_self": null,
      "border": null,
      "bottom": null,
      "display": null,
      "flex": null,
      "flex_flow": null,
      "grid_area": null,
      "grid_auto_columns": null,
      "grid_auto_flow": null,
      "grid_auto_rows": null,
      "grid_column": null,
      "grid_gap": null,
      "grid_row": null,
      "grid_template_areas": null,
      "grid_template_columns": null,
      "grid_template_rows": null,
      "height": null,
      "justify_content": null,
      "justify_items": null,
      "left": null,
      "margin": null,
      "max_height": null,
      "max_width": null,
      "min_height": null,
      "min_width": null,
      "object_fit": null,
      "object_position": null,
      "order": null,
      "overflow": null,
      "overflow_x": null,
      "overflow_y": null,
      "padding": null,
      "right": null,
      "top": null,
      "visibility": null,
      "width": null
     }
    },
    "66b21c51b4284947a76ca96f6d98dcf0": {
     "model_module": "@jupyter-widgets/base",
     "model_module_version": "1.2.0",
     "model_name": "LayoutModel",
     "state": {
      "_model_module": "@jupyter-widgets/base",
      "_model_module_version": "1.2.0",
      "_model_name": "LayoutModel",
      "_view_count": null,
      "_view_module": "@jupyter-widgets/base",
      "_view_module_version": "1.2.0",
      "_view_name": "LayoutView",
      "align_content": null,
      "align_items": null,
      "align_self": null,
      "border": null,
      "bottom": null,
      "display": null,
      "flex": null,
      "flex_flow": null,
      "grid_area": null,
      "grid_auto_columns": null,
      "grid_auto_flow": null,
      "grid_auto_rows": null,
      "grid_column": null,
      "grid_gap": null,
      "grid_row": null,
      "grid_template_areas": null,
      "grid_template_columns": null,
      "grid_template_rows": null,
      "height": null,
      "justify_content": null,
      "justify_items": null,
      "left": null,
      "margin": null,
      "max_height": null,
      "max_width": null,
      "min_height": null,
      "min_width": null,
      "object_fit": null,
      "object_position": null,
      "order": null,
      "overflow": null,
      "overflow_x": null,
      "overflow_y": null,
      "padding": null,
      "right": null,
      "top": null,
      "visibility": null,
      "width": null
     }
    },
    "696fd86ab94f4f72bce1994bf2043419": {
     "model_module": "@jupyter-widgets/base",
     "model_module_version": "1.2.0",
     "model_name": "LayoutModel",
     "state": {
      "_model_module": "@jupyter-widgets/base",
      "_model_module_version": "1.2.0",
      "_model_name": "LayoutModel",
      "_view_count": null,
      "_view_module": "@jupyter-widgets/base",
      "_view_module_version": "1.2.0",
      "_view_name": "LayoutView",
      "align_content": null,
      "align_items": null,
      "align_self": null,
      "border": null,
      "bottom": null,
      "display": null,
      "flex": null,
      "flex_flow": null,
      "grid_area": null,
      "grid_auto_columns": null,
      "grid_auto_flow": null,
      "grid_auto_rows": null,
      "grid_column": null,
      "grid_gap": null,
      "grid_row": null,
      "grid_template_areas": null,
      "grid_template_columns": null,
      "grid_template_rows": null,
      "height": null,
      "justify_content": null,
      "justify_items": null,
      "left": null,
      "margin": null,
      "max_height": null,
      "max_width": null,
      "min_height": null,
      "min_width": null,
      "object_fit": null,
      "object_position": null,
      "order": null,
      "overflow": null,
      "overflow_x": null,
      "overflow_y": null,
      "padding": null,
      "right": null,
      "top": null,
      "visibility": null,
      "width": null
     }
    },
    "69ace378ce244317a8169cf427a77747": {
     "model_module": "@jupyter-widgets/controls",
     "model_module_version": "1.5.0",
     "model_name": "HBoxModel",
     "state": {
      "_dom_classes": [],
      "_model_module": "@jupyter-widgets/controls",
      "_model_module_version": "1.5.0",
      "_model_name": "HBoxModel",
      "_view_count": null,
      "_view_module": "@jupyter-widgets/controls",
      "_view_module_version": "1.5.0",
      "_view_name": "HBoxView",
      "box_style": "",
      "children": [
       "IPY_MODEL_1273bec3965e436e97d56b71203aa778",
       "IPY_MODEL_4b7c7ca5a4e54ceb93b32da1733745a0",
       "IPY_MODEL_aa1520a8a4374192a72815267170d62a"
      ],
      "layout": "IPY_MODEL_09e4b2b2f501423dbaf54a7e4a712189"
     }
    },
    "6a415b89b0034a899a26be7eb7004e86": {
     "model_module": "@jupyter-widgets/controls",
     "model_module_version": "1.5.0",
     "model_name": "DescriptionStyleModel",
     "state": {
      "_model_module": "@jupyter-widgets/controls",
      "_model_module_version": "1.5.0",
      "_model_name": "DescriptionStyleModel",
      "_view_count": null,
      "_view_module": "@jupyter-widgets/base",
      "_view_module_version": "1.2.0",
      "_view_name": "StyleView",
      "description_width": ""
     }
    },
    "6c10f5cf7d494c07a847bae2165c3924": {
     "model_module": "@jupyter-widgets/controls",
     "model_module_version": "1.5.0",
     "model_name": "FloatProgressModel",
     "state": {
      "_dom_classes": [],
      "_model_module": "@jupyter-widgets/controls",
      "_model_module_version": "1.5.0",
      "_model_name": "FloatProgressModel",
      "_view_count": null,
      "_view_module": "@jupyter-widgets/controls",
      "_view_module_version": "1.5.0",
      "_view_name": "ProgressView",
      "bar_style": "success",
      "description": "",
      "description_tooltip": null,
      "layout": "IPY_MODEL_6dd7aef05b4f47179aa362eb12399777",
      "max": 612,
      "min": 0,
      "orientation": "horizontal",
      "style": "IPY_MODEL_24c060497ed044388297f886cf512f25",
      "value": 612
     }
    },
    "6dd7aef05b4f47179aa362eb12399777": {
     "model_module": "@jupyter-widgets/base",
     "model_module_version": "1.2.0",
     "model_name": "LayoutModel",
     "state": {
      "_model_module": "@jupyter-widgets/base",
      "_model_module_version": "1.2.0",
      "_model_name": "LayoutModel",
      "_view_count": null,
      "_view_module": "@jupyter-widgets/base",
      "_view_module_version": "1.2.0",
      "_view_name": "LayoutView",
      "align_content": null,
      "align_items": null,
      "align_self": null,
      "border": null,
      "bottom": null,
      "display": null,
      "flex": null,
      "flex_flow": null,
      "grid_area": null,
      "grid_auto_columns": null,
      "grid_auto_flow": null,
      "grid_auto_rows": null,
      "grid_column": null,
      "grid_gap": null,
      "grid_row": null,
      "grid_template_areas": null,
      "grid_template_columns": null,
      "grid_template_rows": null,
      "height": null,
      "justify_content": null,
      "justify_items": null,
      "left": null,
      "margin": null,
      "max_height": null,
      "max_width": null,
      "min_height": null,
      "min_width": null,
      "object_fit": null,
      "object_position": null,
      "order": null,
      "overflow": null,
      "overflow_x": null,
      "overflow_y": null,
      "padding": null,
      "right": null,
      "top": null,
      "visibility": null,
      "width": null
     }
    },
    "6f2cdd70c409494e8c3ddb16e2b8d1b2": {
     "model_module": "@jupyter-widgets/base",
     "model_module_version": "1.2.0",
     "model_name": "LayoutModel",
     "state": {
      "_model_module": "@jupyter-widgets/base",
      "_model_module_version": "1.2.0",
      "_model_name": "LayoutModel",
      "_view_count": null,
      "_view_module": "@jupyter-widgets/base",
      "_view_module_version": "1.2.0",
      "_view_name": "LayoutView",
      "align_content": null,
      "align_items": null,
      "align_self": null,
      "border": null,
      "bottom": null,
      "display": null,
      "flex": null,
      "flex_flow": null,
      "grid_area": null,
      "grid_auto_columns": null,
      "grid_auto_flow": null,
      "grid_auto_rows": null,
      "grid_column": null,
      "grid_gap": null,
      "grid_row": null,
      "grid_template_areas": null,
      "grid_template_columns": null,
      "grid_template_rows": null,
      "height": null,
      "justify_content": null,
      "justify_items": null,
      "left": null,
      "margin": null,
      "max_height": null,
      "max_width": null,
      "min_height": null,
      "min_width": null,
      "object_fit": null,
      "object_position": null,
      "order": null,
      "overflow": null,
      "overflow_x": null,
      "overflow_y": null,
      "padding": null,
      "right": null,
      "top": null,
      "visibility": null,
      "width": null
     }
    },
    "6f580650908f4b87863eb95d8636c4d1": {
     "model_module": "@jupyter-widgets/controls",
     "model_module_version": "1.5.0",
     "model_name": "ProgressStyleModel",
     "state": {
      "_model_module": "@jupyter-widgets/controls",
      "_model_module_version": "1.5.0",
      "_model_name": "ProgressStyleModel",
      "_view_count": null,
      "_view_module": "@jupyter-widgets/base",
      "_view_module_version": "1.2.0",
      "_view_name": "StyleView",
      "bar_color": null,
      "description_width": ""
     }
    },
    "717fc53ba47e48a99d0079a84792e853": {
     "model_module": "@jupyter-widgets/base",
     "model_module_version": "1.2.0",
     "model_name": "LayoutModel",
     "state": {
      "_model_module": "@jupyter-widgets/base",
      "_model_module_version": "1.2.0",
      "_model_name": "LayoutModel",
      "_view_count": null,
      "_view_module": "@jupyter-widgets/base",
      "_view_module_version": "1.2.0",
      "_view_name": "LayoutView",
      "align_content": null,
      "align_items": null,
      "align_self": null,
      "border": null,
      "bottom": null,
      "display": null,
      "flex": null,
      "flex_flow": null,
      "grid_area": null,
      "grid_auto_columns": null,
      "grid_auto_flow": null,
      "grid_auto_rows": null,
      "grid_column": null,
      "grid_gap": null,
      "grid_row": null,
      "grid_template_areas": null,
      "grid_template_columns": null,
      "grid_template_rows": null,
      "height": null,
      "justify_content": null,
      "justify_items": null,
      "left": null,
      "margin": null,
      "max_height": null,
      "max_width": null,
      "min_height": null,
      "min_width": null,
      "object_fit": null,
      "object_position": null,
      "order": null,
      "overflow": null,
      "overflow_x": null,
      "overflow_y": null,
      "padding": null,
      "right": null,
      "top": null,
      "visibility": null,
      "width": null
     }
    },
    "71c2c71467ea47f08d78c1add0bbce84": {
     "model_module": "@jupyter-widgets/controls",
     "model_module_version": "1.5.0",
     "model_name": "DescriptionStyleModel",
     "state": {
      "_model_module": "@jupyter-widgets/controls",
      "_model_module_version": "1.5.0",
      "_model_name": "DescriptionStyleModel",
      "_view_count": null,
      "_view_module": "@jupyter-widgets/base",
      "_view_module_version": "1.2.0",
      "_view_name": "StyleView",
      "description_width": ""
     }
    },
    "7303335f450040e5bb74b927869bc059": {
     "model_module": "@jupyter-widgets/base",
     "model_module_version": "1.2.0",
     "model_name": "LayoutModel",
     "state": {
      "_model_module": "@jupyter-widgets/base",
      "_model_module_version": "1.2.0",
      "_model_name": "LayoutModel",
      "_view_count": null,
      "_view_module": "@jupyter-widgets/base",
      "_view_module_version": "1.2.0",
      "_view_name": "LayoutView",
      "align_content": null,
      "align_items": null,
      "align_self": null,
      "border": null,
      "bottom": null,
      "display": null,
      "flex": null,
      "flex_flow": null,
      "grid_area": null,
      "grid_auto_columns": null,
      "grid_auto_flow": null,
      "grid_auto_rows": null,
      "grid_column": null,
      "grid_gap": null,
      "grid_row": null,
      "grid_template_areas": null,
      "grid_template_columns": null,
      "grid_template_rows": null,
      "height": null,
      "justify_content": null,
      "justify_items": null,
      "left": null,
      "margin": null,
      "max_height": null,
      "max_width": null,
      "min_height": null,
      "min_width": null,
      "object_fit": null,
      "object_position": null,
      "order": null,
      "overflow": null,
      "overflow_x": null,
      "overflow_y": null,
      "padding": null,
      "right": null,
      "top": null,
      "visibility": null,
      "width": null
     }
    },
    "73c50bb92c0f444db40fafa2ab8a7639": {
     "model_module": "@jupyter-widgets/controls",
     "model_module_version": "1.5.0",
     "model_name": "HTMLModel",
     "state": {
      "_dom_classes": [],
      "_model_module": "@jupyter-widgets/controls",
      "_model_module_version": "1.5.0",
      "_model_name": "HTMLModel",
      "_view_count": null,
      "_view_module": "@jupyter-widgets/controls",
      "_view_module_version": "1.5.0",
      "_view_name": "HTMLView",
      "description": "",
      "description_tooltip": null,
      "layout": "IPY_MODEL_89e303c1f1f440eebff4df123c314c49",
      "placeholder": "​",
      "style": "IPY_MODEL_fa9f468470f34091a9712dbdf492bde0",
      "value": "Downloading: 100%"
     }
    },
    "73e7feddfc3e4bddac355fe93791246d": {
     "model_module": "@jupyter-widgets/controls",
     "model_module_version": "1.5.0",
     "model_name": "DescriptionStyleModel",
     "state": {
      "_model_module": "@jupyter-widgets/controls",
      "_model_module_version": "1.5.0",
      "_model_name": "DescriptionStyleModel",
      "_view_count": null,
      "_view_module": "@jupyter-widgets/base",
      "_view_module_version": "1.2.0",
      "_view_name": "StyleView",
      "description_width": ""
     }
    },
    "740cea006c0a41db9b929d8366083e1f": {
     "model_module": "@jupyter-widgets/base",
     "model_module_version": "1.2.0",
     "model_name": "LayoutModel",
     "state": {
      "_model_module": "@jupyter-widgets/base",
      "_model_module_version": "1.2.0",
      "_model_name": "LayoutModel",
      "_view_count": null,
      "_view_module": "@jupyter-widgets/base",
      "_view_module_version": "1.2.0",
      "_view_name": "LayoutView",
      "align_content": null,
      "align_items": null,
      "align_self": null,
      "border": null,
      "bottom": null,
      "display": null,
      "flex": null,
      "flex_flow": null,
      "grid_area": null,
      "grid_auto_columns": null,
      "grid_auto_flow": null,
      "grid_auto_rows": null,
      "grid_column": null,
      "grid_gap": null,
      "grid_row": null,
      "grid_template_areas": null,
      "grid_template_columns": null,
      "grid_template_rows": null,
      "height": null,
      "justify_content": null,
      "justify_items": null,
      "left": null,
      "margin": null,
      "max_height": null,
      "max_width": null,
      "min_height": null,
      "min_width": null,
      "object_fit": null,
      "object_position": null,
      "order": null,
      "overflow": null,
      "overflow_x": null,
      "overflow_y": null,
      "padding": null,
      "right": null,
      "top": null,
      "visibility": null,
      "width": null
     }
    },
    "7453b22195094025bed1c131dbf49b91": {
     "model_module": "@jupyter-widgets/controls",
     "model_module_version": "1.5.0",
     "model_name": "DescriptionStyleModel",
     "state": {
      "_model_module": "@jupyter-widgets/controls",
      "_model_module_version": "1.5.0",
      "_model_name": "DescriptionStyleModel",
      "_view_count": null,
      "_view_module": "@jupyter-widgets/base",
      "_view_module_version": "1.2.0",
      "_view_name": "StyleView",
      "description_width": ""
     }
    },
    "75f314cbc8dc49dc86fdab20d0133903": {
     "model_module": "@jupyter-widgets/controls",
     "model_module_version": "1.5.0",
     "model_name": "FloatProgressModel",
     "state": {
      "_dom_classes": [],
      "_model_module": "@jupyter-widgets/controls",
      "_model_module_version": "1.5.0",
      "_model_name": "FloatProgressModel",
      "_view_count": null,
      "_view_module": "@jupyter-widgets/controls",
      "_view_module_version": "1.5.0",
      "_view_name": "ProgressView",
      "bar_style": "success",
      "description": "",
      "description_tooltip": null,
      "layout": "IPY_MODEL_e1c9170de6a741ab91af71963b8372a9",
      "max": 349,
      "min": 0,
      "orientation": "horizontal",
      "style": "IPY_MODEL_ec9dddba6c0c47fd96f9ec143dc11e58",
      "value": 349
     }
    },
    "77a1beeab6c947ba827bdb6b9f2da7ab": {
     "model_module": "@jupyter-widgets/base",
     "model_module_version": "1.2.0",
     "model_name": "LayoutModel",
     "state": {
      "_model_module": "@jupyter-widgets/base",
      "_model_module_version": "1.2.0",
      "_model_name": "LayoutModel",
      "_view_count": null,
      "_view_module": "@jupyter-widgets/base",
      "_view_module_version": "1.2.0",
      "_view_name": "LayoutView",
      "align_content": null,
      "align_items": null,
      "align_self": null,
      "border": null,
      "bottom": null,
      "display": null,
      "flex": null,
      "flex_flow": null,
      "grid_area": null,
      "grid_auto_columns": null,
      "grid_auto_flow": null,
      "grid_auto_rows": null,
      "grid_column": null,
      "grid_gap": null,
      "grid_row": null,
      "grid_template_areas": null,
      "grid_template_columns": null,
      "grid_template_rows": null,
      "height": null,
      "justify_content": null,
      "justify_items": null,
      "left": null,
      "margin": null,
      "max_height": null,
      "max_width": null,
      "min_height": null,
      "min_width": null,
      "object_fit": null,
      "object_position": null,
      "order": null,
      "overflow": null,
      "overflow_x": null,
      "overflow_y": null,
      "padding": null,
      "right": null,
      "top": null,
      "visibility": null,
      "width": null
     }
    },
    "790896c7236e4b6a8b94ad5934e72ea3": {
     "model_module": "@jupyter-widgets/base",
     "model_module_version": "1.2.0",
     "model_name": "LayoutModel",
     "state": {
      "_model_module": "@jupyter-widgets/base",
      "_model_module_version": "1.2.0",
      "_model_name": "LayoutModel",
      "_view_count": null,
      "_view_module": "@jupyter-widgets/base",
      "_view_module_version": "1.2.0",
      "_view_name": "LayoutView",
      "align_content": null,
      "align_items": null,
      "align_self": null,
      "border": null,
      "bottom": null,
      "display": null,
      "flex": null,
      "flex_flow": null,
      "grid_area": null,
      "grid_auto_columns": null,
      "grid_auto_flow": null,
      "grid_auto_rows": null,
      "grid_column": null,
      "grid_gap": null,
      "grid_row": null,
      "grid_template_areas": null,
      "grid_template_columns": null,
      "grid_template_rows": null,
      "height": null,
      "justify_content": null,
      "justify_items": null,
      "left": null,
      "margin": null,
      "max_height": null,
      "max_width": null,
      "min_height": null,
      "min_width": null,
      "object_fit": null,
      "object_position": null,
      "order": null,
      "overflow": null,
      "overflow_x": null,
      "overflow_y": null,
      "padding": null,
      "right": null,
      "top": null,
      "visibility": null,
      "width": null
     }
    },
    "7a1ed7f90f034d53b19d54303dc2fd27": {
     "model_module": "@jupyter-widgets/base",
     "model_module_version": "1.2.0",
     "model_name": "LayoutModel",
     "state": {
      "_model_module": "@jupyter-widgets/base",
      "_model_module_version": "1.2.0",
      "_model_name": "LayoutModel",
      "_view_count": null,
      "_view_module": "@jupyter-widgets/base",
      "_view_module_version": "1.2.0",
      "_view_name": "LayoutView",
      "align_content": null,
      "align_items": null,
      "align_self": null,
      "border": null,
      "bottom": null,
      "display": null,
      "flex": null,
      "flex_flow": null,
      "grid_area": null,
      "grid_auto_columns": null,
      "grid_auto_flow": null,
      "grid_auto_rows": null,
      "grid_column": null,
      "grid_gap": null,
      "grid_row": null,
      "grid_template_areas": null,
      "grid_template_columns": null,
      "grid_template_rows": null,
      "height": null,
      "justify_content": null,
      "justify_items": null,
      "left": null,
      "margin": null,
      "max_height": null,
      "max_width": null,
      "min_height": null,
      "min_width": null,
      "object_fit": null,
      "object_position": null,
      "order": null,
      "overflow": null,
      "overflow_x": null,
      "overflow_y": null,
      "padding": null,
      "right": null,
      "top": null,
      "visibility": null,
      "width": null
     }
    },
    "7b82279459914559b7a846bd89e707e6": {
     "model_module": "@jupyter-widgets/controls",
     "model_module_version": "1.5.0",
     "model_name": "DescriptionStyleModel",
     "state": {
      "_model_module": "@jupyter-widgets/controls",
      "_model_module_version": "1.5.0",
      "_model_name": "DescriptionStyleModel",
      "_view_count": null,
      "_view_module": "@jupyter-widgets/base",
      "_view_module_version": "1.2.0",
      "_view_name": "StyleView",
      "description_width": ""
     }
    },
    "7de58fe9ce1d45b781d19bcc3f893aab": {
     "model_module": "@jupyter-widgets/controls",
     "model_module_version": "1.5.0",
     "model_name": "DescriptionStyleModel",
     "state": {
      "_model_module": "@jupyter-widgets/controls",
      "_model_module_version": "1.5.0",
      "_model_name": "DescriptionStyleModel",
      "_view_count": null,
      "_view_module": "@jupyter-widgets/base",
      "_view_module_version": "1.2.0",
      "_view_name": "StyleView",
      "description_width": ""
     }
    },
    "804359ead3eb450da59237045fa2ebb2": {
     "model_module": "@jupyter-widgets/controls",
     "model_module_version": "1.5.0",
     "model_name": "HTMLModel",
     "state": {
      "_dom_classes": [],
      "_model_module": "@jupyter-widgets/controls",
      "_model_module_version": "1.5.0",
      "_model_name": "HTMLModel",
      "_view_count": null,
      "_view_module": "@jupyter-widgets/controls",
      "_view_module_version": "1.5.0",
      "_view_name": "HTMLView",
      "description": "",
      "description_tooltip": null,
      "layout": "IPY_MODEL_2331f68ee6d5487cbafdb094c5da4d7f",
      "placeholder": "​",
      "style": "IPY_MODEL_9816b80422ef45829476a7a441c693c0",
      "value": " 112/112 [00:00&lt;00:00, 1.31kB/s]"
     }
    },
    "80baad3cd38644f6b83e5da377e33513": {
     "model_module": "@jupyter-widgets/base",
     "model_module_version": "1.2.0",
     "model_name": "LayoutModel",
     "state": {
      "_model_module": "@jupyter-widgets/base",
      "_model_module_version": "1.2.0",
      "_model_name": "LayoutModel",
      "_view_count": null,
      "_view_module": "@jupyter-widgets/base",
      "_view_module_version": "1.2.0",
      "_view_name": "LayoutView",
      "align_content": null,
      "align_items": null,
      "align_self": null,
      "border": null,
      "bottom": null,
      "display": null,
      "flex": null,
      "flex_flow": null,
      "grid_area": null,
      "grid_auto_columns": null,
      "grid_auto_flow": null,
      "grid_auto_rows": null,
      "grid_column": null,
      "grid_gap": null,
      "grid_row": null,
      "grid_template_areas": null,
      "grid_template_columns": null,
      "grid_template_rows": null,
      "height": null,
      "justify_content": null,
      "justify_items": null,
      "left": null,
      "margin": null,
      "max_height": null,
      "max_width": null,
      "min_height": null,
      "min_width": null,
      "object_fit": null,
      "object_position": null,
      "order": null,
      "overflow": null,
      "overflow_x": null,
      "overflow_y": null,
      "padding": null,
      "right": null,
      "top": null,
      "visibility": null,
      "width": null
     }
    },
    "83caaa59e7254126a31f41c9987feefb": {
     "model_module": "@jupyter-widgets/controls",
     "model_module_version": "1.5.0",
     "model_name": "HBoxModel",
     "state": {
      "_dom_classes": [],
      "_model_module": "@jupyter-widgets/controls",
      "_model_module_version": "1.5.0",
      "_model_name": "HBoxModel",
      "_view_count": null,
      "_view_module": "@jupyter-widgets/controls",
      "_view_module_version": "1.5.0",
      "_view_name": "HBoxView",
      "box_style": "",
      "children": [
       "IPY_MODEL_de939be2830142018632853d1c5e6ff1",
       "IPY_MODEL_974373b28e7d4eb7b05c450c438cd80b",
       "IPY_MODEL_2b55ed2f067e49a7b8043017b95bcab5"
      ],
      "layout": "IPY_MODEL_f50adc4ba23f450fac5bbead335e96f7"
     }
    },
    "872d45d7a2724f34a77ee23c3e39580c": {
     "model_module": "@jupyter-widgets/base",
     "model_module_version": "1.2.0",
     "model_name": "LayoutModel",
     "state": {
      "_model_module": "@jupyter-widgets/base",
      "_model_module_version": "1.2.0",
      "_model_name": "LayoutModel",
      "_view_count": null,
      "_view_module": "@jupyter-widgets/base",
      "_view_module_version": "1.2.0",
      "_view_name": "LayoutView",
      "align_content": null,
      "align_items": null,
      "align_self": null,
      "border": null,
      "bottom": null,
      "display": null,
      "flex": null,
      "flex_flow": null,
      "grid_area": null,
      "grid_auto_columns": null,
      "grid_auto_flow": null,
      "grid_auto_rows": null,
      "grid_column": null,
      "grid_gap": null,
      "grid_row": null,
      "grid_template_areas": null,
      "grid_template_columns": null,
      "grid_template_rows": null,
      "height": null,
      "justify_content": null,
      "justify_items": null,
      "left": null,
      "margin": null,
      "max_height": null,
      "max_width": null,
      "min_height": null,
      "min_width": null,
      "object_fit": null,
      "object_position": null,
      "order": null,
      "overflow": null,
      "overflow_x": null,
      "overflow_y": null,
      "padding": null,
      "right": null,
      "top": null,
      "visibility": null,
      "width": null
     }
    },
    "88db021f1b0f463ab7cc85fd1acef621": {
     "model_module": "@jupyter-widgets/controls",
     "model_module_version": "1.5.0",
     "model_name": "DescriptionStyleModel",
     "state": {
      "_model_module": "@jupyter-widgets/controls",
      "_model_module_version": "1.5.0",
      "_model_name": "DescriptionStyleModel",
      "_view_count": null,
      "_view_module": "@jupyter-widgets/base",
      "_view_module_version": "1.2.0",
      "_view_name": "StyleView",
      "description_width": ""
     }
    },
    "88f654ef74d04b379978c269de39aa3f": {
     "model_module": "@jupyter-widgets/base",
     "model_module_version": "1.2.0",
     "model_name": "LayoutModel",
     "state": {
      "_model_module": "@jupyter-widgets/base",
      "_model_module_version": "1.2.0",
      "_model_name": "LayoutModel",
      "_view_count": null,
      "_view_module": "@jupyter-widgets/base",
      "_view_module_version": "1.2.0",
      "_view_name": "LayoutView",
      "align_content": null,
      "align_items": null,
      "align_self": null,
      "border": null,
      "bottom": null,
      "display": null,
      "flex": null,
      "flex_flow": null,
      "grid_area": null,
      "grid_auto_columns": null,
      "grid_auto_flow": null,
      "grid_auto_rows": null,
      "grid_column": null,
      "grid_gap": null,
      "grid_row": null,
      "grid_template_areas": null,
      "grid_template_columns": null,
      "grid_template_rows": null,
      "height": null,
      "justify_content": null,
      "justify_items": null,
      "left": null,
      "margin": null,
      "max_height": null,
      "max_width": null,
      "min_height": null,
      "min_width": null,
      "object_fit": null,
      "object_position": null,
      "order": null,
      "overflow": null,
      "overflow_x": null,
      "overflow_y": null,
      "padding": null,
      "right": null,
      "top": null,
      "visibility": null,
      "width": null
     }
    },
    "88fe19a5bd8c4e26ad6c66d0bd9cf414": {
     "model_module": "@jupyter-widgets/base",
     "model_module_version": "1.2.0",
     "model_name": "LayoutModel",
     "state": {
      "_model_module": "@jupyter-widgets/base",
      "_model_module_version": "1.2.0",
      "_model_name": "LayoutModel",
      "_view_count": null,
      "_view_module": "@jupyter-widgets/base",
      "_view_module_version": "1.2.0",
      "_view_name": "LayoutView",
      "align_content": null,
      "align_items": null,
      "align_self": null,
      "border": null,
      "bottom": null,
      "display": null,
      "flex": null,
      "flex_flow": null,
      "grid_area": null,
      "grid_auto_columns": null,
      "grid_auto_flow": null,
      "grid_auto_rows": null,
      "grid_column": null,
      "grid_gap": null,
      "grid_row": null,
      "grid_template_areas": null,
      "grid_template_columns": null,
      "grid_template_rows": null,
      "height": null,
      "justify_content": null,
      "justify_items": null,
      "left": null,
      "margin": null,
      "max_height": null,
      "max_width": null,
      "min_height": null,
      "min_width": null,
      "object_fit": null,
      "object_position": null,
      "order": null,
      "overflow": null,
      "overflow_x": null,
      "overflow_y": null,
      "padding": null,
      "right": null,
      "top": null,
      "visibility": null,
      "width": null
     }
    },
    "89e303c1f1f440eebff4df123c314c49": {
     "model_module": "@jupyter-widgets/base",
     "model_module_version": "1.2.0",
     "model_name": "LayoutModel",
     "state": {
      "_model_module": "@jupyter-widgets/base",
      "_model_module_version": "1.2.0",
      "_model_name": "LayoutModel",
      "_view_count": null,
      "_view_module": "@jupyter-widgets/base",
      "_view_module_version": "1.2.0",
      "_view_name": "LayoutView",
      "align_content": null,
      "align_items": null,
      "align_self": null,
      "border": null,
      "bottom": null,
      "display": null,
      "flex": null,
      "flex_flow": null,
      "grid_area": null,
      "grid_auto_columns": null,
      "grid_auto_flow": null,
      "grid_auto_rows": null,
      "grid_column": null,
      "grid_gap": null,
      "grid_row": null,
      "grid_template_areas": null,
      "grid_template_columns": null,
      "grid_template_rows": null,
      "height": null,
      "justify_content": null,
      "justify_items": null,
      "left": null,
      "margin": null,
      "max_height": null,
      "max_width": null,
      "min_height": null,
      "min_width": null,
      "object_fit": null,
      "object_position": null,
      "order": null,
      "overflow": null,
      "overflow_x": null,
      "overflow_y": null,
      "padding": null,
      "right": null,
      "top": null,
      "visibility": null,
      "width": null
     }
    },
    "8b495d78a6db45a4a316099b38719a35": {
     "model_module": "@jupyter-widgets/base",
     "model_module_version": "1.2.0",
     "model_name": "LayoutModel",
     "state": {
      "_model_module": "@jupyter-widgets/base",
      "_model_module_version": "1.2.0",
      "_model_name": "LayoutModel",
      "_view_count": null,
      "_view_module": "@jupyter-widgets/base",
      "_view_module_version": "1.2.0",
      "_view_name": "LayoutView",
      "align_content": null,
      "align_items": null,
      "align_self": null,
      "border": null,
      "bottom": null,
      "display": null,
      "flex": null,
      "flex_flow": null,
      "grid_area": null,
      "grid_auto_columns": null,
      "grid_auto_flow": null,
      "grid_auto_rows": null,
      "grid_column": null,
      "grid_gap": null,
      "grid_row": null,
      "grid_template_areas": null,
      "grid_template_columns": null,
      "grid_template_rows": null,
      "height": null,
      "justify_content": null,
      "justify_items": null,
      "left": null,
      "margin": null,
      "max_height": null,
      "max_width": null,
      "min_height": null,
      "min_width": null,
      "object_fit": null,
      "object_position": null,
      "order": null,
      "overflow": null,
      "overflow_x": null,
      "overflow_y": null,
      "padding": null,
      "right": null,
      "top": null,
      "visibility": null,
      "width": null
     }
    },
    "9026c19841a043aca10352abc1424dea": {
     "model_module": "@jupyter-widgets/base",
     "model_module_version": "1.2.0",
     "model_name": "LayoutModel",
     "state": {
      "_model_module": "@jupyter-widgets/base",
      "_model_module_version": "1.2.0",
      "_model_name": "LayoutModel",
      "_view_count": null,
      "_view_module": "@jupyter-widgets/base",
      "_view_module_version": "1.2.0",
      "_view_name": "LayoutView",
      "align_content": null,
      "align_items": null,
      "align_self": null,
      "border": null,
      "bottom": null,
      "display": null,
      "flex": null,
      "flex_flow": null,
      "grid_area": null,
      "grid_auto_columns": null,
      "grid_auto_flow": null,
      "grid_auto_rows": null,
      "grid_column": null,
      "grid_gap": null,
      "grid_row": null,
      "grid_template_areas": null,
      "grid_template_columns": null,
      "grid_template_rows": null,
      "height": null,
      "justify_content": null,
      "justify_items": null,
      "left": null,
      "margin": null,
      "max_height": null,
      "max_width": null,
      "min_height": null,
      "min_width": null,
      "object_fit": null,
      "object_position": null,
      "order": null,
      "overflow": null,
      "overflow_x": null,
      "overflow_y": null,
      "padding": null,
      "right": null,
      "top": null,
      "visibility": null,
      "width": null
     }
    },
    "9033f8ef4868465da29999e7dfc7a388": {
     "model_module": "@jupyter-widgets/controls",
     "model_module_version": "1.5.0",
     "model_name": "HTMLModel",
     "state": {
      "_dom_classes": [],
      "_model_module": "@jupyter-widgets/controls",
      "_model_module_version": "1.5.0",
      "_model_name": "HTMLModel",
      "_view_count": null,
      "_view_module": "@jupyter-widgets/controls",
      "_view_module_version": "1.5.0",
      "_view_name": "HTMLView",
      "description": "",
      "description_tooltip": null,
      "layout": "IPY_MODEL_740cea006c0a41db9b929d8366083e1f",
      "placeholder": "​",
      "style": "IPY_MODEL_f9f5390e22c54c94973c46c2788a1cf5",
      "value": " 1.18k/1.18k [00:00&lt;00:00, 13.7kB/s]"
     }
    },
    "92825f991418464282f0e9be72f12fde": {
     "model_module": "@jupyter-widgets/controls",
     "model_module_version": "1.5.0",
     "model_name": "ProgressStyleModel",
     "state": {
      "_model_module": "@jupyter-widgets/controls",
      "_model_module_version": "1.5.0",
      "_model_name": "ProgressStyleModel",
      "_view_count": null,
      "_view_module": "@jupyter-widgets/base",
      "_view_module_version": "1.2.0",
      "_view_name": "StyleView",
      "bar_color": null,
      "description_width": ""
     }
    },
    "9319661f3c1145899f2b2445aa8884ac": {
     "model_module": "@jupyter-widgets/controls",
     "model_module_version": "1.5.0",
     "model_name": "DescriptionStyleModel",
     "state": {
      "_model_module": "@jupyter-widgets/controls",
      "_model_module_version": "1.5.0",
      "_model_name": "DescriptionStyleModel",
      "_view_count": null,
      "_view_module": "@jupyter-widgets/base",
      "_view_module_version": "1.2.0",
      "_view_name": "StyleView",
      "description_width": ""
     }
    },
    "93a5a938fb9843b39fe3d6531b15f6a2": {
     "model_module": "@jupyter-widgets/controls",
     "model_module_version": "1.5.0",
     "model_name": "DescriptionStyleModel",
     "state": {
      "_model_module": "@jupyter-widgets/controls",
      "_model_module_version": "1.5.0",
      "_model_name": "DescriptionStyleModel",
      "_view_count": null,
      "_view_module": "@jupyter-widgets/base",
      "_view_module_version": "1.2.0",
      "_view_name": "StyleView",
      "description_width": ""
     }
    },
    "95471deeb1d9413a9c42129b271e180b": {
     "model_module": "@jupyter-widgets/base",
     "model_module_version": "1.2.0",
     "model_name": "LayoutModel",
     "state": {
      "_model_module": "@jupyter-widgets/base",
      "_model_module_version": "1.2.0",
      "_model_name": "LayoutModel",
      "_view_count": null,
      "_view_module": "@jupyter-widgets/base",
      "_view_module_version": "1.2.0",
      "_view_name": "LayoutView",
      "align_content": null,
      "align_items": null,
      "align_self": null,
      "border": null,
      "bottom": null,
      "display": null,
      "flex": null,
      "flex_flow": null,
      "grid_area": null,
      "grid_auto_columns": null,
      "grid_auto_flow": null,
      "grid_auto_rows": null,
      "grid_column": null,
      "grid_gap": null,
      "grid_row": null,
      "grid_template_areas": null,
      "grid_template_columns": null,
      "grid_template_rows": null,
      "height": null,
      "justify_content": null,
      "justify_items": null,
      "left": null,
      "margin": null,
      "max_height": null,
      "max_width": null,
      "min_height": null,
      "min_width": null,
      "object_fit": null,
      "object_position": null,
      "order": null,
      "overflow": null,
      "overflow_x": null,
      "overflow_y": null,
      "padding": null,
      "right": null,
      "top": null,
      "visibility": null,
      "width": null
     }
    },
    "974373b28e7d4eb7b05c450c438cd80b": {
     "model_module": "@jupyter-widgets/controls",
     "model_module_version": "1.5.0",
     "model_name": "FloatProgressModel",
     "state": {
      "_dom_classes": [],
      "_model_module": "@jupyter-widgets/controls",
      "_model_module_version": "1.5.0",
      "_model_name": "FloatProgressModel",
      "_view_count": null,
      "_view_module": "@jupyter-widgets/controls",
      "_view_module_version": "1.5.0",
      "_view_name": "ProgressView",
      "bar_style": "success",
      "description": "",
      "description_tooltip": null,
      "layout": "IPY_MODEL_6f2cdd70c409494e8c3ddb16e2b8d1b2",
      "max": 350,
      "min": 0,
      "orientation": "horizontal",
      "style": "IPY_MODEL_cc875184f2b74ea1803cd351f7df0a88",
      "value": 350
     }
    },
    "974f8222a7c34fa0b4cb0125e97195d9": {
     "model_module": "@jupyter-widgets/controls",
     "model_module_version": "1.5.0",
     "model_name": "DescriptionStyleModel",
     "state": {
      "_model_module": "@jupyter-widgets/controls",
      "_model_module_version": "1.5.0",
      "_model_name": "DescriptionStyleModel",
      "_view_count": null,
      "_view_module": "@jupyter-widgets/base",
      "_view_module_version": "1.2.0",
      "_view_name": "StyleView",
      "description_width": ""
     }
    },
    "9816b80422ef45829476a7a441c693c0": {
     "model_module": "@jupyter-widgets/controls",
     "model_module_version": "1.5.0",
     "model_name": "DescriptionStyleModel",
     "state": {
      "_model_module": "@jupyter-widgets/controls",
      "_model_module_version": "1.5.0",
      "_model_name": "DescriptionStyleModel",
      "_view_count": null,
      "_view_module": "@jupyter-widgets/base",
      "_view_module_version": "1.2.0",
      "_view_name": "StyleView",
      "description_width": ""
     }
    },
    "996fabaa089940ea861cc61965d568ce": {
     "model_module": "@jupyter-widgets/controls",
     "model_module_version": "1.5.0",
     "model_name": "ProgressStyleModel",
     "state": {
      "_model_module": "@jupyter-widgets/controls",
      "_model_module_version": "1.5.0",
      "_model_name": "ProgressStyleModel",
      "_view_count": null,
      "_view_module": "@jupyter-widgets/base",
      "_view_module_version": "1.2.0",
      "_view_name": "StyleView",
      "bar_color": null,
      "description_width": ""
     }
    },
    "9c1004187cbb4987adecbe43df391152": {
     "model_module": "@jupyter-widgets/controls",
     "model_module_version": "1.5.0",
     "model_name": "HTMLModel",
     "state": {
      "_dom_classes": [],
      "_model_module": "@jupyter-widgets/controls",
      "_model_module_version": "1.5.0",
      "_model_name": "HTMLModel",
      "_view_count": null,
      "_view_module": "@jupyter-widgets/controls",
      "_view_module_version": "1.5.0",
      "_view_name": "HTMLView",
      "description": "",
      "description_tooltip": null,
      "layout": "IPY_MODEL_497c6e9c0dd7428ea49fad0ea429cb59",
      "placeholder": "​",
      "style": "IPY_MODEL_0fd273f0f85c49afa7296426905fc849",
      "value": " 53.0/53.0 [00:00&lt;00:00, 945B/s]"
     }
    },
    "9c5a766bc02b40889eb9cc4bb5f4a5f5": {
     "model_module": "@jupyter-widgets/base",
     "model_module_version": "1.2.0",
     "model_name": "LayoutModel",
     "state": {
      "_model_module": "@jupyter-widgets/base",
      "_model_module_version": "1.2.0",
      "_model_name": "LayoutModel",
      "_view_count": null,
      "_view_module": "@jupyter-widgets/base",
      "_view_module_version": "1.2.0",
      "_view_name": "LayoutView",
      "align_content": null,
      "align_items": null,
      "align_self": null,
      "border": null,
      "bottom": null,
      "display": null,
      "flex": null,
      "flex_flow": null,
      "grid_area": null,
      "grid_auto_columns": null,
      "grid_auto_flow": null,
      "grid_auto_rows": null,
      "grid_column": null,
      "grid_gap": null,
      "grid_row": null,
      "grid_template_areas": null,
      "grid_template_columns": null,
      "grid_template_rows": null,
      "height": null,
      "justify_content": null,
      "justify_items": null,
      "left": null,
      "margin": null,
      "max_height": null,
      "max_width": null,
      "min_height": null,
      "min_width": null,
      "object_fit": null,
      "object_position": null,
      "order": null,
      "overflow": null,
      "overflow_x": null,
      "overflow_y": null,
      "padding": null,
      "right": null,
      "top": null,
      "visibility": null,
      "width": null
     }
    },
    "9e18b6021d214ad69afed2f99eb68513": {
     "model_module": "@jupyter-widgets/controls",
     "model_module_version": "1.5.0",
     "model_name": "HTMLModel",
     "state": {
      "_dom_classes": [],
      "_model_module": "@jupyter-widgets/controls",
      "_model_module_version": "1.5.0",
      "_model_name": "HTMLModel",
      "_view_count": null,
      "_view_module": "@jupyter-widgets/controls",
      "_view_module_version": "1.5.0",
      "_view_name": "HTMLView",
      "description": "",
      "description_tooltip": null,
      "layout": "IPY_MODEL_b28160f707c341aeba8bbffcda9284ff",
      "placeholder": "​",
      "style": "IPY_MODEL_204bb15d4eb4478685340e25e672a1c7",
      "value": "Batches: 100%"
     }
    },
    "9e392afc49464581bffdd2f90bfe24b1": {
     "model_module": "@jupyter-widgets/controls",
     "model_module_version": "1.5.0",
     "model_name": "FloatProgressModel",
     "state": {
      "_dom_classes": [],
      "_model_module": "@jupyter-widgets/controls",
      "_model_module_version": "1.5.0",
      "_model_name": "FloatProgressModel",
      "_view_count": null,
      "_view_module": "@jupyter-widgets/controls",
      "_view_module_version": "1.5.0",
      "_view_name": "ProgressView",
      "bar_style": "success",
      "description": "",
      "description_tooltip": null,
      "layout": "IPY_MODEL_b5d8b6daccf74a21b909ead940b43974",
      "max": 90888945,
      "min": 0,
      "orientation": "horizontal",
      "style": "IPY_MODEL_fc931161fee54cb2943c6b78e0551074",
      "value": 90888945
     }
    },
    "9f9d8cf164da40bfb8d1396a3488573e": {
     "model_module": "@jupyter-widgets/controls",
     "model_module_version": "1.5.0",
     "model_name": "HTMLModel",
     "state": {
      "_dom_classes": [],
      "_model_module": "@jupyter-widgets/controls",
      "_model_module_version": "1.5.0",
      "_model_name": "HTMLModel",
      "_view_count": null,
      "_view_module": "@jupyter-widgets/controls",
      "_view_module_version": "1.5.0",
      "_view_name": "HTMLView",
      "description": "",
      "description_tooltip": null,
      "layout": "IPY_MODEL_e14e8937e0a340719186ea03fc986246",
      "placeholder": "​",
      "style": "IPY_MODEL_6a415b89b0034a899a26be7eb7004e86",
      "value": "Downloading: 100%"
     }
    },
    "a209983d73454a009e79d9a3e1e77c20": {
     "model_module": "@jupyter-widgets/base",
     "model_module_version": "1.2.0",
     "model_name": "LayoutModel",
     "state": {
      "_model_module": "@jupyter-widgets/base",
      "_model_module_version": "1.2.0",
      "_model_name": "LayoutModel",
      "_view_count": null,
      "_view_module": "@jupyter-widgets/base",
      "_view_module_version": "1.2.0",
      "_view_name": "LayoutView",
      "align_content": null,
      "align_items": null,
      "align_self": null,
      "border": null,
      "bottom": null,
      "display": null,
      "flex": null,
      "flex_flow": null,
      "grid_area": null,
      "grid_auto_columns": null,
      "grid_auto_flow": null,
      "grid_auto_rows": null,
      "grid_column": null,
      "grid_gap": null,
      "grid_row": null,
      "grid_template_areas": null,
      "grid_template_columns": null,
      "grid_template_rows": null,
      "height": null,
      "justify_content": null,
      "justify_items": null,
      "left": null,
      "margin": null,
      "max_height": null,
      "max_width": null,
      "min_height": null,
      "min_width": null,
      "object_fit": null,
      "object_position": null,
      "order": null,
      "overflow": null,
      "overflow_x": null,
      "overflow_y": null,
      "padding": null,
      "right": null,
      "top": null,
      "visibility": null,
      "width": null
     }
    },
    "a3993fc07bd3425aa67f86f31ff36e44": {
     "model_module": "@jupyter-widgets/controls",
     "model_module_version": "1.5.0",
     "model_name": "HBoxModel",
     "state": {
      "_dom_classes": [],
      "_model_module": "@jupyter-widgets/controls",
      "_model_module_version": "1.5.0",
      "_model_name": "HBoxModel",
      "_view_count": null,
      "_view_module": "@jupyter-widgets/controls",
      "_view_module_version": "1.5.0",
      "_view_name": "HBoxView",
      "box_style": "",
      "children": [
       "IPY_MODEL_616b81178d5d4ee388b8a846231271b2",
       "IPY_MODEL_fa895204feb646cea732bc7c1aa5cd1e",
       "IPY_MODEL_ad7ff1a363254ab2b3cb00f9f46d29b8"
      ],
      "layout": "IPY_MODEL_65f1f0ddf1b747bb848cabada62691cf"
     }
    },
    "a433f4402bf942988efcfc5f654627fe": {
     "model_module": "@jupyter-widgets/controls",
     "model_module_version": "1.5.0",
     "model_name": "HTMLModel",
     "state": {
      "_dom_classes": [],
      "_model_module": "@jupyter-widgets/controls",
      "_model_module_version": "1.5.0",
      "_model_name": "HTMLModel",
      "_view_count": null,
      "_view_module": "@jupyter-widgets/controls",
      "_view_module_version": "1.5.0",
      "_view_name": "HTMLView",
      "description": "",
      "description_tooltip": null,
      "layout": "IPY_MODEL_95471deeb1d9413a9c42129b271e180b",
      "placeholder": "​",
      "style": "IPY_MODEL_7453b22195094025bed1c131dbf49b91",
      "value": " 23/23 [00:22&lt;00:00,  1.07it/s]"
     }
    },
    "a843118c98604304bba67d5012d39173": {
     "model_module": "@jupyter-widgets/controls",
     "model_module_version": "1.5.0",
     "model_name": "ProgressStyleModel",
     "state": {
      "_model_module": "@jupyter-widgets/controls",
      "_model_module_version": "1.5.0",
      "_model_name": "ProgressStyleModel",
      "_view_count": null,
      "_view_module": "@jupyter-widgets/base",
      "_view_module_version": "1.2.0",
      "_view_name": "StyleView",
      "bar_color": null,
      "description_width": ""
     }
    },
    "a8c40d8324854e6da6d8d16544a86d89": {
     "model_module": "@jupyter-widgets/controls",
     "model_module_version": "1.5.0",
     "model_name": "HBoxModel",
     "state": {
      "_dom_classes": [],
      "_model_module": "@jupyter-widgets/controls",
      "_model_module_version": "1.5.0",
      "_model_name": "HBoxModel",
      "_view_count": null,
      "_view_module": "@jupyter-widgets/controls",
      "_view_module_version": "1.5.0",
      "_view_name": "HBoxView",
      "box_style": "",
      "children": [
       "IPY_MODEL_e8f99022db35453fb88d309094a7dd27",
       "IPY_MODEL_4063421363b14a91af84e09c659722ed",
       "IPY_MODEL_45ba4093e4bb4264b8e4d57ba7b83482"
      ],
      "layout": "IPY_MODEL_0598704daf75433f83622fa8dd5b78ad"
     }
    },
    "aa1520a8a4374192a72815267170d62a": {
     "model_module": "@jupyter-widgets/controls",
     "model_module_version": "1.5.0",
     "model_name": "HTMLModel",
     "state": {
      "_dom_classes": [],
      "_model_module": "@jupyter-widgets/controls",
      "_model_module_version": "1.5.0",
      "_model_name": "HTMLModel",
      "_view_count": null,
      "_view_module": "@jupyter-widgets/controls",
      "_view_module_version": "1.5.0",
      "_view_name": "HTMLView",
      "description": "",
      "description_tooltip": null,
      "layout": "IPY_MODEL_88fe19a5bd8c4e26ad6c66d0bd9cf414",
      "placeholder": "​",
      "style": "IPY_MODEL_73e7feddfc3e4bddac355fe93791246d",
      "value": " 116/116 [00:00&lt;00:00, 3.03kB/s]"
     }
    },
    "ab12e3fc27544e68821fb0f5ebc5b8e1": {
     "model_module": "@jupyter-widgets/base",
     "model_module_version": "1.2.0",
     "model_name": "LayoutModel",
     "state": {
      "_model_module": "@jupyter-widgets/base",
      "_model_module_version": "1.2.0",
      "_model_name": "LayoutModel",
      "_view_count": null,
      "_view_module": "@jupyter-widgets/base",
      "_view_module_version": "1.2.0",
      "_view_name": "LayoutView",
      "align_content": null,
      "align_items": null,
      "align_self": null,
      "border": null,
      "bottom": null,
      "display": null,
      "flex": null,
      "flex_flow": null,
      "grid_area": null,
      "grid_auto_columns": null,
      "grid_auto_flow": null,
      "grid_auto_rows": null,
      "grid_column": null,
      "grid_gap": null,
      "grid_row": null,
      "grid_template_areas": null,
      "grid_template_columns": null,
      "grid_template_rows": null,
      "height": null,
      "justify_content": null,
      "justify_items": null,
      "left": null,
      "margin": null,
      "max_height": null,
      "max_width": null,
      "min_height": null,
      "min_width": null,
      "object_fit": null,
      "object_position": null,
      "order": null,
      "overflow": null,
      "overflow_x": null,
      "overflow_y": null,
      "padding": null,
      "right": null,
      "top": null,
      "visibility": null,
      "width": null
     }
    },
    "abaffd82db5743a2b64457782728a0fc": {
     "model_module": "@jupyter-widgets/controls",
     "model_module_version": "1.5.0",
     "model_name": "HBoxModel",
     "state": {
      "_dom_classes": [],
      "_model_module": "@jupyter-widgets/controls",
      "_model_module_version": "1.5.0",
      "_model_name": "HBoxModel",
      "_view_count": null,
      "_view_module": "@jupyter-widgets/controls",
      "_view_module_version": "1.5.0",
      "_view_name": "HBoxView",
      "box_style": "",
      "children": [
       "IPY_MODEL_4eb4e12c184a4536a1dc357eecdf12ab",
       "IPY_MODEL_aff8127a90554389ae28ec43fafb982b",
       "IPY_MODEL_60f12f0e757e4343a4556407438b2879"
      ],
      "layout": "IPY_MODEL_26a26e0b644d49df81b105ff34955074"
     }
    },
    "ad7ff1a363254ab2b3cb00f9f46d29b8": {
     "model_module": "@jupyter-widgets/controls",
     "model_module_version": "1.5.0",
     "model_name": "HTMLModel",
     "state": {
      "_dom_classes": [],
      "_model_module": "@jupyter-widgets/controls",
      "_model_module_version": "1.5.0",
      "_model_name": "HTMLModel",
      "_view_count": null,
      "_view_module": "@jupyter-widgets/controls",
      "_view_module_version": "1.5.0",
      "_view_name": "HTMLView",
      "description": "",
      "description_tooltip": null,
      "layout": "IPY_MODEL_4b18e60511b64648b31d5271d340d72d",
      "placeholder": "​",
      "style": "IPY_MODEL_b174b3cf2ace4873a5ffaabd2687cbc7",
      "value": " 200/200 [03:09&lt;00:00,  1.00s/it]"
     }
    },
    "aff8127a90554389ae28ec43fafb982b": {
     "model_module": "@jupyter-widgets/controls",
     "model_module_version": "1.5.0",
     "model_name": "FloatProgressModel",
     "state": {
      "_dom_classes": [],
      "_model_module": "@jupyter-widgets/controls",
      "_model_module_version": "1.5.0",
      "_model_name": "FloatProgressModel",
      "_view_count": null,
      "_view_module": "@jupyter-widgets/controls",
      "_view_module_version": "1.5.0",
      "_view_name": "ProgressView",
      "bar_style": "success",
      "description": "",
      "description_tooltip": null,
      "layout": "IPY_MODEL_eda74830a51e404e80c0ef9f205a24a4",
      "max": 231508,
      "min": 0,
      "orientation": "horizontal",
      "style": "IPY_MODEL_28d9d622efda469abc870c01209b014a",
      "value": 231508
     }
    },
    "b01fc45fc6a546629ee142a4e6fb522f": {
     "model_module": "@jupyter-widgets/base",
     "model_module_version": "1.2.0",
     "model_name": "LayoutModel",
     "state": {
      "_model_module": "@jupyter-widgets/base",
      "_model_module_version": "1.2.0",
      "_model_name": "LayoutModel",
      "_view_count": null,
      "_view_module": "@jupyter-widgets/base",
      "_view_module_version": "1.2.0",
      "_view_name": "LayoutView",
      "align_content": null,
      "align_items": null,
      "align_self": null,
      "border": null,
      "bottom": null,
      "display": null,
      "flex": null,
      "flex_flow": null,
      "grid_area": null,
      "grid_auto_columns": null,
      "grid_auto_flow": null,
      "grid_auto_rows": null,
      "grid_column": null,
      "grid_gap": null,
      "grid_row": null,
      "grid_template_areas": null,
      "grid_template_columns": null,
      "grid_template_rows": null,
      "height": null,
      "justify_content": null,
      "justify_items": null,
      "left": null,
      "margin": null,
      "max_height": null,
      "max_width": null,
      "min_height": null,
      "min_width": null,
      "object_fit": null,
      "object_position": null,
      "order": null,
      "overflow": null,
      "overflow_x": null,
      "overflow_y": null,
      "padding": null,
      "right": null,
      "top": null,
      "visibility": null,
      "width": null
     }
    },
    "b174b3cf2ace4873a5ffaabd2687cbc7": {
     "model_module": "@jupyter-widgets/controls",
     "model_module_version": "1.5.0",
     "model_name": "DescriptionStyleModel",
     "state": {
      "_model_module": "@jupyter-widgets/controls",
      "_model_module_version": "1.5.0",
      "_model_name": "DescriptionStyleModel",
      "_view_count": null,
      "_view_module": "@jupyter-widgets/base",
      "_view_module_version": "1.2.0",
      "_view_name": "StyleView",
      "description_width": ""
     }
    },
    "b28160f707c341aeba8bbffcda9284ff": {
     "model_module": "@jupyter-widgets/base",
     "model_module_version": "1.2.0",
     "model_name": "LayoutModel",
     "state": {
      "_model_module": "@jupyter-widgets/base",
      "_model_module_version": "1.2.0",
      "_model_name": "LayoutModel",
      "_view_count": null,
      "_view_module": "@jupyter-widgets/base",
      "_view_module_version": "1.2.0",
      "_view_name": "LayoutView",
      "align_content": null,
      "align_items": null,
      "align_self": null,
      "border": null,
      "bottom": null,
      "display": null,
      "flex": null,
      "flex_flow": null,
      "grid_area": null,
      "grid_auto_columns": null,
      "grid_auto_flow": null,
      "grid_auto_rows": null,
      "grid_column": null,
      "grid_gap": null,
      "grid_row": null,
      "grid_template_areas": null,
      "grid_template_columns": null,
      "grid_template_rows": null,
      "height": null,
      "justify_content": null,
      "justify_items": null,
      "left": null,
      "margin": null,
      "max_height": null,
      "max_width": null,
      "min_height": null,
      "min_width": null,
      "object_fit": null,
      "object_position": null,
      "order": null,
      "overflow": null,
      "overflow_x": null,
      "overflow_y": null,
      "padding": null,
      "right": null,
      "top": null,
      "visibility": null,
      "width": null
     }
    },
    "b3168a5bc98e45389d8a46e3be274afe": {
     "model_module": "@jupyter-widgets/controls",
     "model_module_version": "1.5.0",
     "model_name": "HTMLModel",
     "state": {
      "_dom_classes": [],
      "_model_module": "@jupyter-widgets/controls",
      "_model_module_version": "1.5.0",
      "_model_name": "HTMLModel",
      "_view_count": null,
      "_view_module": "@jupyter-widgets/controls",
      "_view_module_version": "1.5.0",
      "_view_name": "HTMLView",
      "description": "",
      "description_tooltip": null,
      "layout": "IPY_MODEL_5e36e434fa934b4b94b91148f306c90b",
      "placeholder": "​",
      "style": "IPY_MODEL_f14ec96e506a4ac583e60f4d721d0198",
      "value": " 190/190 [00:00&lt;00:00, 1.79kB/s]"
     }
    },
    "b5d8b6daccf74a21b909ead940b43974": {
     "model_module": "@jupyter-widgets/base",
     "model_module_version": "1.2.0",
     "model_name": "LayoutModel",
     "state": {
      "_model_module": "@jupyter-widgets/base",
      "_model_module_version": "1.2.0",
      "_model_name": "LayoutModel",
      "_view_count": null,
      "_view_module": "@jupyter-widgets/base",
      "_view_module_version": "1.2.0",
      "_view_name": "LayoutView",
      "align_content": null,
      "align_items": null,
      "align_self": null,
      "border": null,
      "bottom": null,
      "display": null,
      "flex": null,
      "flex_flow": null,
      "grid_area": null,
      "grid_auto_columns": null,
      "grid_auto_flow": null,
      "grid_auto_rows": null,
      "grid_column": null,
      "grid_gap": null,
      "grid_row": null,
      "grid_template_areas": null,
      "grid_template_columns": null,
      "grid_template_rows": null,
      "height": null,
      "justify_content": null,
      "justify_items": null,
      "left": null,
      "margin": null,
      "max_height": null,
      "max_width": null,
      "min_height": null,
      "min_width": null,
      "object_fit": null,
      "object_position": null,
      "order": null,
      "overflow": null,
      "overflow_x": null,
      "overflow_y": null,
      "padding": null,
      "right": null,
      "top": null,
      "visibility": null,
      "width": null
     }
    },
    "b9d4b44409834fd7aa251a1fc4f096ab": {
     "model_module": "@jupyter-widgets/controls",
     "model_module_version": "1.5.0",
     "model_name": "HBoxModel",
     "state": {
      "_dom_classes": [],
      "_model_module": "@jupyter-widgets/controls",
      "_model_module_version": "1.5.0",
      "_model_name": "HBoxModel",
      "_view_count": null,
      "_view_module": "@jupyter-widgets/controls",
      "_view_module_version": "1.5.0",
      "_view_name": "HBoxView",
      "box_style": "",
      "children": [
       "IPY_MODEL_bf81eba91a4b4e968bcf5fc0cc842fb0",
       "IPY_MODEL_08a4c3a8e20340b6a34dcbb0d61d10ed",
       "IPY_MODEL_9033f8ef4868465da29999e7dfc7a388"
      ],
      "layout": "IPY_MODEL_bff76fd1e6b14542b009ffdb9f1d9623"
     }
    },
    "ba9e4a5c117d47aaad2b93eae9041b12": {
     "model_module": "@jupyter-widgets/base",
     "model_module_version": "1.2.0",
     "model_name": "LayoutModel",
     "state": {
      "_model_module": "@jupyter-widgets/base",
      "_model_module_version": "1.2.0",
      "_model_name": "LayoutModel",
      "_view_count": null,
      "_view_module": "@jupyter-widgets/base",
      "_view_module_version": "1.2.0",
      "_view_name": "LayoutView",
      "align_content": null,
      "align_items": null,
      "align_self": null,
      "border": null,
      "bottom": null,
      "display": null,
      "flex": null,
      "flex_flow": null,
      "grid_area": null,
      "grid_auto_columns": null,
      "grid_auto_flow": null,
      "grid_auto_rows": null,
      "grid_column": null,
      "grid_gap": null,
      "grid_row": null,
      "grid_template_areas": null,
      "grid_template_columns": null,
      "grid_template_rows": null,
      "height": null,
      "justify_content": null,
      "justify_items": null,
      "left": null,
      "margin": null,
      "max_height": null,
      "max_width": null,
      "min_height": null,
      "min_width": null,
      "object_fit": null,
      "object_position": null,
      "order": null,
      "overflow": null,
      "overflow_x": null,
      "overflow_y": null,
      "padding": null,
      "right": null,
      "top": null,
      "visibility": null,
      "width": null
     }
    },
    "baec7e2728d7452d9831897171772198": {
     "model_module": "@jupyter-widgets/controls",
     "model_module_version": "1.5.0",
     "model_name": "ProgressStyleModel",
     "state": {
      "_model_module": "@jupyter-widgets/controls",
      "_model_module_version": "1.5.0",
      "_model_name": "ProgressStyleModel",
      "_view_count": null,
      "_view_module": "@jupyter-widgets/base",
      "_view_module_version": "1.2.0",
      "_view_name": "StyleView",
      "bar_color": null,
      "description_width": ""
     }
    },
    "bbb61bb80090475c819bbf1320d632bd": {
     "model_module": "@jupyter-widgets/controls",
     "model_module_version": "1.5.0",
     "model_name": "HTMLModel",
     "state": {
      "_dom_classes": [],
      "_model_module": "@jupyter-widgets/controls",
      "_model_module_version": "1.5.0",
      "_model_name": "HTMLModel",
      "_view_count": null,
      "_view_module": "@jupyter-widgets/controls",
      "_view_module_version": "1.5.0",
      "_view_name": "HTMLView",
      "description": "",
      "description_tooltip": null,
      "layout": "IPY_MODEL_9c5a766bc02b40889eb9cc4bb5f4a5f5",
      "placeholder": "​",
      "style": "IPY_MODEL_32c4a6bdebfb468b985bc433569c52c1",
      "value": " 349/349 [00:00&lt;00:00, 4.91kB/s]"
     }
    },
    "bcb332c81cca4f3d9aafc1dbdbc25b95": {
     "model_module": "@jupyter-widgets/base",
     "model_module_version": "1.2.0",
     "model_name": "LayoutModel",
     "state": {
      "_model_module": "@jupyter-widgets/base",
      "_model_module_version": "1.2.0",
      "_model_name": "LayoutModel",
      "_view_count": null,
      "_view_module": "@jupyter-widgets/base",
      "_view_module_version": "1.2.0",
      "_view_name": "LayoutView",
      "align_content": null,
      "align_items": null,
      "align_self": null,
      "border": null,
      "bottom": null,
      "display": null,
      "flex": null,
      "flex_flow": null,
      "grid_area": null,
      "grid_auto_columns": null,
      "grid_auto_flow": null,
      "grid_auto_rows": null,
      "grid_column": null,
      "grid_gap": null,
      "grid_row": null,
      "grid_template_areas": null,
      "grid_template_columns": null,
      "grid_template_rows": null,
      "height": null,
      "justify_content": null,
      "justify_items": null,
      "left": null,
      "margin": null,
      "max_height": null,
      "max_width": null,
      "min_height": null,
      "min_width": null,
      "object_fit": null,
      "object_position": null,
      "order": null,
      "overflow": null,
      "overflow_x": null,
      "overflow_y": null,
      "padding": null,
      "right": null,
      "top": null,
      "visibility": null,
      "width": null
     }
    },
    "beb816d99f964d11adabaa6426615969": {
     "model_module": "@jupyter-widgets/controls",
     "model_module_version": "1.5.0",
     "model_name": "DescriptionStyleModel",
     "state": {
      "_model_module": "@jupyter-widgets/controls",
      "_model_module_version": "1.5.0",
      "_model_name": "DescriptionStyleModel",
      "_view_count": null,
      "_view_module": "@jupyter-widgets/base",
      "_view_module_version": "1.2.0",
      "_view_name": "StyleView",
      "description_width": ""
     }
    },
    "bf81eba91a4b4e968bcf5fc0cc842fb0": {
     "model_module": "@jupyter-widgets/controls",
     "model_module_version": "1.5.0",
     "model_name": "HTMLModel",
     "state": {
      "_dom_classes": [],
      "_model_module": "@jupyter-widgets/controls",
      "_model_module_version": "1.5.0",
      "_model_name": "HTMLModel",
      "_view_count": null,
      "_view_module": "@jupyter-widgets/controls",
      "_view_module_version": "1.5.0",
      "_view_name": "HTMLView",
      "description": "",
      "description_tooltip": null,
      "layout": "IPY_MODEL_22cda279e9c84c89b75d2fe32f5608d4",
      "placeholder": "​",
      "style": "IPY_MODEL_4a5e82449e874feba4cc5ca29f906699",
      "value": "Downloading: 100%"
     }
    },
    "bff76fd1e6b14542b009ffdb9f1d9623": {
     "model_module": "@jupyter-widgets/base",
     "model_module_version": "1.2.0",
     "model_name": "LayoutModel",
     "state": {
      "_model_module": "@jupyter-widgets/base",
      "_model_module_version": "1.2.0",
      "_model_name": "LayoutModel",
      "_view_count": null,
      "_view_module": "@jupyter-widgets/base",
      "_view_module_version": "1.2.0",
      "_view_name": "LayoutView",
      "align_content": null,
      "align_items": null,
      "align_self": null,
      "border": null,
      "bottom": null,
      "display": null,
      "flex": null,
      "flex_flow": null,
      "grid_area": null,
      "grid_auto_columns": null,
      "grid_auto_flow": null,
      "grid_auto_rows": null,
      "grid_column": null,
      "grid_gap": null,
      "grid_row": null,
      "grid_template_areas": null,
      "grid_template_columns": null,
      "grid_template_rows": null,
      "height": null,
      "justify_content": null,
      "justify_items": null,
      "left": null,
      "margin": null,
      "max_height": null,
      "max_width": null,
      "min_height": null,
      "min_width": null,
      "object_fit": null,
      "object_position": null,
      "order": null,
      "overflow": null,
      "overflow_x": null,
      "overflow_y": null,
      "padding": null,
      "right": null,
      "top": null,
      "visibility": null,
      "width": null
     }
    },
    "c444858873e041e49f82de4323f2e639": {
     "model_module": "@jupyter-widgets/base",
     "model_module_version": "1.2.0",
     "model_name": "LayoutModel",
     "state": {
      "_model_module": "@jupyter-widgets/base",
      "_model_module_version": "1.2.0",
      "_model_name": "LayoutModel",
      "_view_count": null,
      "_view_module": "@jupyter-widgets/base",
      "_view_module_version": "1.2.0",
      "_view_name": "LayoutView",
      "align_content": null,
      "align_items": null,
      "align_self": null,
      "border": null,
      "bottom": null,
      "display": null,
      "flex": null,
      "flex_flow": null,
      "grid_area": null,
      "grid_auto_columns": null,
      "grid_auto_flow": null,
      "grid_auto_rows": null,
      "grid_column": null,
      "grid_gap": null,
      "grid_row": null,
      "grid_template_areas": null,
      "grid_template_columns": null,
      "grid_template_rows": null,
      "height": null,
      "justify_content": null,
      "justify_items": null,
      "left": null,
      "margin": null,
      "max_height": null,
      "max_width": null,
      "min_height": null,
      "min_width": null,
      "object_fit": null,
      "object_position": null,
      "order": null,
      "overflow": null,
      "overflow_x": null,
      "overflow_y": null,
      "padding": null,
      "right": null,
      "top": null,
      "visibility": null,
      "width": null
     }
    },
    "c5c12fe257a64d3b82204c5e5f4f2e47": {
     "model_module": "@jupyter-widgets/base",
     "model_module_version": "1.2.0",
     "model_name": "LayoutModel",
     "state": {
      "_model_module": "@jupyter-widgets/base",
      "_model_module_version": "1.2.0",
      "_model_name": "LayoutModel",
      "_view_count": null,
      "_view_module": "@jupyter-widgets/base",
      "_view_module_version": "1.2.0",
      "_view_name": "LayoutView",
      "align_content": null,
      "align_items": null,
      "align_self": null,
      "border": null,
      "bottom": null,
      "display": null,
      "flex": null,
      "flex_flow": null,
      "grid_area": null,
      "grid_auto_columns": null,
      "grid_auto_flow": null,
      "grid_auto_rows": null,
      "grid_column": null,
      "grid_gap": null,
      "grid_row": null,
      "grid_template_areas": null,
      "grid_template_columns": null,
      "grid_template_rows": null,
      "height": null,
      "justify_content": null,
      "justify_items": null,
      "left": null,
      "margin": null,
      "max_height": null,
      "max_width": null,
      "min_height": null,
      "min_width": null,
      "object_fit": null,
      "object_position": null,
      "order": null,
      "overflow": null,
      "overflow_x": null,
      "overflow_y": null,
      "padding": null,
      "right": null,
      "top": null,
      "visibility": null,
      "width": null
     }
    },
    "c5cc0b26b41249b79833a2079425f8b9": {
     "model_module": "@jupyter-widgets/controls",
     "model_module_version": "1.5.0",
     "model_name": "HTMLModel",
     "state": {
      "_dom_classes": [],
      "_model_module": "@jupyter-widgets/controls",
      "_model_module_version": "1.5.0",
      "_model_name": "HTMLModel",
      "_view_count": null,
      "_view_module": "@jupyter-widgets/controls",
      "_view_module_version": "1.5.0",
      "_view_name": "HTMLView",
      "description": "",
      "description_tooltip": null,
      "layout": "IPY_MODEL_33aa560a3bab482dad0b8817b11e1bab",
      "placeholder": "​",
      "style": "IPY_MODEL_5517b5e4b8fa49f0b7d2f68f5ec66e08",
      "value": " 612/612 [00:00&lt;00:00, 8.62kB/s]"
     }
    },
    "c5e8275d9e1c407188b5d85e3961cb66": {
     "model_module": "@jupyter-widgets/controls",
     "model_module_version": "1.5.0",
     "model_name": "HBoxModel",
     "state": {
      "_dom_classes": [],
      "_model_module": "@jupyter-widgets/controls",
      "_model_module_version": "1.5.0",
      "_model_name": "HBoxModel",
      "_view_count": null,
      "_view_module": "@jupyter-widgets/controls",
      "_view_module_version": "1.5.0",
      "_view_name": "HBoxView",
      "box_style": "",
      "children": [
       "IPY_MODEL_f47c47bf944840eaa330a81a034ee34c",
       "IPY_MODEL_108c88aab6bc4df98641f55cb363e704",
       "IPY_MODEL_304cd8fba5f94c558e1243387100ca22"
      ],
      "layout": "IPY_MODEL_696fd86ab94f4f72bce1994bf2043419"
     }
    },
    "c94ab9a3841a4dc9aebd026cdd467f78": {
     "model_module": "@jupyter-widgets/controls",
     "model_module_version": "1.5.0",
     "model_name": "HTMLModel",
     "state": {
      "_dom_classes": [],
      "_model_module": "@jupyter-widgets/controls",
      "_model_module_version": "1.5.0",
      "_model_name": "HTMLModel",
      "_view_count": null,
      "_view_module": "@jupyter-widgets/controls",
      "_view_module_version": "1.5.0",
      "_view_name": "HTMLView",
      "description": "",
      "description_tooltip": null,
      "layout": "IPY_MODEL_77a1beeab6c947ba827bdb6b9f2da7ab",
      "placeholder": "​",
      "style": "IPY_MODEL_14647c88ff73427abef025f5236fac67",
      "value": "Downloading: 100%"
     }
    },
    "ca4d51ce566b4dff95398808f82d3f65": {
     "model_module": "@jupyter-widgets/controls",
     "model_module_version": "1.5.0",
     "model_name": "HBoxModel",
     "state": {
      "_dom_classes": [],
      "_model_module": "@jupyter-widgets/controls",
      "_model_module_version": "1.5.0",
      "_model_name": "HBoxModel",
      "_view_count": null,
      "_view_module": "@jupyter-widgets/controls",
      "_view_module_version": "1.5.0",
      "_view_name": "HBoxView",
      "box_style": "",
      "children": [
       "IPY_MODEL_9e18b6021d214ad69afed2f99eb68513",
       "IPY_MODEL_29023c2f5378478c922fce321c7c72c4",
       "IPY_MODEL_a433f4402bf942988efcfc5f654627fe"
      ],
      "layout": "IPY_MODEL_39a3cb333b8647da902ed4dae3c6a231"
     }
    },
    "cc875184f2b74ea1803cd351f7df0a88": {
     "model_module": "@jupyter-widgets/controls",
     "model_module_version": "1.5.0",
     "model_name": "ProgressStyleModel",
     "state": {
      "_model_module": "@jupyter-widgets/controls",
      "_model_module_version": "1.5.0",
      "_model_name": "ProgressStyleModel",
      "_view_count": null,
      "_view_module": "@jupyter-widgets/base",
      "_view_module_version": "1.2.0",
      "_view_name": "StyleView",
      "bar_color": null,
      "description_width": ""
     }
    },
    "ce1464ca1e50465695225aa296f8e4d6": {
     "model_module": "@jupyter-widgets/controls",
     "model_module_version": "1.5.0",
     "model_name": "DescriptionStyleModel",
     "state": {
      "_model_module": "@jupyter-widgets/controls",
      "_model_module_version": "1.5.0",
      "_model_name": "DescriptionStyleModel",
      "_view_count": null,
      "_view_module": "@jupyter-widgets/base",
      "_view_module_version": "1.2.0",
      "_view_name": "StyleView",
      "description_width": ""
     }
    },
    "d112f8bb4a6e4b89b47febdb0b38ad12": {
     "model_module": "@jupyter-widgets/controls",
     "model_module_version": "1.5.0",
     "model_name": "HTMLModel",
     "state": {
      "_dom_classes": [],
      "_model_module": "@jupyter-widgets/controls",
      "_model_module_version": "1.5.0",
      "_model_name": "HTMLModel",
      "_view_count": null,
      "_view_module": "@jupyter-widgets/controls",
      "_view_module_version": "1.5.0",
      "_view_name": "HTMLView",
      "description": "",
      "description_tooltip": null,
      "layout": "IPY_MODEL_5529e092f5a942788f3e368213892797",
      "placeholder": "​",
      "style": "IPY_MODEL_88db021f1b0f463ab7cc85fd1acef621",
      "value": "Downloading: 100%"
     }
    },
    "d5465638d2d74cbab9a7e4562264d041": {
     "model_module": "@jupyter-widgets/controls",
     "model_module_version": "1.5.0",
     "model_name": "DescriptionStyleModel",
     "state": {
      "_model_module": "@jupyter-widgets/controls",
      "_model_module_version": "1.5.0",
      "_model_name": "DescriptionStyleModel",
      "_view_count": null,
      "_view_module": "@jupyter-widgets/base",
      "_view_module_version": "1.2.0",
      "_view_name": "StyleView",
      "description_width": ""
     }
    },
    "d5a0fa3086774eedb678bc35086959d8": {
     "model_module": "@jupyter-widgets/base",
     "model_module_version": "1.2.0",
     "model_name": "LayoutModel",
     "state": {
      "_model_module": "@jupyter-widgets/base",
      "_model_module_version": "1.2.0",
      "_model_name": "LayoutModel",
      "_view_count": null,
      "_view_module": "@jupyter-widgets/base",
      "_view_module_version": "1.2.0",
      "_view_name": "LayoutView",
      "align_content": null,
      "align_items": null,
      "align_self": null,
      "border": null,
      "bottom": null,
      "display": null,
      "flex": null,
      "flex_flow": null,
      "grid_area": null,
      "grid_auto_columns": null,
      "grid_auto_flow": null,
      "grid_auto_rows": null,
      "grid_column": null,
      "grid_gap": null,
      "grid_row": null,
      "grid_template_areas": null,
      "grid_template_columns": null,
      "grid_template_rows": null,
      "height": null,
      "justify_content": null,
      "justify_items": null,
      "left": null,
      "margin": null,
      "max_height": null,
      "max_width": null,
      "min_height": null,
      "min_width": null,
      "object_fit": null,
      "object_position": null,
      "order": null,
      "overflow": null,
      "overflow_x": null,
      "overflow_y": null,
      "padding": null,
      "right": null,
      "top": null,
      "visibility": null,
      "width": null
     }
    },
    "d60c65e605284023b88397c2a776dbb1": {
     "model_module": "@jupyter-widgets/base",
     "model_module_version": "1.2.0",
     "model_name": "LayoutModel",
     "state": {
      "_model_module": "@jupyter-widgets/base",
      "_model_module_version": "1.2.0",
      "_model_name": "LayoutModel",
      "_view_count": null,
      "_view_module": "@jupyter-widgets/base",
      "_view_module_version": "1.2.0",
      "_view_name": "LayoutView",
      "align_content": null,
      "align_items": null,
      "align_self": null,
      "border": null,
      "bottom": null,
      "display": null,
      "flex": null,
      "flex_flow": null,
      "grid_area": null,
      "grid_auto_columns": null,
      "grid_auto_flow": null,
      "grid_auto_rows": null,
      "grid_column": null,
      "grid_gap": null,
      "grid_row": null,
      "grid_template_areas": null,
      "grid_template_columns": null,
      "grid_template_rows": null,
      "height": null,
      "justify_content": null,
      "justify_items": null,
      "left": null,
      "margin": null,
      "max_height": null,
      "max_width": null,
      "min_height": null,
      "min_width": null,
      "object_fit": null,
      "object_position": null,
      "order": null,
      "overflow": null,
      "overflow_x": null,
      "overflow_y": null,
      "padding": null,
      "right": null,
      "top": null,
      "visibility": null,
      "width": null
     }
    },
    "d8551d6f4bff4f75aff49de51d40f224": {
     "model_module": "@jupyter-widgets/controls",
     "model_module_version": "1.5.0",
     "model_name": "ProgressStyleModel",
     "state": {
      "_model_module": "@jupyter-widgets/controls",
      "_model_module_version": "1.5.0",
      "_model_name": "ProgressStyleModel",
      "_view_count": null,
      "_view_module": "@jupyter-widgets/base",
      "_view_module_version": "1.2.0",
      "_view_name": "StyleView",
      "bar_color": null,
      "description_width": ""
     }
    },
    "de939be2830142018632853d1c5e6ff1": {
     "model_module": "@jupyter-widgets/controls",
     "model_module_version": "1.5.0",
     "model_name": "HTMLModel",
     "state": {
      "_dom_classes": [],
      "_model_module": "@jupyter-widgets/controls",
      "_model_module_version": "1.5.0",
      "_model_name": "HTMLModel",
      "_view_count": null,
      "_view_module": "@jupyter-widgets/controls",
      "_view_module_version": "1.5.0",
      "_view_name": "HTMLView",
      "description": "",
      "description_tooltip": null,
      "layout": "IPY_MODEL_1be2c8190ac5484fb831e1bac37b0912",
      "placeholder": "​",
      "style": "IPY_MODEL_e8eeebe9d53d44a4ab7f9e0cf4b55027",
      "value": "Downloading: 100%"
     }
    },
    "e049958a36d64c8f96d1f8e85ddabc49": {
     "model_module": "@jupyter-widgets/controls",
     "model_module_version": "1.5.0",
     "model_name": "ProgressStyleModel",
     "state": {
      "_model_module": "@jupyter-widgets/controls",
      "_model_module_version": "1.5.0",
      "_model_name": "ProgressStyleModel",
      "_view_count": null,
      "_view_module": "@jupyter-widgets/base",
      "_view_module_version": "1.2.0",
      "_view_name": "StyleView",
      "bar_color": null,
      "description_width": ""
     }
    },
    "e106459f509d4252979800e96981f360": {
     "model_module": "@jupyter-widgets/controls",
     "model_module_version": "1.5.0",
     "model_name": "HBoxModel",
     "state": {
      "_dom_classes": [],
      "_model_module": "@jupyter-widgets/controls",
      "_model_module_version": "1.5.0",
      "_model_name": "HBoxModel",
      "_view_count": null,
      "_view_module": "@jupyter-widgets/controls",
      "_view_module_version": "1.5.0",
      "_view_name": "HBoxView",
      "box_style": "",
      "children": [
       "IPY_MODEL_f889ae5b545e49f98058f4e86fe70257",
       "IPY_MODEL_6c10f5cf7d494c07a847bae2165c3924",
       "IPY_MODEL_c5cc0b26b41249b79833a2079425f8b9"
      ],
      "layout": "IPY_MODEL_c5c12fe257a64d3b82204c5e5f4f2e47"
     }
    },
    "e14e8937e0a340719186ea03fc986246": {
     "model_module": "@jupyter-widgets/base",
     "model_module_version": "1.2.0",
     "model_name": "LayoutModel",
     "state": {
      "_model_module": "@jupyter-widgets/base",
      "_model_module_version": "1.2.0",
      "_model_name": "LayoutModel",
      "_view_count": null,
      "_view_module": "@jupyter-widgets/base",
      "_view_module_version": "1.2.0",
      "_view_name": "LayoutView",
      "align_content": null,
      "align_items": null,
      "align_self": null,
      "border": null,
      "bottom": null,
      "display": null,
      "flex": null,
      "flex_flow": null,
      "grid_area": null,
      "grid_auto_columns": null,
      "grid_auto_flow": null,
      "grid_auto_rows": null,
      "grid_column": null,
      "grid_gap": null,
      "grid_row": null,
      "grid_template_areas": null,
      "grid_template_columns": null,
      "grid_template_rows": null,
      "height": null,
      "justify_content": null,
      "justify_items": null,
      "left": null,
      "margin": null,
      "max_height": null,
      "max_width": null,
      "min_height": null,
      "min_width": null,
      "object_fit": null,
      "object_position": null,
      "order": null,
      "overflow": null,
      "overflow_x": null,
      "overflow_y": null,
      "padding": null,
      "right": null,
      "top": null,
      "visibility": null,
      "width": null
     }
    },
    "e1c9170de6a741ab91af71963b8372a9": {
     "model_module": "@jupyter-widgets/base",
     "model_module_version": "1.2.0",
     "model_name": "LayoutModel",
     "state": {
      "_model_module": "@jupyter-widgets/base",
      "_model_module_version": "1.2.0",
      "_model_name": "LayoutModel",
      "_view_count": null,
      "_view_module": "@jupyter-widgets/base",
      "_view_module_version": "1.2.0",
      "_view_name": "LayoutView",
      "align_content": null,
      "align_items": null,
      "align_self": null,
      "border": null,
      "bottom": null,
      "display": null,
      "flex": null,
      "flex_flow": null,
      "grid_area": null,
      "grid_auto_columns": null,
      "grid_auto_flow": null,
      "grid_auto_rows": null,
      "grid_column": null,
      "grid_gap": null,
      "grid_row": null,
      "grid_template_areas": null,
      "grid_template_columns": null,
      "grid_template_rows": null,
      "height": null,
      "justify_content": null,
      "justify_items": null,
      "left": null,
      "margin": null,
      "max_height": null,
      "max_width": null,
      "min_height": null,
      "min_width": null,
      "object_fit": null,
      "object_position": null,
      "order": null,
      "overflow": null,
      "overflow_x": null,
      "overflow_y": null,
      "padding": null,
      "right": null,
      "top": null,
      "visibility": null,
      "width": null
     }
    },
    "e29a91be14c0426caf4a1b789e47b57e": {
     "model_module": "@jupyter-widgets/base",
     "model_module_version": "1.2.0",
     "model_name": "LayoutModel",
     "state": {
      "_model_module": "@jupyter-widgets/base",
      "_model_module_version": "1.2.0",
      "_model_name": "LayoutModel",
      "_view_count": null,
      "_view_module": "@jupyter-widgets/base",
      "_view_module_version": "1.2.0",
      "_view_name": "LayoutView",
      "align_content": null,
      "align_items": null,
      "align_self": null,
      "border": null,
      "bottom": null,
      "display": null,
      "flex": null,
      "flex_flow": null,
      "grid_area": null,
      "grid_auto_columns": null,
      "grid_auto_flow": null,
      "grid_auto_rows": null,
      "grid_column": null,
      "grid_gap": null,
      "grid_row": null,
      "grid_template_areas": null,
      "grid_template_columns": null,
      "grid_template_rows": null,
      "height": null,
      "justify_content": null,
      "justify_items": null,
      "left": null,
      "margin": null,
      "max_height": null,
      "max_width": null,
      "min_height": null,
      "min_width": null,
      "object_fit": null,
      "object_position": null,
      "order": null,
      "overflow": null,
      "overflow_x": null,
      "overflow_y": null,
      "padding": null,
      "right": null,
      "top": null,
      "visibility": null,
      "width": null
     }
    },
    "e6d9f49c2612474081ac8e31b0ae4c29": {
     "model_module": "@jupyter-widgets/controls",
     "model_module_version": "1.5.0",
     "model_name": "HBoxModel",
     "state": {
      "_dom_classes": [],
      "_model_module": "@jupyter-widgets/controls",
      "_model_module_version": "1.5.0",
      "_model_name": "HBoxModel",
      "_view_count": null,
      "_view_module": "@jupyter-widgets/controls",
      "_view_module_version": "1.5.0",
      "_view_name": "HBoxView",
      "box_style": "",
      "children": [
       "IPY_MODEL_73c50bb92c0f444db40fafa2ab8a7639",
       "IPY_MODEL_28d62d8e469941449e7b3526d1894008",
       "IPY_MODEL_9c1004187cbb4987adecbe43df391152"
      ],
      "layout": "IPY_MODEL_f99d02b0167a4e8f8bbe4600a89f6afe"
     }
    },
    "e8eeebe9d53d44a4ab7f9e0cf4b55027": {
     "model_module": "@jupyter-widgets/controls",
     "model_module_version": "1.5.0",
     "model_name": "DescriptionStyleModel",
     "state": {
      "_model_module": "@jupyter-widgets/controls",
      "_model_module_version": "1.5.0",
      "_model_name": "DescriptionStyleModel",
      "_view_count": null,
      "_view_module": "@jupyter-widgets/base",
      "_view_module_version": "1.2.0",
      "_view_name": "StyleView",
      "description_width": ""
     }
    },
    "e8f99022db35453fb88d309094a7dd27": {
     "model_module": "@jupyter-widgets/controls",
     "model_module_version": "1.5.0",
     "model_name": "HTMLModel",
     "state": {
      "_dom_classes": [],
      "_model_module": "@jupyter-widgets/controls",
      "_model_module_version": "1.5.0",
      "_model_name": "HTMLModel",
      "_view_count": null,
      "_view_module": "@jupyter-widgets/controls",
      "_view_module_version": "1.5.0",
      "_view_name": "HTMLView",
      "description": "",
      "description_tooltip": null,
      "layout": "IPY_MODEL_872d45d7a2724f34a77ee23c3e39580c",
      "placeholder": "​",
      "style": "IPY_MODEL_7de58fe9ce1d45b781d19bcc3f893aab",
      "value": "Downloading: 100%"
     }
    },
    "e96015d89c964a4fae2156b9f737ef2d": {
     "model_module": "@jupyter-widgets/controls",
     "model_module_version": "1.5.0",
     "model_name": "HTMLModel",
     "state": {
      "_dom_classes": [],
      "_model_module": "@jupyter-widgets/controls",
      "_model_module_version": "1.5.0",
      "_model_name": "HTMLModel",
      "_view_count": null,
      "_view_module": "@jupyter-widgets/controls",
      "_view_module_version": "1.5.0",
      "_view_name": "HTMLView",
      "description": "",
      "description_tooltip": null,
      "layout": "IPY_MODEL_6630ef2709a646a0b50b0c1a13bd1f8e",
      "placeholder": "​",
      "style": "IPY_MODEL_71c2c71467ea47f08d78c1add0bbce84",
      "value": " 466k/466k [00:00&lt;00:00, 1.04MB/s]"
     }
    },
    "ec9dddba6c0c47fd96f9ec143dc11e58": {
     "model_module": "@jupyter-widgets/controls",
     "model_module_version": "1.5.0",
     "model_name": "ProgressStyleModel",
     "state": {
      "_model_module": "@jupyter-widgets/controls",
      "_model_module_version": "1.5.0",
      "_model_name": "ProgressStyleModel",
      "_view_count": null,
      "_view_module": "@jupyter-widgets/base",
      "_view_module_version": "1.2.0",
      "_view_name": "StyleView",
      "bar_color": null,
      "description_width": ""
     }
    },
    "eda74830a51e404e80c0ef9f205a24a4": {
     "model_module": "@jupyter-widgets/base",
     "model_module_version": "1.2.0",
     "model_name": "LayoutModel",
     "state": {
      "_model_module": "@jupyter-widgets/base",
      "_model_module_version": "1.2.0",
      "_model_name": "LayoutModel",
      "_view_count": null,
      "_view_module": "@jupyter-widgets/base",
      "_view_module_version": "1.2.0",
      "_view_name": "LayoutView",
      "align_content": null,
      "align_items": null,
      "align_self": null,
      "border": null,
      "bottom": null,
      "display": null,
      "flex": null,
      "flex_flow": null,
      "grid_area": null,
      "grid_auto_columns": null,
      "grid_auto_flow": null,
      "grid_auto_rows": null,
      "grid_column": null,
      "grid_gap": null,
      "grid_row": null,
      "grid_template_areas": null,
      "grid_template_columns": null,
      "grid_template_rows": null,
      "height": null,
      "justify_content": null,
      "justify_items": null,
      "left": null,
      "margin": null,
      "max_height": null,
      "max_width": null,
      "min_height": null,
      "min_width": null,
      "object_fit": null,
      "object_position": null,
      "order": null,
      "overflow": null,
      "overflow_x": null,
      "overflow_y": null,
      "padding": null,
      "right": null,
      "top": null,
      "visibility": null,
      "width": null
     }
    },
    "eea7f581d1ab450b94695fa5278cdb83": {
     "model_module": "@jupyter-widgets/controls",
     "model_module_version": "1.5.0",
     "model_name": "DescriptionStyleModel",
     "state": {
      "_model_module": "@jupyter-widgets/controls",
      "_model_module_version": "1.5.0",
      "_model_name": "DescriptionStyleModel",
      "_view_count": null,
      "_view_module": "@jupyter-widgets/base",
      "_view_module_version": "1.2.0",
      "_view_name": "StyleView",
      "description_width": ""
     }
    },
    "f14ec96e506a4ac583e60f4d721d0198": {
     "model_module": "@jupyter-widgets/controls",
     "model_module_version": "1.5.0",
     "model_name": "DescriptionStyleModel",
     "state": {
      "_model_module": "@jupyter-widgets/controls",
      "_model_module_version": "1.5.0",
      "_model_name": "DescriptionStyleModel",
      "_view_count": null,
      "_view_module": "@jupyter-widgets/base",
      "_view_module_version": "1.2.0",
      "_view_name": "StyleView",
      "description_width": ""
     }
    },
    "f1d0428f168a4fbe90719f43606a4f8b": {
     "model_module": "@jupyter-widgets/base",
     "model_module_version": "1.2.0",
     "model_name": "LayoutModel",
     "state": {
      "_model_module": "@jupyter-widgets/base",
      "_model_module_version": "1.2.0",
      "_model_name": "LayoutModel",
      "_view_count": null,
      "_view_module": "@jupyter-widgets/base",
      "_view_module_version": "1.2.0",
      "_view_name": "LayoutView",
      "align_content": null,
      "align_items": null,
      "align_self": null,
      "border": null,
      "bottom": null,
      "display": null,
      "flex": null,
      "flex_flow": null,
      "grid_area": null,
      "grid_auto_columns": null,
      "grid_auto_flow": null,
      "grid_auto_rows": null,
      "grid_column": null,
      "grid_gap": null,
      "grid_row": null,
      "grid_template_areas": null,
      "grid_template_columns": null,
      "grid_template_rows": null,
      "height": null,
      "justify_content": null,
      "justify_items": null,
      "left": null,
      "margin": null,
      "max_height": null,
      "max_width": null,
      "min_height": null,
      "min_width": null,
      "object_fit": null,
      "object_position": null,
      "order": null,
      "overflow": null,
      "overflow_x": null,
      "overflow_y": null,
      "padding": null,
      "right": null,
      "top": null,
      "visibility": null,
      "width": null
     }
    },
    "f47c47bf944840eaa330a81a034ee34c": {
     "model_module": "@jupyter-widgets/controls",
     "model_module_version": "1.5.0",
     "model_name": "HTMLModel",
     "state": {
      "_dom_classes": [],
      "_model_module": "@jupyter-widgets/controls",
      "_model_module_version": "1.5.0",
      "_model_name": "HTMLModel",
      "_view_count": null,
      "_view_module": "@jupyter-widgets/controls",
      "_view_module_version": "1.5.0",
      "_view_name": "HTMLView",
      "description": "",
      "description_tooltip": null,
      "layout": "IPY_MODEL_88f654ef74d04b379978c269de39aa3f",
      "placeholder": "​",
      "style": "IPY_MODEL_ce1464ca1e50465695225aa296f8e4d6",
      "value": "Downloading: 100%"
     }
    },
    "f50adc4ba23f450fac5bbead335e96f7": {
     "model_module": "@jupyter-widgets/base",
     "model_module_version": "1.2.0",
     "model_name": "LayoutModel",
     "state": {
      "_model_module": "@jupyter-widgets/base",
      "_model_module_version": "1.2.0",
      "_model_name": "LayoutModel",
      "_view_count": null,
      "_view_module": "@jupyter-widgets/base",
      "_view_module_version": "1.2.0",
      "_view_name": "LayoutView",
      "align_content": null,
      "align_items": null,
      "align_self": null,
      "border": null,
      "bottom": null,
      "display": null,
      "flex": null,
      "flex_flow": null,
      "grid_area": null,
      "grid_auto_columns": null,
      "grid_auto_flow": null,
      "grid_auto_rows": null,
      "grid_column": null,
      "grid_gap": null,
      "grid_row": null,
      "grid_template_areas": null,
      "grid_template_columns": null,
      "grid_template_rows": null,
      "height": null,
      "justify_content": null,
      "justify_items": null,
      "left": null,
      "margin": null,
      "max_height": null,
      "max_width": null,
      "min_height": null,
      "min_width": null,
      "object_fit": null,
      "object_position": null,
      "order": null,
      "overflow": null,
      "overflow_x": null,
      "overflow_y": null,
      "padding": null,
      "right": null,
      "top": null,
      "visibility": null,
      "width": null
     }
    },
    "f7fda472a4ab4c6f9a7944c2b2ffeba6": {
     "model_module": "@jupyter-widgets/controls",
     "model_module_version": "1.5.0",
     "model_name": "HBoxModel",
     "state": {
      "_dom_classes": [],
      "_model_module": "@jupyter-widgets/controls",
      "_model_module_version": "1.5.0",
      "_model_name": "HBoxModel",
      "_view_count": null,
      "_view_module": "@jupyter-widgets/controls",
      "_view_module_version": "1.5.0",
      "_view_name": "HBoxView",
      "box_style": "",
      "children": [
       "IPY_MODEL_c94ab9a3841a4dc9aebd026cdd467f78",
       "IPY_MODEL_75f314cbc8dc49dc86fdab20d0133903",
       "IPY_MODEL_bbb61bb80090475c819bbf1320d632bd"
      ],
      "layout": "IPY_MODEL_bcb332c81cca4f3d9aafc1dbdbc25b95"
     }
    },
    "f889ae5b545e49f98058f4e86fe70257": {
     "model_module": "@jupyter-widgets/controls",
     "model_module_version": "1.5.0",
     "model_name": "HTMLModel",
     "state": {
      "_dom_classes": [],
      "_model_module": "@jupyter-widgets/controls",
      "_model_module_version": "1.5.0",
      "_model_name": "HTMLModel",
      "_view_count": null,
      "_view_module": "@jupyter-widgets/controls",
      "_view_module_version": "1.5.0",
      "_view_name": "HTMLView",
      "description": "",
      "description_tooltip": null,
      "layout": "IPY_MODEL_4f68f27452154f2b95e0c33572b2d3a3",
      "placeholder": "​",
      "style": "IPY_MODEL_93a5a938fb9843b39fe3d6531b15f6a2",
      "value": "Downloading: 100%"
     }
    },
    "f99d02b0167a4e8f8bbe4600a89f6afe": {
     "model_module": "@jupyter-widgets/base",
     "model_module_version": "1.2.0",
     "model_name": "LayoutModel",
     "state": {
      "_model_module": "@jupyter-widgets/base",
      "_model_module_version": "1.2.0",
      "_model_name": "LayoutModel",
      "_view_count": null,
      "_view_module": "@jupyter-widgets/base",
      "_view_module_version": "1.2.0",
      "_view_name": "LayoutView",
      "align_content": null,
      "align_items": null,
      "align_self": null,
      "border": null,
      "bottom": null,
      "display": null,
      "flex": null,
      "flex_flow": null,
      "grid_area": null,
      "grid_auto_columns": null,
      "grid_auto_flow": null,
      "grid_auto_rows": null,
      "grid_column": null,
      "grid_gap": null,
      "grid_row": null,
      "grid_template_areas": null,
      "grid_template_columns": null,
      "grid_template_rows": null,
      "height": null,
      "justify_content": null,
      "justify_items": null,
      "left": null,
      "margin": null,
      "max_height": null,
      "max_width": null,
      "min_height": null,
      "min_width": null,
      "object_fit": null,
      "object_position": null,
      "order": null,
      "overflow": null,
      "overflow_x": null,
      "overflow_y": null,
      "padding": null,
      "right": null,
      "top": null,
      "visibility": null,
      "width": null
     }
    },
    "f9f5390e22c54c94973c46c2788a1cf5": {
     "model_module": "@jupyter-widgets/controls",
     "model_module_version": "1.5.0",
     "model_name": "DescriptionStyleModel",
     "state": {
      "_model_module": "@jupyter-widgets/controls",
      "_model_module_version": "1.5.0",
      "_model_name": "DescriptionStyleModel",
      "_view_count": null,
      "_view_module": "@jupyter-widgets/base",
      "_view_module_version": "1.2.0",
      "_view_name": "StyleView",
      "description_width": ""
     }
    },
    "fa895204feb646cea732bc7c1aa5cd1e": {
     "model_module": "@jupyter-widgets/controls",
     "model_module_version": "1.5.0",
     "model_name": "FloatProgressModel",
     "state": {
      "_dom_classes": [],
      "_model_module": "@jupyter-widgets/controls",
      "_model_module_version": "1.5.0",
      "_model_name": "FloatProgressModel",
      "_view_count": null,
      "_view_module": "@jupyter-widgets/controls",
      "_view_module_version": "1.5.0",
      "_view_name": "ProgressView",
      "bar_style": "success",
      "description": "",
      "description_tooltip": null,
      "layout": "IPY_MODEL_c444858873e041e49f82de4323f2e639",
      "max": 200,
      "min": 0,
      "orientation": "horizontal",
      "style": "IPY_MODEL_1a7ae7ed2dc24b5598b9e359328c42e7",
      "value": 200
     }
    },
    "fa9f468470f34091a9712dbdf492bde0": {
     "model_module": "@jupyter-widgets/controls",
     "model_module_version": "1.5.0",
     "model_name": "DescriptionStyleModel",
     "state": {
      "_model_module": "@jupyter-widgets/controls",
      "_model_module_version": "1.5.0",
      "_model_name": "DescriptionStyleModel",
      "_view_count": null,
      "_view_module": "@jupyter-widgets/base",
      "_view_module_version": "1.2.0",
      "_view_name": "StyleView",
      "description_width": ""
     }
    },
    "fc931161fee54cb2943c6b78e0551074": {
     "model_module": "@jupyter-widgets/controls",
     "model_module_version": "1.5.0",
     "model_name": "ProgressStyleModel",
     "state": {
      "_model_module": "@jupyter-widgets/controls",
      "_model_module_version": "1.5.0",
      "_model_name": "ProgressStyleModel",
      "_view_count": null,
      "_view_module": "@jupyter-widgets/base",
      "_view_module_version": "1.2.0",
      "_view_name": "StyleView",
      "bar_color": null,
      "description_width": ""
     }
    }
   }
  }
 },
 "nbformat": 4,
 "nbformat_minor": 1
}
